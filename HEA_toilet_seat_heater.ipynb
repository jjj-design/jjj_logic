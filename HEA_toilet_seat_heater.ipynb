{
 "cells": [
  {
   "cell_type": "code",
   "execution_count": 1,
   "metadata": {
    "collapsed": true
   },
   "outputs": [],
   "source": [
    "import numpy as np\n",
    "import pandas as pd\n",
    "import matplotlib.pyplot as plt"
   ]
  },
  {
   "cell_type": "markdown",
   "metadata": {},
   "source": [
    "# 家電  "
   ]
  },
  {
   "cell_type": "markdown",
   "metadata": {},
   "source": [
    "## 便座"
   ]
  },
  {
   "cell_type": "markdown",
   "metadata": {},
   "source": [
    "### 時刻別消費電力量\n",
    "$$\n",
    "E_{ Elc, toilet-seat-heater, d, t } =  P_{ Elc, toilet-seat-heater } \\times t_{ toilet-seat-heater, d, t } \\times 10^{ -3 }\n",
    "$$\n",
    "\n",
    "$ E_{ Elc, toilet-seat-heater, d, t } $：日付dの時刻tにおける消費電力量,kWh  \n",
    "$ P_{ Elc, toilet-seat-heater } $：便座暖房時の消費電力,W  \n",
    "$ t_{ toilet-seat-heater, d, t } $：日付dの時刻tにおける便座暖房時間,h  \n",
    "$ 10^{ -3 } $：単位換算,Wh -> kWh"
   ]
  },
  {
   "cell_type": "code",
   "execution_count": 2,
   "metadata": {
    "collapsed": true
   },
   "outputs": [],
   "source": [
    "def get_E_Elc_toilet_seat_heater_d_t(theta_ave_d, P_Elc_toilet_seat_heater_rtd, t_toilet_seat_heater_d_t):\n",
    "    \"\"\"時刻別消費電力量を計算する\n",
    "    \n",
    "    Parameters\n",
    "    ----------\n",
    "    theta_ave_d : float\n",
    "        日付dにおける平均外気温度（地域、季節によらず　11.23）, ℃\n",
    "\n",
    "    P_Elc_toilet_seat_heater_rtd : float\n",
    "        便座暖房時の定格消費電力, W\n",
    "        \n",
    "    t_toilet_seat_heater_d_t : ndarray(N-dimensional array)\n",
    "        1年間の全時間の暖房時間を格納したND配列, h\n",
    "        d日t時の暖房時間が年開始時から8760個連続して格納されている\n",
    "    \n",
    "    Returns\n",
    "    ----------\n",
    "    E_Elc_toilet_seat_heater_d_t : ndarray(N-dimensional array)\n",
    "        1年間の全時間の消費電力量を格納したND配列, Wh\n",
    "        d日t時の消費電力量が年開始時から8760個連続して格納されている\n",
    "    \"\"\"\n",
    "    \n",
    "    P_Elc_toilet_seat_heater = get_P_Elc_toilet_seat_heater(theta_ave_d, P_Elc_toilet_seat_heater_rtd)\n",
    "    \n",
    "    E_Elc_toilet_seat_heater_d_t = P_Elc_toilet_seat_heater * t_toilet_seat_heater_d_t\n",
    "    E_Elc_toilet_seat_heater_d_t = E_Elc_toilet_seat_heater_d_t * 10**(-3)\n",
    "    \n",
    "    return E_Elc_toilet_seat_heater_d_t"
   ]
  },
  {
   "cell_type": "markdown",
   "metadata": {},
   "source": [
    "### 動作別の消費電力"
   ]
  },
  {
   "cell_type": "markdown",
   "metadata": {},
   "source": [
    "#### 暖房時の消費電力  \n",
    "$$\n",
    "P_{ Elc, toilet-seat-heater } = \\frac{ E_{ Elc, toilet-seat-heater, d } }{ 24 \\times 1 }　\n",
    "$$\n",
    "$$\n",
    "E_{ Elc, toilet-seat-heater, d } = -20.01 \\times \\theta_{ toilet, ave, d } + 922.4 \\times \\frac{ P_{ Elc, toilet-seat-heater, rtd } }{ 45 }\n",
    "$$\n",
    "$$\n",
    "\\theta_{ toilet, ave, d } = 0.4984 \\times \\theta_{ oa, ave, d } + 13.427\n",
    "$$\n",
    "\n",
    "$ E_{ Elc, toilet-seat-heater, d } $：日付dにおける便座暖房の消費電力量,Wh  \n",
    "$ \\theta_{ toilet, ave, d } $：日付dにおける便所の平均温度,℃  \n",
    "$ P_{ Elc, toilet-seat-heater, rtd } $：便座暖房の定格消費電力,W  \n",
    "$ \\theta_{ oa, ave, d } $:日付dにおける平均外気温度（ 地域、季節に依らず 11.23）,℃  \n",
    "$ 24 $ ：24時間（日積算電力量を時刻別電力量にに換算するための数値）,時/日  \n",
    "$ 1 $：1時間（消費電力量を消費電力に換算するための数値）,h"
   ]
  },
  {
   "cell_type": "code",
   "execution_count": 3,
   "metadata": {
    "collapsed": true
   },
   "outputs": [],
   "source": [
    "def get_P_Elc_toilet_seat_heater(theta_ave_d, P_Elc_toilet_seat_heater_rtd):\n",
    "    \"\"\"暖房時の消費電力を計算する\n",
    "    \n",
    "    Parameters\n",
    "    ----------\n",
    "    theta_ave_d : float\n",
    "        日付dにおける平均外気温度（地域、季節によらず　11.23）, ℃\n",
    "\n",
    "    P_Elc_toilet_seat_heater_rtd : float\n",
    "        便座暖房時の定格消費電力, W\n",
    "        \n",
    "    Returns\n",
    "    ----------\n",
    "    P_Elc_toilet_seat_heater : float\n",
    "        便座暖房時の消費電力, W\n",
    "    \"\"\"\n",
    "    theata_toilet_ave_d = 0.4984 * theta_ave_d + 13.427\n",
    "    \n",
    "    \n",
    "    # E_Elc_toilet_seat_heater_d = -20.01 * theata_toilet_ave_d \\\n",
    "    #                            + 922.4 * P_Elc_toilet_seat_heater_rtd / 45\n",
    "    \n",
    "    E_Elc_toilet_seat_heater_d = -20.1 * theata_toilet_ave_d \\\n",
    "                               + 922.4 * P_Elc_toilet_seat_heater_rtd / 45\n",
    "    \n",
    "    P_Elc_toilet_seat_heater = E_Elc_toilet_seat_heater_d / (24 * 1)\n",
    "\n",
    "        \n",
    "    return P_Elc_toilet_seat_heater"
   ]
  },
  {
   "cell_type": "markdown",
   "metadata": {},
   "source": [
    "## サンプル計算"
   ]
  },
  {
   "cell_type": "markdown",
   "metadata": {},
   "source": [
    "### 家電スケジュールの読み込み\n",
    "ここでは、サンプルデータをcsvファイルから読み込む"
   ]
  },
  {
   "cell_type": "code",
   "execution_count": 4,
   "metadata": {
    "collapsed": true
   },
   "outputs": [],
   "source": [
    "def import_schedule_1_d_t() -> np.ndarray:\n",
    "    \"\"\"家電スケジュールを外部CSVファイルからND配列に読み込む\n",
    "    \n",
    "    Returns\n",
    "    ----------\n",
    "    E_Elc_tv_led_d_t : ndarray(N-dimensional array)\n",
    "        1年間の全時間の家電スケジュールを格納したND配列\n",
    "        d日t時の家電スケジュールが年開始時から8760個連続して格納されている\n",
    "    \"\"\"\n",
    "    \n",
    "    df = pd.read_csv('HEA_schedule_sample.csv', encoding='SHIFT_JIS')\n",
    "    ds = df['便座_4人世帯_暖房']\n",
    "    schedule_1_d_t = ds.values\n",
    "    return schedule_1_d_t"
   ]
  },
  {
   "cell_type": "markdown",
   "metadata": {},
   "source": [
    "#### 暖房時の消費電力"
   ]
  },
  {
   "cell_type": "code",
   "execution_count": 5,
   "metadata": {},
   "outputs": [
    {
     "data": {
      "text/plain": [
       "22.500706533333332"
      ]
     },
     "execution_count": 5,
     "metadata": {},
     "output_type": "execute_result"
    }
   ],
   "source": [
    "get_P_Elc_toilet_seat_heater(11.23, 45)"
   ]
  },
  {
   "cell_type": "markdown",
   "metadata": {},
   "source": [
    "### 時刻別消費電力量"
   ]
  },
  {
   "cell_type": "code",
   "execution_count": 6,
   "metadata": {},
   "outputs": [
    {
     "data": {
      "image/png": "[encoded data removed]",
      "text/plain": [
       "<matplotlib.figure.Figure at 0x25c1ee50b00>"
      ]
     },
     "metadata": {},
     "output_type": "display_data"
    }
   ],
   "source": [
    "t_toilet_seat_heater_d_t = import_schedule_1_d_t()\n",
    "\n",
    "x = np.arange(8760)\n",
    "y = get_E_Elc_toilet_seat_heater_d_t(11.23, 45, t_toilet_seat_heater_d_t)\n",
    "\n",
    "plt.figure(figsize=(9,2))\n",
    "plt.subplot(1,1,1)\n",
    "plt.plot(x, y, label=\"w\")\n",
    "\n",
    "plt.grid(True)\n",
    "\n",
    "plt.title(\"hours/w\")\n",
    "plt.xlabel(\"hours\")\n",
    "plt.ylabel(\"w\")\n",
    "\n",
    "plt.xlim(0,8760)\n",
    "plt.ylim(0,)\n",
    "\n",
    "plt.legend()\n",
    "plt.show()"
   ]
  },
  {
   "cell_type": "markdown",
   "metadata": {},
   "source": [
    "### 省エネ基準との比較用時刻別消費電力量の書き出し"
   ]
  },
  {
   "cell_type": "code",
   "execution_count": 7,
   "metadata": {
    "collapsed": true
   },
   "outputs": [],
   "source": [
    "t_toilet_seat_heater_d_t = import_schedule_1_d_t()\n",
    "\n",
    "dat = get_E_Elc_toilet_seat_heater_d_t(11.23, 45, t_toilet_seat_heater_d_t)\n",
    "\n",
    "np.savetxt('tmp.csv',dat,delimiter=',',fmt = \" %s \")"
   ]
  }
 ],
 "metadata": {
  "kernelspec": {
   "display_name": "Python 3",
   "language": "python",
   "name": "python3"
  },
  "language_info": {
   "codemirror_mode": {
    "name": "ipython",
    "version": 3
   },
   "file_extension": ".py",
   "mimetype": "text/x-python",
   "name": "python",
   "nbconvert_exporter": "python",
   "pygments_lexer": "ipython3",
   "version": "3.6.3"
  }
 },
 "nbformat": 4,
 "nbformat_minor": 2
}
