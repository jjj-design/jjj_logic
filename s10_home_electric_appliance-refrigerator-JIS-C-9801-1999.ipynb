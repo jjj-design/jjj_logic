{
 "cells": [
  {
   "cell_type": "code",
   "execution_count": 1,
   "metadata": {},
   "outputs": [],
   "source": [
    "import numpy as np\n",
    "import math\n",
    "\n",
    "import pandas as pd   # csvファイルを読み込み、ndarrayに変換するために必要なる。"
   ]
  },
  {
   "cell_type": "markdown",
   "metadata": {},
   "source": [
    "# 冷蔵庫　JIS C 9801：1999準拠APF"
   ]
  },
  {
   "cell_type": "markdown",
   "metadata": {},
   "source": [
    "## 1. 定義"
   ]
  },
  {
   "cell_type": "markdown",
   "metadata": {},
   "source": [
    "冷蔵庫　JIS C 9801:1999準拠APFは、APFをJIS C 9801:1999で測定した家庭用冷蔵庫である。  \n",
    "家庭用冷蔵庫は「　　」である。"
   ]
  },
  {
   "cell_type": "markdown",
   "metadata": {},
   "source": [
    "## 2. 年間消費電力量"
   ]
  },
  {
   "cell_type": "markdown",
   "metadata": {},
   "source": [
    "年間消費電量$E_{ elc, y }$は年開始日から年終了日までの時刻別消費電力量の積算値である。\n",
    "\n",
    "$$\n",
    "E_{ elc, y } = \\sum_{ d = 1 }^{ 365 } \\sum_{ t = 1 }^{ 24 } E_{ elc, d, t }\n",
    "$$\n",
    "\n",
    "$E_{ elc, y }$ :年間(<u>y</u>early)消費電力量(<u>ele</u>ctric <u>E</u>nergy) [Wh]  \n",
    "$E_{ elc, d, t }$ :$d$日$t$時の消費電力量 [Wh]  "
   ]
  },
  {
   "cell_type": "code",
   "execution_count": 2,
   "metadata": {},
   "outputs": [],
   "source": [
    "def calc_E_elc_y(theta_ext_d, Q, central_heating_exists, APF, P_elc_htr_rtd, R_rfrg_d_t, R_dfrs_d_t):\n",
    "    \"\"\"時刻別消費電力量から年間消費電力量を計算する\n",
    "    \n",
    "    Parameters\n",
    "    ----------\n",
    "    theata_ext_d : ndarray(N-dimensional array)\n",
    "        日別の平均外気温度[℃]を格納したND配列\n",
    "        d日の平均外気温度[℃]が年開始日から365個連続して格納されている\n",
    "    \n",
    "    Q : float\n",
    "        住宅の熱損失係数 [W/(m^2・K)] \n",
    "    \n",
    "    central_heating_exists : bool\n",
    "        住宅の暖房方式（True:全館連続暖房, False:居室間歇暖房）\n",
    "        \n",
    "    APF : float\n",
    "        通年エネルギー消費効率(APF = Annual Perfromance Factor)\n",
    "    \n",
    "    P_elc_htr_rtd : float\n",
    "        除霜用電熱器の定格消費電力[W]\n",
    "        \n",
    "    R_rfrg_d_t : ndarray(N-dimensional array)\n",
    "        冷蔵の時刻別占有率を格納したND配列\n",
    "        d日t時の冷蔵の占有率[-]が年開始時から8760個連続して格納されている\n",
    "\n",
    "    R_dfrs_d_t : ndarray(N-dimensional array)\n",
    "        除霜の時刻別占有率を格納したND配列\n",
    "        d日t時の除霜の占有率[-]が年開始時から8760個連続して格納されている\n",
    "    \n",
    "    Returns\n",
    "    ----------\n",
    "    E_elc_y : float\n",
    "        年間消費電力量[Wh]\n",
    "    \"\"\"\n",
    "    \n",
    "    # 時刻別消費電力量を計算する\n",
    "    E_elc_d_t = calc_E_elc_d_t(theta_ext_d, Q, central_heating_exists, APF, P_elc_htr_rtd, R_rfrg_d_t, R_dfrs_d_t)\n",
    "    \n",
    "    # 年間費電力量を計算する\n",
    "    E_elc_y = np.sum(E_elc_d_t)\n",
    "    \n",
    "    return E_elc_y"
   ]
  },
  {
   "cell_type": "markdown",
   "metadata": {},
   "source": [
    "## 3. 時刻別消費電力量"
   ]
  },
  {
   "cell_type": "markdown",
   "metadata": {},
   "source": [
    "時刻別消費電力量$E_{ elc, d, t }$  は冷蔵電力$P_{ rfrg, d, t }$に1時間当たりの冷蔵使用率$R_{ rfrg, d, t }$を掛けた値とと除霜電力$P_{ dfrs, d, t }$に1時間当たりの除霜使用率$R_{ dfrs, d, t }$を掛けた値の合計値である。\n",
    "\n",
    "$$\n",
    "E_{ elc, d, t } = P_{ rfrg, d, t } \\times R_{ rfrg, d, t } + P_{ dfrs, d, t } \\times R_{ dfrs, d, t }\n",
    "$$\n",
    "\n",
    "$P_{ rfrg, d, t }$ :$d$日$t$時の冷蔵電力 [W]  \n",
    "$R_{ rfrg, d, t }$ :$d$日$t$時における冷蔵の占める割合 [-]  \n",
    "$P_{ dfrs, d, t }$ :$d$日$t$時の除霜電力 [W]  \n",
    "$R_{ dfrs, d, t }$ :$d$日$t$時における除霜の占める割合 [-]  "
   ]
  },
  {
   "cell_type": "code",
   "execution_count": 3,
   "metadata": {},
   "outputs": [],
   "source": [
    "def calc_E_elc_d_t(theta_ext_d, Q, central_heating_exists, APF, P_elc_htr_rtd, R_rfrg_d_t, R_dfrs_d_t):\n",
    "    \"\"\"時刻別消費電力量を計算する\n",
    "    \n",
    "    Parameters\n",
    "    ----------\n",
    "    theata_ext_d : ndarray(N-dimensional array)\n",
    "        日別の平均外気温度[℃]を格納したND配列\n",
    "        d日の平均外気温度[℃]が年開始日から365個連続して格納されている\n",
    "    \n",
    "    Q : float\n",
    "        住宅の熱損失係数 [W/(m^2・K)] \n",
    "    \n",
    "    central_heating_exists : bool\n",
    "        住宅の暖房方式（True:全館連続暖房, False:居室間歇暖房）\n",
    "        \n",
    "    APF : float\n",
    "        通年エネルギー消費効率(APF = Annual Perfromance Factor)\n",
    "    \n",
    "    P_elc_htr_rtd : float\n",
    "        除霜用電熱器の定格消費電力[W]\n",
    "        \n",
    "    R_rfrg_d_t : ndarray(N-dimensional array)\n",
    "        冷蔵の時刻別占有率を格納したND配列\n",
    "        d日t時の冷蔵の占有率[-]が年開始時から8760個連続して格納されている\n",
    "\n",
    "    R_dfrs_d_t : ndarray(N-dimensional array)\n",
    "        除霜の時刻別占有率を格納したND配列\n",
    "        d日t時の除霜の占有率[-]が年開始時から8760個連続して格納されている\n",
    "    \n",
    "    Returns\n",
    "    ----------\n",
    "    E_elc_d_t : ndarray(N-dimensional array)\n",
    "        1年間の全時間の消費電力量[Wh]を格納したND配列\n",
    "        d日t時の消費電力[W]が年開始時から8760個連続して格納されている\n",
    "    \"\"\"\n",
    "    \n",
    "    # 冷蔵の時刻別電力を計算する\n",
    "    P_elc_rfrg_d_t = calc_P_elc_rfrg_d_t(theta_ext_d, Q, central_heating_exists, APF, P_elc_htr_rtd)\n",
    "\n",
    "    # 除霜の時刻別電力を取得する（計算calcと取得getの定義を再確認する->2019.04.04打ち合わせ）\n",
    "    P_elc_dfrs_d_t = get_P_elc_dfrs_d_t(P_elc_htr_rtd)\n",
    "    \n",
    "    # 冷蔵庫の時刻別消費電力を計算する\n",
    "    E_elc_d_t = P_elc_rfrg_d_t * R_rfrg_d_t + P_elc_dfrs_d_t * R_dfrs_d_t\n",
    "    \n",
    "    return E_elc_d_t"
   ]
  },
  {
   "cell_type": "markdown",
   "metadata": {},
   "source": [
    "## 4. 電力"
   ]
  },
  {
   "cell_type": "markdown",
   "metadata": {},
   "source": [
    "### 4.1. 冷蔵の時刻別電力"
   ]
  },
  {
   "cell_type": "markdown",
   "metadata": {},
   "source": [
    "$d$日$t$時の冷蔵電力$P_{ elc, rfrg, d, t }$は$d$日の冷蔵庫の推定消費電力量$E_{ elc, rfrg, est, d }$から除霜運転の消費電力量を引いた値を冷蔵運転時間で除した値である。  \n",
    "ただし、1日当たりの除霜運転は2時間とする。\n",
    "\n",
    "$$\n",
    "P_{ elc, rfrg, d, t } = \\frac{ E_{ elc, rfrg, est, d } - P_{ elc, dfrs, d, t } \\times hr_{ dfrs }}{ 24 - hr_{ dfrs } }  \n",
    "$$  \n",
    "\n",
    "$E_{elc,est,d}$ :$d$日の冷蔵庫の推定(<u>est</u>imated)消費電力量 [Wh/d]  \n",
    "$hr_{dfrs}$ :1日当たりの除霜運転の時間 (= 2) [h/d]  \n",
    "\n",
    "ここで、$d$日の1日当たりの冷蔵庫の推定消費電力量$E_{elc,est,d}$は冷蔵庫の年間消費電力量と冷蔵庫周辺空気の日平均温度を説明変数とした推定値である。 \n",
    "\n",
    "$$\n",
    "E_{ elc, rfrg, est, d } = [(3.283 \\times 10^{-3} -2.0 \\times 10^{-6} \\times APF)\n",
    "\\times (\\theta_{ amb, est, d }^{2} - 30 \\times \\theta_{ amb, est, d }) + 1.85 \\times 10^{-3} \\times APF + 1.329 ] \\times 10^{3}\n",
    "$$  \n",
    "\n",
    "\n",
    "$APF$ :通年エネルギー消費効率[-]  \n",
    "$\\theta_{ amb, est, d }$ :$d$日の冷蔵庫周辺空気(<u>amb</u>ient air)の推定温度 [℃]  \n",
    "\n",
    "ただし、$d$日の冷蔵庫周辺空気の推定温度は日平均外気温度$\\theta_{ext,d}$と住宅の熱損失係数$Q$を説明変数とした推定値とする。  \n",
    "\n",
    "$$\n",
    "\\theta_{ amb, est, d } =\n",
    "\\begin{cases}\n",
    "(0.0480 \\times Q + 0.3666) \\times \\theta_{ ext, d } + (-1.2435 \\times Q + 18.82) & ,居室間歇暖房時 \\\\\n",
    "(0.0604 \\times Q + 0.3668) \\times \\theta_{ ext, d } + (-1.6265 \\times Q + 19.99) & ,全館連続暖房時 \\\\\n",
    "\\end{cases}\n",
    "$$\n",
    "\n",
    "$\\theta_{ ext, d }$ :$d$日の日平均外気(<u>ext</u>ernal air)温度 [℃]  \n",
    "$Q$ :住宅の熱損失係数 [W/(m<sup>2</sup>・K)]  \n",
    "\n"
   ]
  },
  {
   "cell_type": "code",
   "execution_count": 4,
   "metadata": {
    "collapsed": true
   },
   "outputs": [],
   "source": [
    "def calc_P_elc_rfrg_d_t(theta_ext_d, Q, central_heating_exists, APF, P_elc_htr_rtd):\n",
    "    \"\"\"冷蔵の時刻別電力を計算する\n",
    "    \n",
    "    Parameters\n",
    "    ----------\n",
    "    theata_ext_d : ndarray(N-dimensional array)\n",
    "        日別の平均外気温度[℃]を格納したND配列\n",
    "        d日の平均外気温度[℃]が年開始日から365個連続して格納されている\n",
    "    \n",
    "    Q : float\n",
    "        住宅の熱損失係数 [W/(m^2・K)] \n",
    "    \n",
    "    central_heating_exists : bool\n",
    "        住宅の暖房方式（True:全館連続暖房, False:居室間歇暖房）\n",
    "        \n",
    "    APF : float\n",
    "        通年エネルギー消費効率(APF = Annual Perfromance Factor)\n",
    "    \n",
    "    P_elc_htr_rtd : float\n",
    "        除霜用電熱器の定格消費電力[W]\n",
    "    \n",
    "    Returns\n",
    "    ----------\n",
    "    P_rfrg_d_t : ndarray(N-dimensional array)\n",
    "        冷蔵の時刻別電力[W]を格納したND配列\n",
    "        d日t時の電力[W]が年開始時から8760個連続して格納されている\n",
    "    \"\"\"\n",
    "    \n",
    "    # 冷蔵の日別推定消費電力量を取得する\n",
    "    theta_amb_est_d = get_theta_amb_est_d(theta_ext_d, Q, central_heating_exists) # theta_amb_est_dを求める過程で暖房方式が指定されるのは、現時点では仕方ないが、煩雑に思われる。  \n",
    "    E_elc_rfrg_est_d = get_E_elc_rfrg_est_d(APF, theta_amb_est_d) # 冷蔵庫の推定消費電力はJIS基準での1日別消費電力に直すべき。\n",
    "    \n",
    "    # 除霜の時刻別電力を取得する\n",
    "    P_elc_dfrs_d_t = get_P_elc_dfrs_d_t(P_elc_htr_rtd)\n",
    "    \n",
    "    HOURS_OF_DEFROST = 2 # 1日当たりの除霜運転の時間[h/d]\n",
    "\n",
    "    # 冷蔵の時刻別電力を計算する\n",
    "    P_elc_rfrg_d_t = np.zeros(8760)\n",
    "    \n",
    "        # forを使わずに済む方法はないだろうか？（2019.04.03 峰野＠AES）\n",
    "    for d in range(365):\n",
    "        for h in range(24):\n",
    "            i = d *24 + h\n",
    "            P_elc_rfrg_d_t[i] =  (E_elc_rfrg_est_d[d] - P_elc_dfrs_d_t[i] * HOURS_OF_DEFROST) / (24 - HOURS_OF_DEFROST)\n",
    "\n",
    "    return P_elc_rfrg_d_t"
   ]
  },
  {
   "cell_type": "code",
   "execution_count": 5,
   "metadata": {
    "collapsed": true
   },
   "outputs": [],
   "source": [
    "def get_theta_amb_est_d(theta_ext_d, Q, central_heating_exists):\n",
    "    \"\"\"冷蔵庫周辺空気の推定空気温度を取得する\n",
    "    \n",
    "    Parameters\n",
    "    ----------\n",
    "    theata_ext_d : ndarray(N-dimensional array)\n",
    "        日別の平均外気温度[℃]を格納したND配列\n",
    "        d日の平均外気温度[℃]が年開始日から365個連続して格納されている\n",
    "    \n",
    "    Q : float\n",
    "        住宅の熱損失係数 [W/(m^2・K)] \n",
    "    \n",
    "    central_heating_exists : bool\n",
    "        住宅の暖房方式（True:全館連続暖房, False:居室間歇暖房）\n",
    "    \n",
    "    Returns\n",
    "    ----------\n",
    "    theata_amb_est_d : ndarray(N-dimensional array)\n",
    "        日別の冷蔵庫周辺空気の推定温度[℃]を格納したND配列\n",
    "        d日の冷蔵庫周辺空気の推定温度[℃]が年開始日から365個連続して格納されている\n",
    "    \"\"\"\n",
    "    # 冷蔵庫周辺空気を暖房方式別に推定する\n",
    "    if central_heating_exists == False: # 居室間歇暖房\n",
    "        theta_amb_est_d = (0.0480 * Q + 0.3666) * theta_ext_d + (-1.2435 * Q + 18.82)\n",
    "    else: # 全館連続暖房\n",
    "        theta_amb_est_d = (0.0604 * Q + 0.3668) * theta_ext_d + (-1.6265 * Q + 19.99)\n",
    "    \n",
    "    return theta_amb_est_d"
   ]
  },
  {
   "cell_type": "code",
   "execution_count": 6,
   "metadata": {
    "collapsed": true
   },
   "outputs": [],
   "source": [
    "def get_E_elc_rfrg_est_d(APF, theta_amb_est_d):\n",
    "    \"\"\"冷蔵の日別推定消費電力量を取得する\n",
    "    \n",
    "    Parameters\n",
    "    ----------\n",
    "    APF : float\n",
    "        通年エネルギー消費効率(APF = Annual Perfromance Factor)\n",
    "        \n",
    "    theata_amb_est_d : ndarray(N-dimensional array)\n",
    "        日別の冷蔵庫周辺空気の推定温度[℃]を格納したND配列\n",
    "        d日の冷蔵庫周辺空気の推定温度[℃]が年開始日から365個連続して格納されている\n",
    "    \n",
    "    Returns\n",
    "    ----------\n",
    "    E_elc_rfrg_est_d : ndarray(N-dimensional array)\n",
    "        冷蔵の日別推定消費電力量[Wh]を格納したND配列\n",
    "        d日の冷蔵の推定消費電力量[Wh]が年開始日から365個連続して格納されている\n",
    "        \n",
    "    \"\"\"\n",
    "    \n",
    "    # 冷蔵の日別電力を推定する\n",
    "    E_elc_rfrg_est_d_kWh = (3.283 * 10**(-3) - 2.0 * 10**(-6) * APF) * (theta_amb_est_d**2 - 30 * theta_amb_est_d) \\\n",
    "                         + 1.85 * 10**(-3) * APF \\\n",
    "                         + 1.329\n",
    "    E_elc_rfrg_est_d = E_elc_rfrg_est_d_kWh * 10**(3)\n",
    "    \n",
    "    return E_elc_rfrg_est_d"
   ]
  },
  {
   "cell_type": "markdown",
   "metadata": {},
   "source": [
    "### 4.2. 除霜の時刻別消費電力"
   ]
  },
  {
   "cell_type": "markdown",
   "metadata": {},
   "source": [
    "$d$日$t$時の除霜電力$P_{ elc, dfrs, d, t }$は除霜用伝熱器の消費電力$P_{ elc, htr }$に補正係数$C_{ crct, htr }$を掛けた値である。\n",
    " \n",
    "$$\n",
    "P_{ elc, dfrs, d, t} = P_{ elc, htr, rtd} \\times C_{ crct, htr }\n",
    "$$\n",
    "  \n",
    "$P_{ elc, htr, rtd }$ :除霜用電熱器(<u>h</u>ea<u>t</u>e<u>r</u>)の定格(<u>r</u>a<u>t</u>e<u>d</u>)消費電力 [W]  \n",
    "$C_{ crct, htr }$ :除霜用電熱器の定格消費電力に対する補正係数(<u>c</u>o<u>rr</u>e<u>ct</u>ion <u>c</u>oefficient) (=0.9) [-]  "
   ]
  },
  {
   "cell_type": "code",
   "execution_count": 7,
   "metadata": {
    "collapsed": true
   },
   "outputs": [],
   "source": [
    "def get_P_elc_dfrs_d_t(P_elc_htr_rtd):\n",
    "    \"\"\"除霜の時刻別電力を取得する\n",
    "    \n",
    "    Parameters\n",
    "    ----------\n",
    "    P_elc_htr_rtd : float\n",
    "        除霜用電熱器の定格消費電力[W]\n",
    "    \n",
    "    Returns\n",
    "    ----------\n",
    "    P_dfrs_d_t : ndarray(N-dimensional array)\n",
    "        除霜の時刻別消費電力[W]を格納したND配列\n",
    "        d日t時の除霜の消費電力[W]が年開始時から8760個連続して格納されている\n",
    "        \n",
    "    \"\"\"\n",
    "    # 除霜の時刻別電力を計算する\n",
    "    CORRECTION_COEFFICIENT_OF_HEATER = 0.9 # 除霜用電熱器の定格消費電力に対する補正係数[-]\n",
    "    P_elc_dfrs_d_t = np.full(8760, P_elc_htr_rtd * CORRECTION_COEFFICIENT_OF_HEATER, dtype=float)\n",
    "    return P_elc_dfrs_d_t"
   ]
  },
  {
   "cell_type": "markdown",
   "metadata": {},
   "source": [
    "## 5. 稼働状態の時刻別占有率"
   ]
  },
  {
   "cell_type": "markdown",
   "metadata": {},
   "source": [
    "冷蔵庫の稼働状態の時刻別占有率はスケジュールにより定まる。  \n",
    "冷蔵庫の取りうる稼働状態を以下に示す。各時刻においてこれら占有率の総和は常に1となる。"
   ]
  },
  {
   "cell_type": "markdown",
   "metadata": {},
   "source": [
    "### 5.1.   冷蔵の時刻別占有率"
   ]
  },
  {
   "cell_type": "markdown",
   "metadata": {},
   "source": [
    "$d$日$t$時における冷蔵の占める割合$R_{ rfrg, d, t }$はスケジュールにより定まる。"
   ]
  },
  {
   "cell_type": "markdown",
   "metadata": {},
   "source": [
    "### 5.2.   除霜の時刻別占有率"
   ]
  },
  {
   "cell_type": "markdown",
   "metadata": {},
   "source": [
    "$d$日$t$時における除霜の占める割合$R_{ dfrs, d, t }$はスケジュールにより定まる。"
   ]
  },
  {
   "cell_type": "markdown",
   "metadata": {},
   "source": [
    "## ex. 1.   計算例"
   ]
  },
  {
   "cell_type": "markdown",
   "metadata": {},
   "source": [
    "### ex. 1.1.  外部ファイルからの読み込み"
   ]
  },
  {
   "cell_type": "markdown",
   "metadata": {},
   "source": [
    "計算に必要なパラメータを外部ファイルから読み込む"
   ]
  },
  {
   "cell_type": "markdown",
   "metadata": {},
   "source": [
    "#### ex. 1.1.1.  日平均外気温度"
   ]
  },
  {
   "cell_type": "code",
   "execution_count": 8,
   "metadata": {
    "collapsed": true
   },
   "outputs": [],
   "source": [
    "def import_theta_ext_d():\n",
    "    \"\"\"日平均外気温度を外部CSVファイルからND配列に読み込む\n",
    "    \n",
    "    Returns\n",
    "    ----------\n",
    "    theta_ext_d : ndarray(N-dimensional array)\n",
    "        日平均外気温度を格納したND配列\n",
    "        d日の日平均外気温度[℃]が年開始日から365個連続して格納されている\n",
    "        \n",
    "    \"\"\"\n",
    "    \n",
    "    df = pd.read_csv('external_air_temperature_sample.csv', encoding='SHIFT_JIS')\n",
    "    ds = df['日平均外気温度[℃]']\n",
    "    theta_ext_d = ds.values\n",
    "    return theta_ext_d"
   ]
  },
  {
   "cell_type": "markdown",
   "metadata": {},
   "source": [
    "#### ex. 1.1.2.  冷蔵の時刻別占有率"
   ]
  },
  {
   "cell_type": "code",
   "execution_count": 9,
   "metadata": {
    "collapsed": true
   },
   "outputs": [],
   "source": [
    "def import_R_rfrg_d_t():\n",
    "    \"\"\"冷蔵の時刻別占有率を外部CSVファイルからND配列に読み込む\n",
    "    \n",
    "    Returns\n",
    "    ----------\n",
    "    R_rfrg_d_t : ndarray(N-dimensional array)\n",
    "        冷蔵の時刻別占有率を格納したND配列\n",
    "        d日t時の冷蔵の占有率[-]が年開始時から8760個連続して格納されている\n",
    "        \n",
    "    \"\"\"\n",
    "    \n",
    "    df = pd.read_csv('occupancy_sample.csv', encoding='SHIFT_JIS')\n",
    "    ds = df['冷蔵の占有率[-]']\n",
    "    R_rfrg_d_t = ds.values\n",
    "    return R_rfrg_d_t"
   ]
  },
  {
   "cell_type": "markdown",
   "metadata": {},
   "source": [
    "#### ex. 1.1.3.  除霜の時刻別占有率"
   ]
  },
  {
   "cell_type": "code",
   "execution_count": 10,
   "metadata": {
    "collapsed": true
   },
   "outputs": [],
   "source": [
    "def import_R_dfrs_d_t():\n",
    "    \"\"\"除霜の時刻別占有率を外部CSVファイルからND配列に読み込む\n",
    "    \n",
    "    Returns\n",
    "    ----------\n",
    "    R_dfrs_d_t : ndarray(N-dimensional array)\n",
    "        除霜の時刻別占有率を格納したND配列\n",
    "        d日t時の除霜の占有率[-]が年開始時から8760個連続して格納されている\n",
    "        \n",
    "    \"\"\"\n",
    "    \n",
    "    df = pd.read_csv('occupancy_sample.csv', encoding='SHIFT_JIS')\n",
    "    ds = df['除霜の占有率[-]']\n",
    "    R_dfrs_d_t = ds.values\n",
    "    return R_dfrs_d_t"
   ]
  },
  {
   "cell_type": "markdown",
   "metadata": {},
   "source": [
    "### ex. 1.2. 一括計算"
   ]
  },
  {
   "cell_type": "code",
   "execution_count": 11,
   "metadata": {
    "collapsed": true
   },
   "outputs": [],
   "source": [
    "def calc_E_elc(Q, central_heating_exists, APF, P_elc_htr_rtd):\n",
    "    \"\"\"消費電力量を計算する\n",
    "    \n",
    "    Parameters\n",
    "    ----------\n",
    "    Q : float\n",
    "        住宅の熱損失係数 [W/(m^2・K)] \n",
    "    \n",
    "    central_heating_exists : bool\n",
    "        住宅の暖房方式（True:全館連続暖房, False:居室間歇暖房）\n",
    "        \n",
    "    APF : float\n",
    "        通年エネルギー消費効率(APF = Annual Perfromance Factor)\n",
    "    \n",
    "    P_elc_htr_rtd : float\n",
    "        除霜用電熱器の定格消費電力[W]\n",
    "\n",
    "    \n",
    "    Returns\n",
    "    ----------\n",
    "    E_elc_y : float\n",
    "        年間消費電力量[Wh]\n",
    "    E_elc_h : ndarray(N-dimensional array)\n",
    "        時刻別消費電力量[Wh]   \n",
    "    \"\"\"\n",
    "    \n",
    "    # 外部ファイルからパラメーターを取得する\n",
    "    theta_ext_d = import_theta_ext_d()\n",
    "    R_rfrg_d_t = import_R_rfrg_d_t()\n",
    "    R_dfrs_d_t = import_R_dfrs_d_t()\n",
    "    \n",
    "    # 計算開始\n",
    "    E_elc_h = calc_E_elc_d_t(theta_ext_d, Q, central_heating_exists, APF, P_elc_htr_rtd, R_rfrg_d_t, R_dfrs_d_t)\n",
    "    E_elc_y = np.sum(E_elc_h)\n",
    "    return E_elc_y, E_elc_h"
   ]
  },
  {
   "cell_type": "markdown",
   "metadata": {},
   "source": [
    "## ex. 2. 動作確認"
   ]
  },
  {
   "cell_type": "markdown",
   "metadata": {},
   "source": [
    "動作確認用に計算結果を図示する。"
   ]
  },
  {
   "cell_type": "code",
   "execution_count": 12,
   "metadata": {},
   "outputs": [
    {
     "data": {
      "image/png": "[encoded data removed]",
      "text/plain": [
       "<matplotlib.figure.Figure at 0x1702ccfe470>"
      ]
     },
     "metadata": {},
     "output_type": "display_data"
    }
   ],
   "source": [
    "import matplotlib.pyplot as plt\n",
    "\n",
    "res = calc_E_elc( 2.0, False, 6.0, 60)\n",
    "\n",
    "E_elc_y = res[0]\n",
    "E_elc_d_t = res[1]\n",
    "\n",
    "x = np.arange(8760)\n",
    "y = E_elc_d_t\n",
    "\n",
    "plt.plot(x, y, label='refrg')\n",
    "plt.title('power consumption of refrigerator')\n",
    "plt.xlabel('elapsed time [h]')\n",
    "plt.ylabel('energy consumption [Wh]')\n",
    "plt.legend()\n",
    "\n",
    "plt.show()"
   ]
  }
 ],
 "metadata": {
  "kernelspec": {
   "display_name": "Python 3",
   "language": "python",
   "name": "python3"
  },
  "language_info": {
   "codemirror_mode": {
    "name": "ipython",
    "version": 3
   },
   "file_extension": ".py",
   "mimetype": "text/x-python",
   "name": "python",
   "nbconvert_exporter": "python",
   "pygments_lexer": "ipython3",
   "version": "3.6.3"
  }
 },
 "nbformat": 4,
 "nbformat_minor": 2
}
