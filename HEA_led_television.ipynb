{
 "cells": [
  {
   "cell_type": "code",
   "execution_count": 1,
   "metadata": {
    "collapsed": true
   },
   "outputs": [],
   "source": [
    "import numpy as np\n",
    "import pandas as pd\n",
    "import matplotlib.pyplot as plt"
   ]
  },
  {
   "cell_type": "markdown",
   "metadata": {},
   "source": [
    "# 家電  "
   ]
  },
  {
   "cell_type": "markdown",
   "metadata": {},
   "source": [
    "## 液晶テレビ"
   ]
  },
  {
   "cell_type": "markdown",
   "metadata": {},
   "source": [
    "### 時刻別消費電力量\n",
    "$$\n",
    "E_{ Elc, TV_{ LED }, d, t } = ( P_{ Elc, TV_{ LED }, standby } \\times t_{ TV_{ LED }, standby, d, t } + P_{ Elc, TV_{ LED }, view } \\times t_{ TV_{ LED }, view, d, t }  ) \\times 10^{ -3 }\n",
    "$$\n",
    "\n",
    "$ E_{ Elc, TV_{ LED }, d, t } $：日付dの時刻tにおける液晶テレビの消費電力量,kWh  \n",
    "$ P_{ Elc, TV_{ LED }, standby } $：液晶テレビの待機時の消費電力,W  \n",
    "$ t_{ TV_{ LED }, standby, d, t } $：日付dの時刻tにおける液晶テレビの待機時間,h  \n",
    "$ P_{ Elc, TV_{ LED }, view } $：液晶テレビの視聴時の消費電力,W  \n",
    "$ t_{ TV_{ LED }, view, d, t } $：日付dの時刻tにおける液晶テレビの視聴時間,h  \n",
    "$ 10^{ -3 } $：単位換算,Wh -> kWh"
   ]
  },
  {
   "cell_type": "code",
   "execution_count": 2,
   "metadata": {
    "collapsed": true
   },
   "outputs": [],
   "source": [
    "def get_E_Elc_tv_led_d_t(P_Elc_tv_led_standby_rtd, t_tv_led_standby_d_t, P_Elc_tv_led_view_rtd, t_tv_led_view_d_t, number_of_people):\n",
    "    \"\"\"時刻別消費電力量を計算する\n",
    "    \n",
    "    Parameters\n",
    "    ----------\n",
    "    P_Elc_tv_led_standby_rtd : float\n",
    "        液晶テレビの定格待機電力, W\n",
    "        \n",
    "    P_Elc_tv_led_view_rtd : float\n",
    "        液晶テレビの定格視聴電力, W\n",
    "        \n",
    "    t_tv_led_standby_d_t : ndarray(N-dimensional array)\n",
    "        1年間の全時間の待機時間を格納したND配列, h\n",
    "        d日t時の待機時間が年開始時から8760個連続して格納されている\n",
    "\n",
    "    t_tv_led_view_d_t : ndarray(N-dimensional array)\n",
    "        1年間の全時間の視聴時間を格納したND配列, h\n",
    "        d日t時の視聴時間が年開始時から8760個連続して格納されている\n",
    "    \n",
    "    number_of_people : int\n",
    "        世帯人数, 人\n",
    "    \n",
    "    Returns\n",
    "    ----------\n",
    "    E_Elc_tv_led_d_t : ndarray(N-dimensional array)\n",
    "        1年間の全時間の消費電力量を格納したND配列, Wh\n",
    "        d日t時の消費電力量が年開始時から8760個連続して格納されている\n",
    "    \"\"\"\n",
    "    \n",
    "    P_Elc_tv_led_standby = get_P_Elc_tv_led_standby(P_Elc_tv_led_standby_rtd, number_of_people)\n",
    "    P_Elc_tv_led_view = get_P_Elc_tv_led_view(P_Elc_tv_led_view_rtd, number_of_people)\n",
    "    \n",
    "    E_Elc_tv_led_d_t = P_Elc_tv_led_standby * t_tv_led_standby_d_t \\\n",
    "                     + P_Elc_tv_led_view * t_tv_led_view_d_t\n",
    "        \n",
    "    E_Elc_tv_led_d_t = E_Elc_tv_led_d_t * 10**(-3)\n",
    "    \n",
    "    return E_Elc_tv_led_d_t"
   ]
  },
  {
   "cell_type": "markdown",
   "metadata": {},
   "source": [
    "### 動作別の消費電力"
   ]
  },
  {
   "cell_type": "markdown",
   "metadata": {},
   "source": [
    "#### 待機時の消費電力  \n",
    "$$\n",
    "P_{ Elc, TV_{ LED }, standby } =\n",
    "\\begin{cases}\n",
    "P_{ Elc, TV_{ LED }, standby, rtd }  & ( \\mbox{ 4人世帯 } ) \\\\\n",
    "P_{ Elc, TV_{ LED }, standby, rtd }  \\times \\frac{ 2 }{ 3 } & ( \\mbox{ 2人世帯 } ) \\\\\n",
    "P_{ Elc, TV_{ LED }, standby, rtd }  \\times \\frac{ 1 }{ 3 } & ( \\mbox{ 1人世帯 } )\n",
    "\\end{cases}\n",
    "$$\n",
    "\n",
    "$ P_{ Elc, TV_{ LED }, standby, rtd } $：液晶テレビの定格待機電力,W"
   ]
  },
  {
   "cell_type": "code",
   "execution_count": 3,
   "metadata": {
    "collapsed": true
   },
   "outputs": [],
   "source": [
    "def get_P_Elc_tv_led_standby(P_Elc_tv_led_standby_rtd, number_of_people):\n",
    "    \"\"\"待機時の消費電力を計算する\n",
    "    \n",
    "    Parameters\n",
    "    ----------\n",
    "    P_Elc_tv_led_standby_rtd : float\n",
    "        液晶テレビの定格待機電力, W\n",
    "        \n",
    "    number_of_people : int\n",
    "        世帯人数, 人\n",
    "        \n",
    "    Returns\n",
    "    ----------\n",
    "    P_Elc_tv_led_standby : float\n",
    "        液晶テレビの待機電力, W\n",
    "    \"\"\"\n",
    "    \n",
    "    if number_of_people == 4:\n",
    "        P_Elc_tv_led_standby = P_Elc_tv_led_standby_rtd\n",
    "    elif number_of_people == 2:\n",
    "        P_Elc_tv_led_standby = P_Elc_tv_led_standby_rtd * 2 / 3\n",
    "    elif number_of_people == 1:\n",
    "        P_Elc_tv_led_standby = P_Elc_tv_led_standby_rtd * 1 / 3\n",
    "    else:\n",
    "        raise ValueError(number_of_people)\n",
    "        \n",
    "    return P_Elc_tv_led_standby"
   ]
  },
  {
   "cell_type": "markdown",
   "metadata": {},
   "source": [
    "#### 視聴時の消費電力  \n",
    "$$\n",
    "P_{ Elc, TV_{ LED }, view } =\n",
    "\\begin{cases}\n",
    "0.8579 \\times P_{ Elc, TV_{ LED }, view, rtd }  & ( \\mbox{ 4人世帯 } ) \\\\\n",
    "0.8579 \\times P_{ Elc, TV_{ LED }, view, rtd }  \\times \\frac{ 2 }{ 3 } & ( \\mbox{ 2人世帯 } ) \\\\\n",
    "0.8579 \\times P_{ Elc, TV_{ LED }, view, rtd }  \\times \\frac{ 1 }{ 3 } & ( \\mbox{ 1人世帯 } )\n",
    "\\end{cases}\n",
    "$$\n",
    "\n",
    "$ P_{ Elc, TV_{ LED }, view, rtd } $：液晶テレビの定格視聴電力,W"
   ]
  },
  {
   "cell_type": "code",
   "execution_count": 4,
   "metadata": {
    "collapsed": true
   },
   "outputs": [],
   "source": [
    "def get_P_Elc_tv_led_view(P_Elc_tv_led_view_rtd, number_of_people):\n",
    "    \"\"\"視聴時の消費電力を計算する\n",
    "    \n",
    "    Parameters\n",
    "    ----------\n",
    "    P_Elc_tv_led_view_rtd : float\n",
    "        液晶テレビの定格視聴電力, W\n",
    "        \n",
    "    number_of_people : int\n",
    "        世帯人数, 人\n",
    "        \n",
    "    Returns\n",
    "    ----------\n",
    "    P_Elc_tv_led_view : float\n",
    "        液晶テレビの視聴電力, W\n",
    "    \"\"\"\n",
    "    \n",
    "    if number_of_people == 4:\n",
    "        P_Elc_tv_led_view = 0.8759 * P_Elc_tv_led_view_rtd\n",
    "    elif number_of_people == 2:\n",
    "        P_Elc_tv_led_view = 0.8759 * P_Elc_tv_led_view_rtd * 2 / 3\n",
    "    elif number_of_people == 1:\n",
    "        P_Elc_tv_led_view = 0.8759 * P_Elc_tv_led_view_rtd * 1 / 3\n",
    "    else:\n",
    "        raise ValueError(number_of_people)\n",
    "        \n",
    "    return P_Elc_tv_led_view"
   ]
  },
  {
   "cell_type": "markdown",
   "metadata": {},
   "source": [
    "## サンプル計算"
   ]
  },
  {
   "cell_type": "markdown",
   "metadata": {},
   "source": [
    "### 家電スケジュールの読み込み\n",
    "ここでは、サンプルデータをcsvファイルから読み込む"
   ]
  },
  {
   "cell_type": "code",
   "execution_count": 5,
   "metadata": {
    "collapsed": true
   },
   "outputs": [],
   "source": [
    "def import_schedule_1_d_t() -> np.ndarray:\n",
    "    \"\"\"家電スケジュールを外部CSVファイルからND配列に読み込む\n",
    "    \n",
    "    Returns\n",
    "    ----------\n",
    "    E_Elc_tv_led_d_t : ndarray(N-dimensional array)\n",
    "        1年間の全時間の家電スケジュールを格納したND配列\n",
    "        d日t時の家電スケジュールが年開始時から8760個連続して格納されている\n",
    "    \"\"\"\n",
    "    \n",
    "    df = pd.read_csv('HEA_schedule_sample.csv', encoding='SHIFT_JIS')\n",
    "    ds = df['液晶テレビ（居間）_4人世帯_待機']\n",
    "    schedule_1_d_t = ds.values\n",
    "    return schedule_1_d_t"
   ]
  },
  {
   "cell_type": "code",
   "execution_count": 6,
   "metadata": {
    "collapsed": true
   },
   "outputs": [],
   "source": [
    "def import_schedule_2_d_t() -> np.ndarray:\n",
    "    \"\"\"家電スケジュールを外部CSVファイルからND配列に読み込む\n",
    "    \n",
    "    Returns\n",
    "    ----------\n",
    "    E_Elc_tv_led_d_t : ndarray(N-dimensional array)\n",
    "        1年間の全時間の家電スケジュールを格納したND配列\n",
    "        d日t時の家電スケジュールが年開始時から8760個連続して格納されている\n",
    "    \"\"\"\n",
    "    \n",
    "    df = pd.read_csv('HEA_schedule_sample.csv', encoding='SHIFT_JIS')\n",
    "    ds = df['液晶テレビ（居間）_4人世帯_視聴']\n",
    "    schedule_2_d_t = ds.values\n",
    "    return schedule_2_d_t"
   ]
  },
  {
   "cell_type": "markdown",
   "metadata": {},
   "source": [
    "#### 視聴時の消費電力"
   ]
  },
  {
   "cell_type": "code",
   "execution_count": 7,
   "metadata": {},
   "outputs": [
    {
     "data": {
      "text/plain": [
       "109.4875"
      ]
     },
     "execution_count": 7,
     "metadata": {},
     "output_type": "execute_result"
    }
   ],
   "source": [
    "get_P_Elc_tv_led_view(125,4)"
   ]
  },
  {
   "cell_type": "markdown",
   "metadata": {},
   "source": [
    "#### 待機時の消費電力"
   ]
  },
  {
   "cell_type": "code",
   "execution_count": 8,
   "metadata": {},
   "outputs": [
    {
     "data": {
      "text/plain": [
       "0.15"
      ]
     },
     "execution_count": 8,
     "metadata": {},
     "output_type": "execute_result"
    }
   ],
   "source": [
    "get_P_Elc_tv_led_standby(0.15,4)"
   ]
  },
  {
   "cell_type": "markdown",
   "metadata": {},
   "source": [
    "### 時刻別消費電力量"
   ]
  },
  {
   "cell_type": "code",
   "execution_count": 9,
   "metadata": {},
   "outputs": [
    {
     "data": {
      "image/png": "[encoded data removed]",
      "text/plain": [
       "<matplotlib.figure.Figure at 0x1ebfa0eb4e0>"
      ]
     },
     "metadata": {},
     "output_type": "display_data"
    }
   ],
   "source": [
    "t_tv_led_standby_d_t = import_schedule_1_d_t()\n",
    "t_tv_led_view_d_t = import_schedule_2_d_t()\n",
    "\n",
    "x = np.arange(8760)\n",
    "y = get_E_Elc_tv_led_d_t(0.15, t_tv_led_standby_d_t, 125, t_tv_led_view_d_t, 4)\n",
    "\n",
    "plt.figure(figsize=(9,2))\n",
    "plt.subplot(1,1,1)\n",
    "plt.plot(x, y, label=\"kWh\")\n",
    "\n",
    "plt.grid(True)\n",
    "\n",
    "plt.title(\"hours/kWh\")\n",
    "plt.xlabel(\"hours\")\n",
    "plt.ylabel(\"kWh\")\n",
    "\n",
    "plt.xlim(0,8760)\n",
    "plt.ylim(0,)\n",
    "\n",
    "plt.legend()\n",
    "plt.show()"
   ]
  }
 ],
 "metadata": {
  "kernelspec": {
   "display_name": "Python 3",
   "language": "python",
   "name": "python3"
  },
  "language_info": {
   "codemirror_mode": {
    "name": "ipython",
    "version": 3
   },
   "file_extension": ".py",
   "mimetype": "text/x-python",
   "name": "python",
   "nbconvert_exporter": "python",
   "pygments_lexer": "ipython3",
   "version": "3.6.3"
  }
 },
 "nbformat": 4,
 "nbformat_minor": 2
}
