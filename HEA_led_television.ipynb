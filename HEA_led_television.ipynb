{
 "cells": [
  {
   "cell_type": "code",
   "execution_count": 1,
   "metadata": {
    "collapsed": true
   },
   "outputs": [],
   "source": [
    "import numpy as np\n",
    "import pandas as pd\n",
    "import matplotlib.pyplot as plt"
   ]
  },
  {
   "cell_type": "markdown",
   "metadata": {},
   "source": [
    "# 家電  "
   ]
  },
  {
   "cell_type": "markdown",
   "metadata": {},
   "source": [
    "## 液晶テレビ"
   ]
  },
  {
   "cell_type": "markdown",
   "metadata": {},
   "source": [
    "### 時刻別消費電力量\n",
    "$$\n",
    "E_{ Elc, TV_{ LED }, d, t } = \n",
    "\\{\n",
    "    (\n",
    "        P_{ Elc, TV_{ LED }, lv, standby } \n",
    "        \\times \n",
    "        t_{ TV_{ LED }, lv, standby, d, t }\n",
    "        +\n",
    "        P_{ Elc, TV_{ LED }, lv, view }\n",
    "        \\times \n",
    "        t_{ TV_{ LED }, lv, view, d, t }\n",
    "    )\n",
    "    +\n",
    "    (\n",
    "        P_{ Elc, TV_{ LED }, standby } \n",
    "        \\times \n",
    "        t_{ TV_{ LED }, standby, d, t }\n",
    "        +\n",
    "        P_{ Elc, TV_{ LED }, view }\n",
    "        \\times \n",
    "        t_{ TV_{ LED }, view, d, t }\n",
    "    )\n",
    "\\}\n",
    "\\times\n",
    "10^{ -3 }\n",
    "$$\n",
    "\n",
    "\n",
    "$ E_{ Elc, TV_{ LED }, d, t } $：日付dの時刻tにおける消費電力量,kWh  \n",
    "$ P_{ Elc, TV_{ LED }, lv, standby } $：居間に設置されたテレビの待機時の消費電力,W  \n",
    "$ t_{ TV_{ LED }, lv, standby, d, t } $：居間に設置されたテレビの日付dの時刻tにおける待機時間,h  \n",
    "$ P_{ Elc, TV_{ LED }, lv, view } $：居間に設置されたテレビの視聴時の消費電力,W  \n",
    "$ t_{ TV_{ LED }, lv, view, d, t } $：居間に設置されたテレビの日付dの時刻tにおける視聴時間,h  \n",
    "$ P_{ Elc, TV_{ LED }, standby } $：居間以外に設置されたテレビの待機時の消費電力,W  \n",
    "$ t_{ TV_{ LED }, standby, d, t } $：居間以外に設置されたテレビの日付dの時刻tにおける待機時間,h  \n",
    "$ P_{ Elc, TV_{ LED }, view } $：居間以外に設置されたテレビの視聴時の消費電力,W  \n",
    "$ t_{ TV_{ LED }, view, d, t } $：居間以外に設置されたテレビの日付dの時刻tにおける視聴時間,h  \n",
    "$ 10^{ -3 } $：単位換算,Wh -> kWh"
   ]
  },
  {
   "cell_type": "code",
   "execution_count": 2,
   "metadata": {
    "collapsed": true
   },
   "outputs": [],
   "source": [
    "def get_E_Elc_tv_led_d_t(P_Elc_tv_led_standby_rtd, P_Elc_tv_led_view_rtd, t_tv_led_lv_standby_d_t, t_tv_led_lv_view_d_t, t_tv_led_standby_d_t, t_tv_led_view_d_t, number_of_people):\n",
    "    \"\"\"時刻別消費電力量を計算する\n",
    "    \n",
    "    Parameters\n",
    "    ----------\n",
    "    P_Elc_tv_led_standby_rtd : float\n",
    "        定格待機電力, W\n",
    "        \n",
    "    P_Elc_tv_led_view_rtd : float\n",
    "        定格視聴電力, W\n",
    "        \n",
    "    t_tv_led_lv_standby_d_t : ndarray(N-dimensional array)\n",
    "        居間に設置されたテレビの1年間の全時間の待機時間を格納したND配列, h\n",
    "        d日t時の待機時間が年開始時から8760個連続して格納されている\n",
    "\n",
    "    t_tv_led_lv_view_d_t : ndarray(N-dimensional array)\n",
    "        居間に設置されたテレビの1年間の全時間の視聴時間を格納したND配列, h\n",
    "        d日t時の視聴時間が年開始時から8760個連続して格納されている\n",
    "\n",
    "    t_tv_led_standby_d_t : ndarray(N-dimensional array)\n",
    "        居間以外に設置されたテレビの1年間の全時間の待機時間を格納したND配列, h\n",
    "        d日t時の待機時間が年開始時から8760個連続して格納されている\n",
    "\n",
    "    t_tv_led_view_d_t : ndarray(N-dimensional array)\n",
    "        居間以外に設置されたテレビの1年間の全時間の視聴時間を格納したND配列, h\n",
    "        d日t時の視聴時間が年開始時から8760個連続して格納されている\n",
    "    \n",
    "    number_of_people : int\n",
    "        世帯人数, 人\n",
    "        \n",
    "    Returns\n",
    "    ----------\n",
    "    E_Elc_tv_led_d_t : ndarray(N-dimensional array)\n",
    "        1年間の全時間の消費電力量を格納したND配列, Wh\n",
    "        d日t時の消費電力量が年開始時から8760個連続して格納されている\n",
    "    \"\"\"\n",
    "    \n",
    "    P_Elc_tv_led_standby = get_P_Elc_tv_led_standby(P_Elc_tv_led_standby_rtd, number_of_people, True)\n",
    "    P_Elc_tv_led_view = get_P_Elc_tv_led_view(P_Elc_tv_led_view_rtd, number_of_people, True)\n",
    "    E_Elc_tv_led_lv_d_t = P_Elc_tv_led_standby * t_tv_led_lv_standby_d_t + P_Elc_tv_led_view * t_tv_led_lv_view_d_t\n",
    "    \n",
    "    P_Elc_tv_led_standby = get_P_Elc_tv_led_standby(P_Elc_tv_led_standby_rtd, number_of_people, False)\n",
    "    P_Elc_tv_led_view = get_P_Elc_tv_led_view(P_Elc_tv_led_view_rtd, number_of_people, False)\n",
    "    E_Elc_tv_led_nlv_d_t = P_Elc_tv_led_standby * t_tv_led_standby_d_t + P_Elc_tv_led_view * t_tv_led_view_d_t\n",
    "    \n",
    "    E_Elc_tv_led_d_t = (E_Elc_tv_led_lv_d_t + E_Elc_tv_led_nlv_d_t) * 10**(-3)\n",
    "    \n",
    "    return E_Elc_tv_led_d_t"
   ]
  },
  {
   "cell_type": "markdown",
   "metadata": {},
   "source": [
    "### 動作別の消費電力"
   ]
  },
  {
   "cell_type": "markdown",
   "metadata": {},
   "source": [
    "#### 待機時の消費電力  \n",
    "$$\n",
    "P_{ Elc, TV_{ LED }, standby } =\n",
    "\\begin{cases}\n",
    "P_{ Elc, TV_{ LED }, standby, rtd }  & ( \\mbox{ 4人世帯 } ) \\\\\n",
    "P_{ Elc, TV_{ LED }, standby, rtd }  \\times \\frac{ 3 }{ 3 } & ( \\mbox{ 3人世帯 } ) \\\\\n",
    "P_{ Elc, TV_{ LED }, standby, rtd }  \\times \\frac{ 2 }{ 3 } & ( \\mbox{ 2人世帯 } ) \\\\\n",
    "P_{ Elc, TV_{ LED }, standby, rtd }  \\times \\frac{ 1 }{ 3 } & ( \\mbox{ 1人世帯 } )\n",
    "\\end{cases}\n",
    "$$\n",
    "\n",
    "$ P_{ Elc, TV_{ LED }, standby, rtd } $：定格待機電力,W"
   ]
  },
  {
   "cell_type": "code",
   "execution_count": 3,
   "metadata": {},
   "outputs": [],
   "source": [
    "def get_P_Elc_tv_led_standby(P_Elc_tv_led_standby_rtd, number_of_people, in_a_living_room):\n",
    "    \"\"\"待機時の消費電力を計算する\n",
    "    \n",
    "    Parameters\n",
    "    ----------\n",
    "    P_Elc_tv_led_standby_rtd : float\n",
    "        定格待機電力, W\n",
    "        \n",
    "    number_of_people : int\n",
    "        世帯人数, 人\n",
    "\n",
    "    in_a_living_room: Boolean\n",
    "        設置場所が居間である, 真偽値　True：参照スケジュールは「居間」, False：参照スケジュールは「洋室1」\n",
    "        \n",
    "    Returns\n",
    "    ----------\n",
    "    P_Elc_tv_led_standby : float\n",
    "        待機電力, W\n",
    "    \"\"\"\n",
    "    \n",
    "    if in_a_living_room:\n",
    "        P_Elc_tv_led_standby = P_Elc_tv_led_standby_rtd\n",
    "    else:\n",
    "        P_Elc_tv_led_standby = P_Elc_tv_led_standby_rtd * 0.367 / 0.15\n",
    "    \n",
    "    if number_of_people == 4:\n",
    "        P_Elc_tv_led_standby = P_Elc_tv_led_standby\n",
    "    elif number_of_people == 3:\n",
    "        P_Elc_tv_led_standby = P_Elc_tv_led_standby * 3 / 3\n",
    "    elif number_of_people == 2:\n",
    "        P_Elc_tv_led_standby = P_Elc_tv_led_standby * 2 / 3\n",
    "    elif number_of_people == 1:\n",
    "        P_Elc_tv_led_standby = P_Elc_tv_led_standby * 1 / 3\n",
    "    else:\n",
    "        raise ValueError(number_of_people)\n",
    "        \n",
    "    return P_Elc_tv_led_standby"
   ]
  },
  {
   "cell_type": "markdown",
   "metadata": {},
   "source": [
    "#### 視聴時の消費電力  \n",
    "$$\n",
    "P_{ Elc, TV_{ LED }, view } =\n",
    "\\begin{cases}\n",
    "0.8579 \\times P_{ Elc, TV_{ LED }, view, rtd }  & ( \\mbox{ 4人世帯 } ) \\\\\n",
    "0.8579 \\times P_{ Elc, TV_{ LED }, view, rtd }  \\times \\frac{ 3 }{ 3 } & ( \\mbox{ 3人世帯 } ) \\\\\n",
    "0.8579 \\times P_{ Elc, TV_{ LED }, view, rtd }  \\times \\frac{ 2 }{ 3 } & ( \\mbox{ 2人世帯 } ) \\\\\n",
    "0.8579 \\times P_{ Elc, TV_{ LED }, view, rtd }  \\times \\frac{ 1 }{ 3 } & ( \\mbox{ 1人世帯 } )\n",
    "\\end{cases}\n",
    "$$\n",
    "\n",
    "$ P_{ Elc, TV_{ LED }, view, rtd } $：定格視聴電力,W"
   ]
  },
  {
   "cell_type": "code",
   "execution_count": 4,
   "metadata": {},
   "outputs": [],
   "source": [
    "def get_P_Elc_tv_led_view(P_Elc_tv_led_view_rtd, number_of_people, in_a_living_room):\n",
    "    \"\"\"視聴時の消費電力を計算する\n",
    "    \n",
    "    Parameters\n",
    "    ----------\n",
    "    P_Elc_tv_led_view_rtd : float\n",
    "        定格視聴電力, W\n",
    "        \n",
    "    number_of_people : int\n",
    "        世帯人数, 人\n",
    "        \n",
    "    in_a_living_room: Boolean\n",
    "        設置場所が居間である, 真偽値　True：参照スケジュールは「居間」, False：参照スケジュールは「洋室1」\n",
    "        \n",
    "    Returns\n",
    "    ----------\n",
    "    P_Elc_tv_led_view : float\n",
    "        視聴電力, W\n",
    "    \"\"\"\n",
    "\n",
    "    \n",
    "    if in_a_living_room:\n",
    "        P_Elc_tv_led_view = P_Elc_tv_led_view_rtd\n",
    "    else:\n",
    "        P_Elc_tv_led_view = P_Elc_tv_led_view_rtd * 63 / 125\n",
    "    \n",
    "    if number_of_people == 4:\n",
    "        P_Elc_tv_led_view = 0.8579 * P_Elc_tv_led_view\n",
    "    elif number_of_people == 3:\n",
    "        P_Elc_tv_led_view = 0.8579 * P_Elc_tv_led_view * 3 / 3    \n",
    "    elif number_of_people == 2:\n",
    "        P_Elc_tv_led_view = 0.8579 * P_Elc_tv_led_view * 2 / 3\n",
    "    elif number_of_people == 1:\n",
    "        P_Elc_tv_led_view = 0.8579 * P_Elc_tv_led_view * 1 / 3\n",
    "    else:\n",
    "        raise ValueError(number_of_people)\n",
    "        \n",
    "        \n",
    "        \n",
    "    return P_Elc_tv_led_view"
   ]
  },
  {
   "cell_type": "markdown",
   "metadata": {},
   "source": [
    "## サンプル計算"
   ]
  },
  {
   "cell_type": "markdown",
   "metadata": {},
   "source": [
    "### 家電スケジュールの読み込み\n",
    "ここでは、サンプルデータをcsvファイルから読み込む"
   ]
  },
  {
   "cell_type": "code",
   "execution_count": 5,
   "metadata": {
    "collapsed": true
   },
   "outputs": [],
   "source": [
    "def import_schedule_1_d_t() -> np.ndarray:\n",
    "    \"\"\"家電スケジュールを外部CSVファイルからND配列に読み込む\n",
    "    \n",
    "    Returns\n",
    "    ----------\n",
    "    E_Elc_tv_led_d_t : ndarray(N-dimensional array)\n",
    "        1年間の全時間の家電スケジュールを格納したND配列\n",
    "        d日t時の家電スケジュールが年開始時から8760個連続して格納されている\n",
    "    \"\"\"\n",
    "    \n",
    "    df = pd.read_csv('HEA_schedule_sample.csv', encoding='SHIFT_JIS')\n",
    "    ds = df['液晶テレビ（居間）_4人世帯_待機']\n",
    "    schedule_1_d_t = ds.values\n",
    "    return schedule_1_d_t"
   ]
  },
  {
   "cell_type": "code",
   "execution_count": 6,
   "metadata": {
    "collapsed": true
   },
   "outputs": [],
   "source": [
    "def import_schedule_2_d_t() -> np.ndarray:\n",
    "    \"\"\"家電スケジュールを外部CSVファイルからND配列に読み込む\n",
    "    \n",
    "    Returns\n",
    "    ----------\n",
    "    E_Elc_tv_led_d_t : ndarray(N-dimensional array)\n",
    "        1年間の全時間の家電スケジュールを格納したND配列\n",
    "        d日t時の家電スケジュールが年開始時から8760個連続して格納されている\n",
    "    \"\"\"\n",
    "    \n",
    "    df = pd.read_csv('HEA_schedule_sample.csv', encoding='SHIFT_JIS')\n",
    "    ds = df['液晶テレビ（居間）_4人世帯_視聴']\n",
    "    schedule_2_d_t = ds.values\n",
    "    return schedule_2_d_t"
   ]
  },
  {
   "cell_type": "code",
   "execution_count": 7,
   "metadata": {
    "collapsed": true
   },
   "outputs": [],
   "source": [
    "def import_schedule_3_d_t() -> np.ndarray:\n",
    "    \"\"\"家電スケジュールを外部CSVファイルからND配列に読み込む\n",
    "    \n",
    "    Returns\n",
    "    ----------\n",
    "    E_Elc_tv_led_d_t : ndarray(N-dimensional array)\n",
    "        1年間の全時間の家電スケジュールを格納したND配列\n",
    "        d日t時の家電スケジュールが年開始時から8760個連続して格納されている\n",
    "    \"\"\"\n",
    "    \n",
    "    df = pd.read_csv('HEA_schedule_sample.csv', encoding='SHIFT_JIS')\n",
    "    ds = df['液晶テレビ（洋室1）_4人世帯_待機']\n",
    "    schedule_3_d_t = ds.values\n",
    "    return schedule_3_d_t"
   ]
  },
  {
   "cell_type": "code",
   "execution_count": 8,
   "metadata": {
    "collapsed": true
   },
   "outputs": [],
   "source": [
    "def import_schedule_4_d_t() -> np.ndarray:\n",
    "    \"\"\"家電スケジュールを外部CSVファイルからND配列に読み込む\n",
    "    \n",
    "    Returns\n",
    "    ----------\n",
    "    E_Elc_tv_led_d_t : ndarray(N-dimensional array)\n",
    "        1年間の全時間の家電スケジュールを格納したND配列\n",
    "        d日t時の家電スケジュールが年開始時から8760個連続して格納されている\n",
    "    \"\"\"\n",
    "    \n",
    "    df = pd.read_csv('HEA_schedule_sample.csv', encoding='SHIFT_JIS')\n",
    "    ds = df['液晶テレビ（洋室1）_4人世帯_視聴']\n",
    "    schedule_4_d_t = ds.values\n",
    "    return schedule_4_d_t"
   ]
  },
  {
   "cell_type": "markdown",
   "metadata": {},
   "source": [
    "#### 視聴時の消費電力"
   ]
  },
  {
   "cell_type": "code",
   "execution_count": 9,
   "metadata": {},
   "outputs": [
    {
     "data": {
      "text/plain": [
       "54.0477"
      ]
     },
     "execution_count": 9,
     "metadata": {},
     "output_type": "execute_result"
    }
   ],
   "source": [
    "get_P_Elc_tv_led_view(125,4,False)"
   ]
  },
  {
   "cell_type": "markdown",
   "metadata": {},
   "source": [
    "#### 待機時の消費電力"
   ]
  },
  {
   "cell_type": "code",
   "execution_count": 10,
   "metadata": {},
   "outputs": [
    {
     "data": {
      "text/plain": [
       "0.367"
      ]
     },
     "execution_count": 10,
     "metadata": {},
     "output_type": "execute_result"
    }
   ],
   "source": [
    "get_P_Elc_tv_led_standby(0.15,4,False)"
   ]
  },
  {
   "cell_type": "markdown",
   "metadata": {},
   "source": [
    "### 時刻別消費電力量"
   ]
  },
  {
   "cell_type": "code",
   "execution_count": 11,
   "metadata": {},
   "outputs": [
    {
     "data": {
      "image/png": "[encoded data removed]",
      "text/plain": [
       "<matplotlib.figure.Figure at 0x130a0b47898>"
      ]
     },
     "metadata": {},
     "output_type": "display_data"
    }
   ],
   "source": [
    "t_tv_led_lv_standby_d_t = import_schedule_1_d_t()\n",
    "t_tv_led_lv_view_d_t = import_schedule_2_d_t()\n",
    "t_tv_led_standby_d_t = import_schedule_3_d_t()\n",
    "t_tv_led_view_d_t = import_schedule_4_d_t()\n",
    "\n",
    "x = np.arange(8760)\n",
    "y = get_E_Elc_tv_led_d_t(0.15, 125, t_tv_led_lv_standby_d_t, t_tv_led_lv_view_d_t, t_tv_led_standby_d_t, t_tv_led_view_d_t, 4)\n",
    "\n",
    "plt.figure(figsize=(9,2))\n",
    "plt.subplot(1,1,1)\n",
    "plt.plot(x, y, label=\"kWh\")\n",
    "\n",
    "plt.grid(True)\n",
    "\n",
    "plt.title(\"hours/kWh\")\n",
    "plt.xlabel(\"hours\")\n",
    "plt.ylabel(\"kWh\")\n",
    "\n",
    "plt.xlim(0,8760)\n",
    "plt.ylim(0,)\n",
    "\n",
    "plt.legend()\n",
    "plt.show()"
   ]
  },
  {
   "cell_type": "markdown",
   "metadata": {},
   "source": [
    "### 省エネ基準との比較用時刻別消費電力量の書き出し"
   ]
  },
  {
   "cell_type": "code",
   "execution_count": 12,
   "metadata": {
    "collapsed": true
   },
   "outputs": [],
   "source": [
    "n = 1\n",
    "\n",
    "df = pd.read_csv('HEA_schedule_sample.csv', encoding='SHIFT_JIS')\n",
    "ds1 = df['液晶テレビ（居間）_' + str(n) + '人世帯_待機']\n",
    "ds2 = df['液晶テレビ（居間）_' + str(n) + '人世帯_視聴']\n",
    "ds3 = df['液晶テレビ（洋室1）_' + str(n) + '人世帯_待機']\n",
    "ds4 = df['液晶テレビ（洋室1）_' + str(n) + '人世帯_視聴']\n",
    "\n",
    "dat = get_E_Elc_tv_led_d_t(0.15, 125, ds1, ds2, ds3, ds4, n)\n",
    "np.savetxt('tv' + str(n) +'.csv',dat,delimiter=',',fmt = \" %s \")"
   ]
  },
  {
   "cell_type": "code",
   "execution_count": 13,
   "metadata": {
    "collapsed": true
   },
   "outputs": [],
   "source": [
    "n = 2\n",
    "\n",
    "df = pd.read_csv('HEA_schedule_sample.csv', encoding='SHIFT_JIS')\n",
    "ds1 = df['液晶テレビ（居間）_' + str(n) + '人世帯_待機']\n",
    "ds2 = df['液晶テレビ（居間）_' + str(n) + '人世帯_視聴']\n",
    "ds3 = df['液晶テレビ（洋室1）_' + str(n) + '人世帯_待機']\n",
    "ds4 = df['液晶テレビ（洋室1）_' + str(n) + '人世帯_視聴']\n",
    "\n",
    "dat = get_E_Elc_tv_led_d_t(0.15, 125, ds1, ds2, ds3, ds4, n)\n",
    "np.savetxt('tv' + str(n) +'.csv',dat,delimiter=',',fmt = \" %s \")"
   ]
  },
  {
   "cell_type": "code",
   "execution_count": 14,
   "metadata": {
    "collapsed": true
   },
   "outputs": [],
   "source": [
    "n = 3\n",
    "\n",
    "df = pd.read_csv('HEA_schedule_sample.csv', encoding='SHIFT_JIS')\n",
    "ds1 = df['液晶テレビ（居間）_' + str(n) + '人世帯_待機']\n",
    "ds2 = df['液晶テレビ（居間）_' + str(n) + '人世帯_視聴']\n",
    "ds3 = df['液晶テレビ（洋室1）_' + str(n) + '人世帯_待機']\n",
    "ds4 = df['液晶テレビ（洋室1）_' + str(n) + '人世帯_視聴']\n",
    "\n",
    "dat = get_E_Elc_tv_led_d_t(0.15, 125, ds1, ds2, ds3, ds4, n)\n",
    "np.savetxt('tv' + str(n) +'.csv',dat,delimiter=',',fmt = \" %s \")"
   ]
  },
  {
   "cell_type": "code",
   "execution_count": 15,
   "metadata": {
    "collapsed": true
   },
   "outputs": [],
   "source": [
    "n = 4\n",
    "\n",
    "df = pd.read_csv('HEA_schedule_sample.csv', encoding='SHIFT_JIS')\n",
    "ds1 = df['液晶テレビ（居間）_' + str(n) + '人世帯_待機']\n",
    "ds2 = df['液晶テレビ（居間）_' + str(n) + '人世帯_視聴']\n",
    "ds3 = df['液晶テレビ（洋室1）_' + str(n) + '人世帯_待機']\n",
    "ds4 = df['液晶テレビ（洋室1）_' + str(n) + '人世帯_視聴']\n",
    "\n",
    "dat = get_E_Elc_tv_led_d_t(0.15, 125, ds1, ds2, ds3, ds4, n)\n",
    "np.savetxt('tv' + str(n) +'.csv',dat,delimiter=',',fmt = \" %s \")"
   ]
  }
 ],
 "metadata": {
  "kernelspec": {
   "display_name": "Python 3",
   "language": "python",
   "name": "python3"
  },
  "language_info": {
   "codemirror_mode": {
    "name": "ipython",
    "version": 3
   },
   "file_extension": ".py",
   "mimetype": "text/x-python",
   "name": "python",
   "nbconvert_exporter": "python",
   "pygments_lexer": "ipython3",
   "version": "3.6.3"
  }
 },
 "nbformat": 4,
 "nbformat_minor": 2
}
