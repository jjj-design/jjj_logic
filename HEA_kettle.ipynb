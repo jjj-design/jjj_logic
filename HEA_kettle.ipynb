{
 "cells": [
  {
   "cell_type": "code",
   "execution_count": 1,
   "metadata": {},
   "outputs": [],
   "source": [
    "import numpy as np\n",
    "import pandas as pd\n",
    "import matplotlib.pyplot as plt"
   ]
  },
  {
   "cell_type": "markdown",
   "metadata": {},
   "source": [
    "# 家電  "
   ]
  },
  {
   "cell_type": "markdown",
   "metadata": {},
   "source": [
    "## 電気ケトル"
   ]
  },
  {
   "cell_type": "markdown",
   "metadata": {},
   "source": [
    "### 時刻別消費電力量\n",
    "$$\n",
    "\\begin{cases}\n",
    "E_{ Elc, kttl, boil } \\times tm_{ kttl, boil, d, t } \\times 10^{ -3 } & (4人世帯) \\\\\n",
    "E_{ Elc, kttl, boil } \\times tm_{ kttl, boil, d, t } \\times 10^{ -3 } \\times \\frac{ 1 }{ 3 } & (2人世帯) \\\\\n",
    "E_{ Elc, kttl, boil } \\times tm_{ kttl, boil, d, t } \\times 10^{ -3 } \\times \\frac{ 2 }{ 3 } & (1人世帯)\n",
    "\\end{cases}\n",
    "$$\n",
    "\n",
    "$ E_{ Elc, washer, d, t } $：日付dの時刻tにおける消費電力量,kWh  \n",
    "$ E_{ Elc, washer, wash } $：1回の沸き上げ消費電力量,Wh  \n",
    "$ tm_{ wahser, d, t } $：日付dの時刻tにおける沸き上げ回数,回  \n",
    "$ 10^{ -3 } $：単位換算,Wh -> kWh"
   ]
  },
  {
   "cell_type": "code",
   "execution_count": 2,
   "metadata": {},
   "outputs": [],
   "source": [
    "def get_E_Elc_kttl_d_t(P_Elc_kttl_boil_rtd, tm_kttl_boil_d_t, number_of_people):\n",
    "    \"\"\"時刻別の消費電力を計算する\n",
    "    \n",
    "    Parameters\n",
    "    ----------\n",
    "    P_Elc_kttl_boil_rtd : float\n",
    "        定格消費電力,W\n",
    "        \n",
    "    number_of_people : int\n",
    "        世帯人数, 人\n",
    "        \n",
    "    Returns\n",
    "    ----------\n",
    "    E_Elc_kttl_d_t : ndarray(N-dimensional array)\n",
    "        1年間の全時間の消費電力量を格納したND配列, Wh\n",
    "        d日t時の消費電力量が年開始時から8760個連続して格納されている\n",
    "    \"\"\"\n",
    "    \n",
    "    E_Elc_kttl_boil = get_E_Elc_kttl_boil(P_Elc_kttl_boil_rtd)\n",
    "    \n",
    "    if number_of_people == 4:\n",
    "        E_Elc_kttl_d_t = E_Elc_kttl_boil * tm_kttl_boil_d_t\n",
    "    elif number_of_people == 2:\n",
    "        E_Elc_kttl_d_t = E_Elc_kttl_boil * tm_kttl_boil_d_t * 1 / 3\n",
    "    elif number_of_people == 1:\n",
    "        E_Elc_kttl_d_t = E_Elc_kttl_boil * tm_kttl_boil_d_t * 2 / 3\n",
    "    else:\n",
    "        raise ValueError(number_of_people)\n",
    "        \n",
    "    return E_Elc_kttl_d_t"
   ]
  },
  {
   "cell_type": "markdown",
   "metadata": {},
   "source": [
    "### 動作別の消費電力"
   ]
  },
  {
   "cell_type": "markdown",
   "metadata": {},
   "source": [
    "#### 沸き上げ時の消費電力量  \n",
    "$$\n",
    "E_{ Elc, kttl, boil } = P_{ Elc, kttl, boil, rtd } \\times 0.1\n",
    "$$\n",
    "\n",
    "$ E_{ Elc, kttl, boil, rtd } $：定格消費電力量,W  \n",
    "$ 0.1 $：沸き上げ時間（1回の沸き上げ時間6分）,h "
   ]
  },
  {
   "cell_type": "code",
   "execution_count": 3,
   "metadata": {},
   "outputs": [],
   "source": [
    "def get_E_Elc_kttl_boil(P_Elc_kttl_boil_rtd):\n",
    "    \"\"\"沸き上げ時の消費電力量を計算する\n",
    "    \n",
    "    Parameters\n",
    "    ----------\n",
    "    P_Elc_kttl_boil_rtd : float\n",
    "        定格消費電力,W\n",
    "        \n",
    "    Returns\n",
    "    ----------\n",
    "    E_Elc_kttl_boil : float\n",
    "        1回の沸き上げ消費電力量,Wh\n",
    "    \"\"\"\n",
    "\n",
    "    E_Elc_kttl_boil = P_Elc_kttl_boil_rtd * 0.1\n",
    "\n",
    "        \n",
    "    return E_Elc_kttl_boil"
   ]
  },
  {
   "cell_type": "markdown",
   "metadata": {},
   "source": [
    "## サンプル計算"
   ]
  },
  {
   "cell_type": "markdown",
   "metadata": {},
   "source": [
    "### 家電スケジュールの読み込み\n",
    "ここでは、サンプルデータをcsvファイルから読み込む"
   ]
  },
  {
   "cell_type": "code",
   "execution_count": 4,
   "metadata": {},
   "outputs": [],
   "source": [
    "def import_schedule_1_d_t() -> np.ndarray:\n",
    "    \"\"\"家電スケジュールを外部CSVファイルからND配列に読み込む\n",
    "    \n",
    "    Returns\n",
    "    ----------\n",
    "    E_Elc_tv_led_d_t : ndarray(N-dimensional array)\n",
    "        1年間の全時間の家電スケジュールを格納したND配列\n",
    "        d日t時の家電スケジュールが年開始時から8760個連続して格納されている\n",
    "    \"\"\"\n",
    "    \n",
    "    df = pd.read_csv('HEA_schedule_sample.csv', encoding='SHIFT_JIS')\n",
    "    ds = df['電気ケトル_4人世帯_沸上']\n",
    "    schedule_1_d_t = ds.values\n",
    "    return schedule_1_d_t"
   ]
  },
  {
   "cell_type": "markdown",
   "metadata": {},
   "source": [
    "#### 洗濯時の消費電力量"
   ]
  },
  {
   "cell_type": "code",
   "execution_count": 5,
   "metadata": {},
   "outputs": [
    {
     "data": {
      "text/plain": [
       "116.0"
      ]
     },
     "execution_count": 5,
     "metadata": {},
     "output_type": "execute_result"
    }
   ],
   "source": [
    "get_E_Elc_kttl_boil(1160)"
   ]
  },
  {
   "cell_type": "markdown",
   "metadata": {},
   "source": [
    "### 時刻別消費電力量"
   ]
  },
  {
   "cell_type": "code",
   "execution_count": 6,
   "metadata": {},
   "outputs": [
    {
     "data": {
      "image/png": "[encoded data removed]",
      "text/plain": [
       "<Figure size 648x144 with 1 Axes>"
      ]
     },
     "metadata": {
      "needs_background": "light"
     },
     "output_type": "display_data"
    }
   ],
   "source": [
    "tm_kttl_boil_d_t = import_schedule_1_d_t()\n",
    "\n",
    "x = np.arange(8760)\n",
    "y = get_E_Elc_kttl_d_t(1160, tm_kttl_boil_d_t, 4)\n",
    "\n",
    "plt.figure(figsize=(9,2))\n",
    "plt.subplot(1,1,1)\n",
    "plt.plot(x, y, label=\"kWh\")\n",
    "\n",
    "plt.grid(True)\n",
    "\n",
    "plt.title(\"hours/kWh\")\n",
    "plt.xlabel(\"hours\")\n",
    "plt.ylabel(\"kWh\")\n",
    "\n",
    "plt.xlim(0,8760)\n",
    "plt.ylim(0,)\n",
    "\n",
    "plt.legend()\n",
    "plt.show()"
   ]
  },
  {
   "cell_type": "markdown",
   "metadata": {},
   "source": [
    "### 省エネ基準との比較用時刻別消費電力量の書き出し"
   ]
  },
  {
   "cell_type": "code",
   "execution_count": 7,
   "metadata": {},
   "outputs": [],
   "source": [
    "tm_washer_wash_d_t = import_schedule_1_d_t()\n",
    "\n",
    "tm_kttl_boil_d_t = import_schedule_1_d_t()\n",
    "\n",
    "dat = get_E_Elc_kttl_d_t(1160, tm_kttl_boil_d_t, 4)\n",
    "\n",
    "np.savetxt('tmp.csv',dat,delimiter=',',fmt = \" %s \")"
   ]
  }
 ],
 "metadata": {
  "kernelspec": {
   "display_name": "Python 3",
   "language": "python",
   "name": "python3"
  },
  "language_info": {
   "codemirror_mode": {
    "name": "ipython",
    "version": 3
   },
   "file_extension": ".py",
   "mimetype": "text/x-python",
   "name": "python",
   "nbconvert_exporter": "python",
   "pygments_lexer": "ipython3",
   "version": "3.7.1"
  }
 },
 "nbformat": 4,
 "nbformat_minor": 2
}
