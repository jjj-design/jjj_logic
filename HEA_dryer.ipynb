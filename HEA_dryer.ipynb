{
 "cells": [
  {
   "cell_type": "code",
   "execution_count": 1,
   "metadata": {},
   "outputs": [],
   "source": [
    "import numpy as np\n",
    "import pandas as pd\n",
    "import matplotlib.pyplot as plt"
   ]
  },
  {
   "cell_type": "markdown",
   "metadata": {},
   "source": [
    "# 家電  "
   ]
  },
  {
   "cell_type": "markdown",
   "metadata": {},
   "source": [
    "## ヘアドライヤー"
   ]
  },
  {
   "cell_type": "markdown",
   "metadata": {},
   "source": [
    "### 時刻別消費電力量\n",
    "$$\n",
    "E_{ Elc, dryer, d, t } =  P_{ Elc, dryer } \\times t_{ dryer, d, t } \\times 10^{ -3 }\n",
    "$$\n",
    "\n",
    "$ E_{ Elc, dryer, d, t } $：日付dの時刻tにおける消費電力量,kWh  \n",
    "$ P_{ Elc, dryer, oprt } $：使用時の消費電力,W  \n",
    "$ t_{ dryer, oprt, d, t } $：日付dの時刻tにおける使用時間,h  \n",
    "$ 10^{ -3 } $：単位換算,Wh -> kWh"
   ]
  },
  {
   "cell_type": "code",
   "execution_count": 2,
   "metadata": {},
   "outputs": [],
   "source": [
    "def get_E_Elc_dryer_d_t(P_Elc_dryer_rtd, t_dryer_oprt_d_t, number_of_people):\n",
    "    \"\"\"時刻別消費電力量を計算する\n",
    "    \n",
    "    Parameters\n",
    "    ----------\n",
    "    P_Elc_dryer_rtd : float\n",
    "        定格消費電力, W\n",
    "        \n",
    "    t_dryer_oprt_d_t : ndarray(N-dimensional array)\n",
    "        1年間の全時間の使用時間を格納したND配列, h\n",
    "        d日t時の使用時間が年開始時から8760個連続して格納されている\n",
    "    \n",
    "    number_of_people : int\n",
    "        世帯人数, 人        \n",
    "    \n",
    "    Returns\n",
    "    ----------\n",
    "    E_Elc_dryer_d_t : ndarray(N-dimensional array)\n",
    "        1年間の全時間の消費電力量を格納したND配列, kWh\n",
    "        d日t時の消費電力量が年開始時から8760個連続して格納されている\n",
    "    \"\"\"\n",
    "    \n",
    "    P_Elc_dryer_oprt = get_P_Elc_dryer_oprt(P_Elc_dryer_rtd, number_of_people)\n",
    "    \n",
    "    E_Elc_dryer_d_t = P_Elc_dryer_oprt * t_dryer_oprt_d_t\n",
    "    E_Elc_dryer_d_t = E_Elc_dryer_d_t * 10**(-3)\n",
    "    \n",
    "    return E_Elc_dryer_d_t"
   ]
  },
  {
   "cell_type": "markdown",
   "metadata": {},
   "source": [
    "### 動作別の消費電力"
   ]
  },
  {
   "cell_type": "markdown",
   "metadata": {},
   "source": [
    "#### 使用時の消費電力  \n",
    "$$\n",
    "P_{ Elc, dryer } =　\n",
    "\\begin{cases}\n",
    "0.8974 \\times P_{ Elc, dryer, rtd } & ( \\mbox{ 4人世帯 } ) \\\\\n",
    "0.8974 \\times P_{ Elc, dryer, rtd } \\times \\frac{ 1 }{ 3 } & ( \\mbox{ 2人世帯 } ) \\\\\n",
    "0.8974 \\times P_{ Elc, dryer, rtd } \\times \\frac{ 2 }{ 3 } & ( \\mbox{ 1人世帯 } )\n",
    "\\end{cases}\n",
    "$$\n",
    "\n",
    "$ P_{ Elc, dryer, rtd } $：定格消費電力,W"
   ]
  },
  {
   "cell_type": "code",
   "execution_count": 3,
   "metadata": {},
   "outputs": [],
   "source": [
    "def get_P_Elc_dryer_oprt(P_Elc_dryer_rtd, number_of_people):\n",
    "    \"\"\"使用時の消費電力を計算する\n",
    "    \n",
    "    Parameters\n",
    "    ----------\n",
    "    P_Elc_dryer_rtd : float\n",
    "        定格消費電力, W\n",
    "        \n",
    "    number_of_people : int\n",
    "        世帯人数, 人        \n",
    "        \n",
    "    Returns\n",
    "    ----------\n",
    "    P_Elc_dryer_oprt : float\n",
    "        使用時の消費電力, W\n",
    "    \"\"\"\n",
    "    \n",
    "    if number_of_people == 4:\n",
    "        P_Elc_dryer_oprt = 0.8974 * P_Elc_dryer_rtd\n",
    "    elif number_of_people == 2:\n",
    "        P_Elc_dryer_oprt = 0.8974 * P_Elc_dryer_rtd * 1 / 3\n",
    "    elif number_of_people == 1:\n",
    "        P_Elc_dryer_oprt = 0.8974 * P_Elc_dryer_rtd * 2 / 3\n",
    "    else:\n",
    "        raise ValueError(number_of_people)\n",
    "        \n",
    "    return P_Elc_dryer_oprt"
   ]
  },
  {
   "cell_type": "markdown",
   "metadata": {},
   "source": [
    "## サンプル計算"
   ]
  },
  {
   "cell_type": "markdown",
   "metadata": {},
   "source": [
    "### 家電スケジュールの読み込み\n",
    "ここでは、サンプルデータをcsvファイルから読み込む"
   ]
  },
  {
   "cell_type": "code",
   "execution_count": 4,
   "metadata": {},
   "outputs": [],
   "source": [
    "def import_schedule_1_d_t() -> np.ndarray:\n",
    "    \"\"\"家電スケジュールを外部CSVファイルからND配列に読み込む\n",
    "    \n",
    "    Returns\n",
    "    ----------\n",
    "    E_Elc_tv_led_d_t : ndarray(N-dimensional array)\n",
    "        1年間の全時間の家電スケジュールを格納したND配列\n",
    "        d日t時の家電スケジュールが年開始時から8760個連続して格納されている\n",
    "    \"\"\"\n",
    "    \n",
    "    df = pd.read_csv('HEA_schedule_sample.csv', encoding='SHIFT_JIS')\n",
    "    ds = df['ヘアドライヤー_4人世帯_使用']\n",
    "    schedule_1_d_t = ds.values\n",
    "    return schedule_1_d_t"
   ]
  },
  {
   "cell_type": "markdown",
   "metadata": {},
   "source": [
    "#### 調理時の消費電力"
   ]
  },
  {
   "cell_type": "code",
   "execution_count": 5,
   "metadata": {},
   "outputs": [
    {
     "data": {
      "text/plain": [
       "1076.8799999999999"
      ]
     },
     "execution_count": 5,
     "metadata": {},
     "output_type": "execute_result"
    }
   ],
   "source": [
    "get_P_Elc_dryer_oprt(1200, 4)"
   ]
  },
  {
   "cell_type": "markdown",
   "metadata": {},
   "source": [
    "### 時刻別消費電力量"
   ]
  },
  {
   "cell_type": "code",
   "execution_count": 6,
   "metadata": {},
   "outputs": [
    {
     "data": {
      "image/png": "[encoded data removed]",
      "text/plain": [
       "<Figure size 648x144 with 1 Axes>"
      ]
     },
     "metadata": {
      "needs_background": "light"
     },
     "output_type": "display_data"
    }
   ],
   "source": [
    "t_dryer_oprt_d_t = import_schedule_1_d_t()\n",
    "\n",
    "x = np.arange(8760)\n",
    "y = get_E_Elc_dryer_d_t(1200, t_dryer_oprt_d_t, 4)\n",
    "\n",
    "plt.figure(figsize=(9,2))\n",
    "plt.subplot(1,1,1)\n",
    "plt.plot(x, y, label=\"kWh\")\n",
    "\n",
    "plt.grid(True)\n",
    "\n",
    "plt.title(\"hours/kWh\")\n",
    "plt.xlabel(\"hours\")\n",
    "plt.ylabel(\"kWh\")\n",
    "\n",
    "plt.xlim(0,8760)\n",
    "plt.ylim(0,)\n",
    "\n",
    "plt.legend()\n",
    "plt.show()"
   ]
  },
  {
   "cell_type": "markdown",
   "metadata": {},
   "source": [
    "### 省エネ基準との比較用時刻別消費電力量の書き出し"
   ]
  },
  {
   "cell_type": "code",
   "execution_count": 7,
   "metadata": {},
   "outputs": [],
   "source": [
    "t_dryer_oprt_d_t = import_schedule_1_d_t()\n",
    "\n",
    "dat = get_E_Elc_dryer_d_t(1200, t_dryer_oprt_d_t, 4)\n",
    "\n",
    "np.savetxt('tmp.csv',dat,delimiter=',',fmt = \" %s \")"
   ]
  }
 ],
 "metadata": {
  "kernelspec": {
   "display_name": "Python 3",
   "language": "python",
   "name": "python3"
  },
  "language_info": {
   "codemirror_mode": {
    "name": "ipython",
    "version": 3
   },
   "file_extension": ".py",
   "mimetype": "text/x-python",
   "name": "python",
   "nbconvert_exporter": "python",
   "pygments_lexer": "ipython3",
   "version": "3.7.1"
  }
 },
 "nbformat": 4,
 "nbformat_minor": 2
}
