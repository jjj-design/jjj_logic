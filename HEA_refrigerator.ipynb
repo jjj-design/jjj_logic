{
 "cells": [
  {
   "cell_type": "code",
   "execution_count": 1,
   "metadata": {
    "collapsed": true,
    "scrolled": true
   },
   "outputs": [],
   "source": [
    "import numpy as np\n",
    "import pandas as pd\n",
    "import matplotlib.pyplot as plt"
   ]
  },
  {
   "cell_type": "markdown",
   "metadata": {},
   "source": [
    "# 家電  "
   ]
  },
  {
   "cell_type": "markdown",
   "metadata": {},
   "source": [
    "## 冷蔵庫"
   ]
  },
  {
   "cell_type": "markdown",
   "metadata": {},
   "source": [
    "### 時刻別消費電力量\n",
    "$$\n",
    "E_{ Elc, rfrg, d, t } = \n",
    "\\begin{cases}\n",
    "P_{ Elc, dfrst, rtd } \\times C_{ dfrst } \\times 1  \\times 10^{ -3 } & (t = 0, 23) \\\\\n",
    "P_{ Elc, rfrg, oprt, d } \\times 1 \\times 10^{ -3 } & (それ以外)\n",
    "\\end{cases}\n",
    "$$\n",
    "\n",
    "$ E_{ Elc, rfrg, d, t } $：日付dの時刻tにおける消費電力量, kWh/h  \n",
    "$ P_{ Elc, dfrst, rtd } $：除霜用電熱装置の定格消費電力( = 150 ),W  \n",
    "$ C_{ dfrst } $：除霜用電熱装置の消費電力量の評価係数( = 0.9 ),-  \n",
    "$ 1 $：1時間(消費電力を消費電力量に換算するための数値),h  \n",
    "$ P_{ Elc, rfrg, oprt, ave } $：日付dにおける稼働時における平均消費電力,W"
   ]
  },
  {
   "cell_type": "code",
   "execution_count": 2,
   "metadata": {
    "collapsed": true,
    "scrolled": true
   },
   "outputs": [],
   "source": [
    "def get_E_Elc_rfrg_d_t(P_Elc_dfrst_rtd, C_dfrst, theta_ave_d, E_Elc_rfrg_annual_JIS, JIS_year):\n",
    "    \"\"\"時刻別消費電力量を計算する\n",
    "    \n",
    "    Parameters\n",
    "    ----------\n",
    "    P_Elc_dfrst_rtd : float\n",
    "        除霜用電熱装置の定格消費電力( = 150 ), W\n",
    "    \n",
    "    C_dfrst : float\n",
    "        除霜用電熱装置の消費電力量の評価係数( = 0.9 ), -\n",
    "    \n",
    "    theta_ave_d : ndarray(N-dimensional array)\n",
    "        日別の平均外気温度を格納したND配列, ℃\n",
    "        d日の平均外気温度が年開始日から365個連続して格納されている\n",
    "    \n",
    "    E_Elc_rfrg_annual_JIS : float\n",
    "        JISに準拠して測定された年間消費電量, kWh\n",
    "        \n",
    "    JIS_year : Int\n",
    "        年間消費電力量の測定時に準拠したJIS規格の制定・改正年, 年\n",
    "    \n",
    "    Returns\n",
    "    ----------\n",
    "    E_Elc_rfrg_d_t : ndarray(N-dimensional array)\n",
    "        1年間の全時間の消費電力量を格納したND配列, Wh\n",
    "        d日t時の消費電力量が年開始時から8760個連続して格納されている\n",
    "    \"\"\"\n",
    "    \n",
    "    theta_amb_ave_d = get_theta_amb_ave_d(theta_ave_d)\n",
    "    E_Elc_rfrg_annual = get_E_Elc_rfrg_annual(E_Elc_rfrg_annual_JIS, JIS_year)\n",
    "    P_Elc_rfrg_oprt_ave_d = get_P_Elc_rfrg_oprt_ave_d(E_Elc_rfrg_annual, theta_amb_ave_d)\n",
    "\n",
    "    rfrg_dfrst_d = [1,0,0,0,0,0,0,0,0,0,0,0,0,0,0,0,0,0,0,0,0,0,0,1]\n",
    "    rfrg_oprt_d  = [0,1,1,1,1,1,1,1,1,1,1,1,1,1,1,1,1,1,1,1,1,1,1,0]\n",
    "    \n",
    "    rfrg_dfrst_d_t = np.tile(rfrg_dfrst_d, 365)\n",
    "    rfrg_oprt_d_t  = np.tile(rfrg_oprt_d, 365)\n",
    "    \n",
    "    E_Elc_rfrg_dfrst_d_t = rfrg_dfrst_d_t * P_Elc_dfrst_rtd * C_dfrst * 1 * 10**(-3)\n",
    "    P_Elc_rfrg_oprt_ave_d_t = np.array([])\n",
    "    for p in P_Elc_rfrg_oprt_ave_d: \n",
    "        P_Elc_rfrg_oprt_ave_d_t = np.append(P_Elc_rfrg_oprt_ave_d_t, np.tile(p, 24))\n",
    "    E_Elc_rfrg_oprt_d_t = rfrg_oprt_d_t * P_Elc_rfrg_oprt_ave_d_t * 1 *10**(-3)\n",
    "\n",
    "    E_Elc_rfrg_d_t = E_Elc_rfrg_dfrst_d_t + E_Elc_rfrg_oprt_d_t\n",
    "    \n",
    "    return E_Elc_rfrg_d_t"
   ]
  },
  {
   "cell_type": "markdown",
   "metadata": {},
   "source": [
    "### 稼働時の平均消費電力  \n",
    "$$\n",
    "P_{ Elc, rfrg, oprt, ave, d } = \n",
    "\\frac\n",
    "{ E_{ Elc, rfrg, est, d } }\n",
    "{ t_{ rfrg, oprt } } \n",
    "$$\n",
    "$$\n",
    "\\begin{eqnarray*}\n",
    "E_{ Elc, rfrg, est, d } \n",
    "& = & \n",
    "[\n",
    "(3.283 \\times 10^{ -3 } - 2.0 \\times 10^{ -6 } \\times E_{ Elc, rfrg, annual } ) \n",
    "\\times ( \\theta_{ amb, ave, d}^2 - 30 \\times \\theta_{ amb, ave, d } ) \\\\\n",
    "& \\quad & + 1.85 \\times 10^{ -3 } \\times E_{ Elc, rfrg, annual} \\\\\n",
    "& \\quad & + 1.329\n",
    "]\n",
    "\\times 10^3\n",
    "\\end{eqnarray*}\n",
    "$$\n",
    "\n",
    "$ E_{ Elc, rfrg, est, d } $：日付dにおける推定日積算消費電力量,kWh  \n",
    "$ t_{ rfrg, oprt } $：1日当たりの稼働時間数( = 22 ),h  \n",
    "$ E_{ Elc, rfrg, annual } $：年間消費電力量,kWh  \n",
    "$ \\theta_{ amb, ave, d } $：日付dにおける冷蔵庫の周辺空気の日平均温度,℃  \n"
   ]
  },
  {
   "cell_type": "code",
   "execution_count": 3,
   "metadata": {
    "collapsed": true,
    "scrolled": true
   },
   "outputs": [],
   "source": [
    "def get_P_Elc_rfrg_oprt_ave_d(E_Elc_rfrg_annual, theta_amb_ave_d):\n",
    "    \n",
    "    \"\"\"\n",
    "    Parameters\n",
    "    ----------\n",
    "    E_Elc_rfrg_annual : float\n",
    "        年間消費電量, kWh\n",
    "        \n",
    "    theta_amb_d : ndarray(N-dimensional array)\n",
    "        1年間の冷蔵庫の周辺空気の日平均温度を格納したND配列, ℃\n",
    "        d日の冷蔵庫の周辺空気の日平均温度が年開始時から365個連続して格納されている\n",
    "    \n",
    "    Returns\n",
    "    ----------\n",
    "    P_Elc_rfrg_oprt_ave_d : ndarray(N-dimensional array)\n",
    "        1年間の稼働時の平均消費電力を格納したND配列, W\n",
    "        d日の稼働時の平均消費電力が年開始時から365個連続して格納されている\n",
    "    \"\"\"\n",
    "    \n",
    "    P_Elc_rfrg_est_d = \\\n",
    "        ( \\\n",
    "            (3.283 * 10**(-3) - 2.0 * 10**(-6) * E_Elc_rfrg_annual) \\\n",
    "            * (theta_amb_ave_d**2 - 30 * theta_amb_ave_d) \\\n",
    "            + 1.85 * 10**(-3) * E_Elc_rfrg_annual \\\n",
    "            + 1.329 \\\n",
    "        ) * 10**3\n",
    "    \n",
    "    P_Elc_rfrg_oprt_ave_d = P_Elc_rfrg_est_d / 22\n",
    "    \n",
    "    return P_Elc_rfrg_oprt_ave_d"
   ]
  },
  {
   "cell_type": "markdown",
   "metadata": {},
   "source": [
    "### 冷蔵庫の周辺空気の日平均温度\n",
    "$$\n",
    "\\theta_{ amb, ave, d } = \n",
    "0.4142 \\times \\theta_{ oa, ave, d } + 15.47\n",
    "$$\n",
    "\n",
    "$ \\theta_{ oa, ave, d } $：日付dにおける日平均外気温度,℃"
   ]
  },
  {
   "cell_type": "code",
   "execution_count": 4,
   "metadata": {
    "collapsed": true,
    "scrolled": true
   },
   "outputs": [],
   "source": [
    "def get_theta_amb_ave_d(theta_ave_d):\n",
    "    \"\"\"時刻別消費電力量を計算する\n",
    "    \n",
    "    Parameters\n",
    "    ----------\n",
    "    theta_ave_d : ndarray(N-dimensional array)\n",
    "        1年間の外気の日平均温度[℃]を格納したND配列\n",
    "        d日の外気の日平均温度(＝14.6通年で一定値)[℃]が年開始時から365個連続して格納されている\n",
    "        \n",
    "    Returns\n",
    "    ----------\n",
    "    theta_amb_d : ndarray(N-dimensional array)\n",
    "        1年間の冷蔵庫の周辺空気の日平均温度[℃]を格納したND配列\n",
    "        d日の冷蔵庫の周辺空気の日平均温度[℃]が年開始時から365個連続して格納されている\n",
    "    \"\"\"\n",
    "\n",
    "    theta_amb_ave_d = 0.4142 * theta_ave_d + 15.47\n",
    "    \n",
    "    return theta_amb_ave_d"
   ]
  },
  {
   "cell_type": "markdown",
   "metadata": {},
   "source": [
    "### 冷蔵庫の年間消費電力量 \n",
    " \n",
    "$$\n",
    "E_{ Elc, rfrg, annual } = \n",
    "\\begin{cases}\n",
    "E_{  Elc, rfrg, annual, JIS1999 } & (\\mbox{JIS C 9801:1999})　\\\\\n",
    "\\frac{ E_{ Elc, rfrg, annual, JIS2006 } }{ 3.48 } & (\\mbox{JIS C 9801:2006})　\\\\\n",
    "\\frac{ E_{  Elc, rfrg, annual, JIS2015 } }{ 3.48 }  \\times 0.2891 & (\\mbox{JIS C 9801:2015})\n",
    "\\end{cases}\n",
    "$$\n",
    "  \n",
    "$ E_{ Elc, rfrg, annual, JIS1999 } $：JIS C 9801：1999に基づく年間消費電力量,kWh  \n",
    "$ E_{ Elc, rfrg, annual, JIS2006 } $：JIS C 9801：2006に基づく年間消費電力量,kWh  \n",
    "$ E_{ Elc, rfrg, annual, JIS2015 } $：JIS C 9801：2015に基づく年間消費電力量,kWh"
   ]
  },
  {
   "cell_type": "code",
   "execution_count": 5,
   "metadata": {
    "collapsed": true,
    "scrolled": true
   },
   "outputs": [],
   "source": [
    "def get_E_Elc_rfrg_annual(E_Elc_rfrg_annual_JIS,JIS_year):\n",
    "    \"\"\"時刻別消費電力量を計算する\n",
    "    \n",
    "    Parameters\n",
    "    ----------\n",
    "    E_Elc_rfrg_annual_JIS : float\n",
    "        JISに準拠して測定された年間消費電量[kWh]\n",
    "        \n",
    "    JIS_year : Int\n",
    "        年間消費電力量の測定時に準拠したJIS規格の制定年[年]\n",
    "        \n",
    "    Returns\n",
    "    ----------\n",
    "    E_Elc_rfrg_annual : float\n",
    "        年間消費電量[kWh]\n",
    "    \"\"\"\n",
    "    \n",
    "    if JIS_year == 1999:\n",
    "        E_Elc_rfrg_annual = E_Elc_rfrg_annual_JIS\n",
    "    elif JIS_year == 2006:\n",
    "        E_Elc_rfrg_annual = E_Elc_rfrg_annual_JIS / 3.48\n",
    "    elif JIS_year == 2015:\n",
    "        E_Elc_rfrg_annual = E_Elc_rfrg_annual_JIS / 3.48 * 0.2891\n",
    "    else:\n",
    "        raise ValueError(JIS_year)\n",
    "    \n",
    "    return E_Elc_rfrg_annual"
   ]
  },
  {
   "cell_type": "markdown",
   "metadata": {},
   "source": [
    "## サンプル計算"
   ]
  },
  {
   "cell_type": "markdown",
   "metadata": {},
   "source": [
    "### 外気条件の読み込み\n",
    "ここでは、サンプルデータをcsvファイルから読み込む"
   ]
  },
  {
   "cell_type": "code",
   "execution_count": 6,
   "metadata": {
    "collapsed": true,
    "scrolled": true
   },
   "outputs": [],
   "source": [
    "def import_theta_ex_d() -> np.ndarray:\n",
    "    \"\"\"\n",
    "    日平均外気温度を外部CSVファイルからND配列に読み込む\n",
    "    Returns:\n",
    "        theta_ext_d : 日平均外気温度[365], ℃ \n",
    "    \"\"\"\n",
    "#    df = pd.read_csv('external_air_temperature_sample.csv', encoding='SHIFT_JIS')\n",
    "    df = pd.read_csv('external_air_temperature_constant_value.csv', encoding='SHIFT_JIS')\n",
    "    ds = df['日平均外気温度[℃]']\n",
    "    theta_ext_d = ds.values\n",
    "    return theta_ext_d"
   ]
  },
  {
   "cell_type": "markdown",
   "metadata": {},
   "source": [
    "### 冷蔵庫の年間消費電力量"
   ]
  },
  {
   "cell_type": "code",
   "execution_count": 7,
   "metadata": {
    "scrolled": true
   },
   "outputs": [
    {
     "data": {
      "text/plain": [
       "0.5067557471264368"
      ]
     },
     "execution_count": 7,
     "metadata": {},
     "output_type": "execute_result"
    }
   ],
   "source": [
    "get_E_Elc_rfrg_annual(6.1, 2015)"
   ]
  },
  {
   "cell_type": "markdown",
   "metadata": {},
   "source": [
    "### 冷蔵庫の周辺空気の日平均温度"
   ]
  },
  {
   "cell_type": "code",
   "execution_count": 8,
   "metadata": {
    "scrolled": true
   },
   "outputs": [
    {
     "data": {
      "image/png": "[encoded data removed]",
      "text/plain": [
       "<matplotlib.figure.Figure at 0x16fca0ff518>"
      ]
     },
     "metadata": {},
     "output_type": "display_data"
    }
   ],
   "source": [
    "x = np.arange(365)\n",
    "y = get_theta_amb_ave_d(import_theta_ex_d())\n",
    "\n",
    "plt.figure(figsize=(9,2))\n",
    "plt.subplot(1,1,1)\n",
    "plt.plot(x, y, label=\"deg.\")\n",
    "\n",
    "plt.grid(True)\n",
    "\n",
    "plt.title(\"days/deg.\")\n",
    "plt.xlabel(\"days\")\n",
    "plt.ylabel(\"deg.\")\n",
    "\n",
    "plt.xlim(0,365)\n",
    "plt.ylim(-10,40)\n",
    "\n",
    "plt.legend()\n",
    "plt.show()\n"
   ]
  },
  {
   "cell_type": "markdown",
   "metadata": {},
   "source": [
    "### 稼働時の平均消費電力 "
   ]
  },
  {
   "cell_type": "code",
   "execution_count": 9,
   "metadata": {
    "scrolled": true
   },
   "outputs": [
    {
     "data": {
      "image/png": "[encoded data removed]",
      "text/plain": [
       "<matplotlib.figure.Figure at 0x16fcbe80198>"
      ]
     },
     "metadata": {},
     "output_type": "display_data"
    }
   ],
   "source": [
    "x = np.arange(365)\n",
    "y = get_P_Elc_rfrg_oprt_ave_d(get_E_Elc_rfrg_annual(6.1, 2015), get_theta_amb_ave_d(import_theta_ex_d()))\n",
    "\n",
    "plt.figure(figsize=(9,2))\n",
    "plt.subplot(1,1,1)\n",
    "plt.plot(x, y, label=\"w\")\n",
    "\n",
    "plt.grid(True)\n",
    "\n",
    "plt.title(\"days/w\")\n",
    "plt.xlabel(\"days\")\n",
    "plt.ylabel(\"w\")\n",
    "\n",
    "plt.xlim(0,365)\n",
    "plt.ylim(0)\n",
    "\n",
    "plt.legend()\n",
    "plt.show()\n"
   ]
  },
  {
   "cell_type": "markdown",
   "metadata": {},
   "source": [
    "### 時刻別消費電力量"
   ]
  },
  {
   "cell_type": "code",
   "execution_count": 10,
   "metadata": {
    "scrolled": true
   },
   "outputs": [
    {
     "data": {
      "image/png": "[encoded data removed]",
      "text/plain": [
       "<matplotlib.figure.Figure at 0x16fcc2accf8>"
      ]
     },
     "metadata": {},
     "output_type": "display_data"
    }
   ],
   "source": [
    "x = np.arange(8760)\n",
    "y = get_E_Elc_rfrg_d_t(150,0.9,import_theta_ex_d(),6.1,2015)\n",
    "\n",
    "plt.figure(figsize=(9,2))\n",
    "plt.subplot(1,1,1)\n",
    "plt.plot(x, y, label=\"kWh\")\n",
    "\n",
    "plt.grid(True)\n",
    "\n",
    "plt.title(\"hours/kWh\")\n",
    "plt.xlabel(\"hours\")\n",
    "plt.ylabel(\"kWh\")\n",
    "\n",
    "plt.xlim(0,8760)\n",
    "plt.ylim(0,)\n",
    "\n",
    "plt.legend()\n",
    "plt.show()"
   ]
  },
  {
   "cell_type": "markdown",
   "metadata": {},
   "source": [
    "### 省エネ基準との比較用時刻別消費電力量の書き出し"
   ]
  },
  {
   "cell_type": "code",
   "execution_count": 11,
   "metadata": {
    "scrolled": false
   },
   "outputs": [
    {
     "data": {
      "text/plain": [
       "array([ 0.135     ,  0.04271908,  0.04271908, ...,  0.04271908,\n",
       "        0.04271908,  0.135     ])"
      ]
     },
     "execution_count": 11,
     "metadata": {},
     "output_type": "execute_result"
    }
   ],
   "source": [
    "dat = get_E_Elc_rfrg_d_t(150,0.9,import_theta_ex_d(),330,2006)\n",
    "np.savetxt('ref.csv',dat,delimiter=',',fmt = \" %s \")\n",
    "\n",
    "dat"
   ]
  }
 ],
 "metadata": {
  "kernelspec": {
   "display_name": "Python 3",
   "language": "python",
   "name": "python3"
  },
  "language_info": {
   "codemirror_mode": {
    "name": "ipython",
    "version": 3
   },
   "file_extension": ".py",
   "mimetype": "text/x-python",
   "name": "python",
   "nbconvert_exporter": "python",
   "pygments_lexer": "ipython3",
   "version": "3.6.3"
  }
 },
 "nbformat": 4,
 "nbformat_minor": 2
}
