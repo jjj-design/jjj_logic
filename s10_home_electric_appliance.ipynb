{
 "cells": [
  {
   "cell_type": "code",
   "execution_count": 1,
   "metadata": {
    "collapsed": true
   },
   "outputs": [],
   "source": [
    "import numpy as np"
   ]
  },
  {
   "cell_type": "markdown",
   "metadata": {},
   "source": [
    "# 家電"
   ]
  },
  {
   "cell_type": "markdown",
   "metadata": {},
   "source": [
    "## 定義"
   ]
  },
  {
   "cell_type": "markdown",
   "metadata": {},
   "source": [
    "省エネ基準の解説書では以下のように定義されている。\n",
    "\n",
    ">一般消費者の生活の用に供され、電気を機能上重要な作動のために使用する機械器具及びこれらの電源として使用される電池類で、商用交流電源を使用するもののほか、電池を使用するものを含む。ただし、住宅設備としてあらかじめ工事により住宅に設置されることを目的として設計、製造されたものは除く。\n",
    "\n",
    "https://www.kenken.go.jp/becc/documents/house/1_181016_v06_PVer0205.pdf\n",
    "\n",
    "p.1-7　2.55節\n",
    "\n",
    "つまり、工事の発生しない「電気機械器具」および「電池」を対象とする？"
   ]
  },
  {
   "cell_type": "markdown",
   "metadata": {},
   "source": [
    "## 年間消費電力量の計算"
   ]
  },
  {
   "cell_type": "markdown",
   "metadata": {},
   "source": [
    "### 家電群の年間消費電力量"
   ]
  },
  {
   "cell_type": "markdown",
   "metadata": {},
   "source": [
    "ここでは、住宅に持ち込まれた評価対象となる全ての家電を家電群と呼称する。  \n",
    "家電群の年間消費電力量$E_{elc,HEAs,y}$ [Wh/year] は、住宅に持ち込まれた$i$個の家電の年間消費電力$E_{elc,HEA,i,y}$ [Wh/year]の積算値である。\n",
    "\n",
    "$$\n",
    "E_{elc,HEAs,y} = \\sum E_{elc,HEA,i,y}\n",
    "$$"
   ]
  },
  {
   "cell_type": "code",
   "execution_count": 2,
   "metadata": {
    "collapsed": true
   },
   "outputs": [],
   "source": [
    "def get_E_elc_HEAs(E_elc_HEAs):\n",
    "    return np.sum(E_elc_HEAs)"
   ]
  },
  {
   "cell_type": "markdown",
   "metadata": {},
   "source": [
    "### 家電毎の年間消費電力"
   ]
  },
  {
   "cell_type": "markdown",
   "metadata": {},
   "source": [
    "家電$i$の年間消費電力量$E_{elc,HEAs,i,y}$は、計算ステップ$step$時の家電$i$の消費電力量$E_{elc,HEA,i,step}$ [Wh] の積算値である。  \n",
    "家電の立ち上がりや経過による変動に対応するため、計算ステップの総和は通年とするがその間隔は家電毎に任意とする。  \n",
    "他の住宅設備との電力収支を見る場合には、計算ステップ間隔は揃えた方が望ましい。  \n",
    "\n",
    "$$\n",
    "E_{elc,HEA,i,y} = \\frac{1}{\\eta_{batt-chrg,HEA,i} \\times \\eta_{batt-dischrg,HEA,i}} \\times \\sum \\frac{t_{sec,step} \\times P_{elc,HEA,i,step}}{3600}　 \n",
    "$$\n",
    "\n",
    "$\\eta_{batt-chrg,HEA,i}$ :家電$i$に内蔵された充電池(<u>batt</u>ery)の充電(<u>ch</u>a<u>rg</u>e)効率（充電池を内蔵しない場合は1とする） [-]  \n",
    "$\\eta_{batt-dischrg,HEA,i}$ :家電$i$に内蔵された充電池の放電(<u>disch</u>a<u>rg</u>e)効率（充電池を内蔵しない場合は1とする） [-]  \n",
    "$t_{sec,step}$ :家電$i$の計算ステップ$step$の秒数 [s]  \n",
    "$P_{elc,HEA,i,step}$ :家電$i$の計算ステップ$step$時の消費電力(<u>el</u>e<u>c</u>tric <u>P</u>ower) [W]  \n",
    "\n",
    "\n",
    "計算ステップ$step$時の家電$i$の消費電力$P_{elc,HEA,i,step}$ は、在室者や生活スケジュールから設定される家電の稼働状態のスケジュールと家電毎の各稼働状態の消費電力から求まる。"
   ]
  },
  {
   "cell_type": "code",
   "execution_count": 3,
   "metadata": {
    "collapsed": true
   },
   "outputs": [],
   "source": [
    "def get_E_elc_HEA(eta_batt_chrg, eta_batt_dischrg, t_sec_steps, P_elc_HEA_steps):\n",
    "    E_elc_HEA = 1 / (eta_batt_chrg * eta_batt_dischrg) * np.sum(t_sec_steps * P_elc_HEA_steps)\n",
    "    return E_elc_HEA"
   ]
  },
  {
   "cell_type": "markdown",
   "metadata": {},
   "source": [
    "### 家電iの稼働状態スケジュールの書式と作成する計算パラメーター用辞書データ"
   ]
  },
  {
   "cell_type": "markdown",
   "metadata": {},
   "source": [
    "在室者や生活スケジュールから設定される家電の稼働スケジュールは、以下の書式とする。  \n",
    "これは、スケジュールプログラムで作成するため、家電とは独立している。\n",
    "\n",
    "\n",
    "|計算ステップ(step)  |0  |1  |…　|n  |  \n",
    "|:-----------:| :-:| :-:| :-:| :-:|  \n",
    "|稼働開始時間(t_step_strt) | 1/1 0:00 | 1/1 0:15 | … | 12/31 23:45 | \n",
    "|稼働状態(Stat_num) | 3 | 1 | … | 2 |   \n",
    "\n",
    "上記の書式から以下の辞書を作成する\n",
    "* (key)計算ステップ番号\n",
    "* 稼働開始時間\n",
    "* 稼働状態値\n",
    "* 継続秒数"
   ]
  },
  {
   "cell_type": "code",
   "execution_count": 4,
   "metadata": {},
   "outputs": [
    {
     "name": "stdout",
     "output_type": "stream",
     "text": [
      "{0: (numpy.datetime64('2001-01-01T00:00:00'), 3, 900.0), 1: (numpy.datetime64('2001-01-01T00:15:00'), 1, 31534200.0), 2: (numpy.datetime64('2001-12-31T23:45:00'), 2, 900.0)}\n"
     ]
    }
   ],
   "source": [
    "stp = np.array([0,1,2])\n",
    "tm = np.array(['2001-01-01T00:00:00', '2001-01-01T00:15:00', '2001-12-31T23:45:00'], dtype='datetime64')\n",
    "stat = np.array([3,1,2])\n",
    "sec = np.array([(np.datetime64(tm[1]) - np.datetime64(tm[0])).item().total_seconds(), \\\n",
    "                (np.datetime64(tm[2]) - np.datetime64(tm[1])).item().total_seconds(), \\\n",
    "                (np.datetime64('2002-01-01T00:00:00') - np.datetime64(tm[2])).item().total_seconds()])\n",
    "schedule_of_HEA = dict(zip(stp, zip(tm, stat, sec)))\n",
    "\n",
    "print(schedule_of_HEA)"
   ]
  },
  {
   "cell_type": "markdown",
   "metadata": {},
   "source": [
    "### 家電iに必要な関数"
   ]
  },
  {
   "cell_type": "markdown",
   "metadata": {},
   "source": [
    "家電$i$に必要な関数は、スケジュールから渡される稼働状態値の消費電力を返す。  \n",
    "これは各家電毎に定義する。  \n",
    "\n",
    "例えば、  \n",
    "ドライヤーは時刻変動による消費電力の変化が無いため、計算ステップ時の稼働状態（ON/OFF）のみを引数として消費電力を返すことが出来る。  \n",
    "\n",
    "\n",
    "一方で  \n",
    "冷蔵庫など周囲空気の影響を受ける場合は「時刻」「気象条件」などの複数の引数が必要になってしまう。  \n",
    "\n",
    "このような場合は、辞書データを増やすのではなく\n",
    "家電関数を呼び出した際に、家電側の初期化関数で「気象条件など」読み込みを行う形にしたい。  \n",
    "\n",
    "ただし、  \n",
    "気象データ等のデータベースは初回のみ読み込みをしたい。さらに、家電の計算を終了する際に破棄するコードが余分に必要になる。  \n",
    "\n",
    "\n",
    "\n",
    "$$\n",
    "P_{elc,HEA,i,step} =\n",
    "\\begin{cases}\n",
    "P_{elc,state,0} & 稼働状態1\\\\\n",
    "P_{elc,state,1} & 稼働状態2\\\\\n",
    "… & …\\\\\n",
    "P_{elc,state,n} & 稼働状態n\\\\\n",
    "\\end{cases}\n",
    "$$\n",
    "\n",
    "$P_{elc,state,n}$ :稼働状態$n$の消費電力 [W] \n",
    "\n",
    "\n",
    "| 稼働条件 | 消費電力 | 説明 |   \n",
    "|:-------:|:-------:|:----:|    \n",
    "|0        |0        |停止 |  \n",
    "|1        |3      |休止 |\n",
    "|2        |20      |待機 |\n",
    "|3        |100      |低負荷時 |\n",
    "|…        |…      |… |\n",
    "|n        |300      |高負荷時 |\n"
   ]
  },
  {
   "cell_type": "code",
   "execution_count": 5,
   "metadata": {
    "collapsed": true
   },
   "outputs": [],
   "source": [
    "def get_E_elc_HEA_sample_steps(dictionary_of_HEA_schedule):\n",
    "    \n",
    "    key_list = dictionary_of_HEA_schedule.keys()\n",
    "    t_sec_steps = np.zeros(len(key_list))\n",
    "    P_elc_HEA_steps = np.zeros(len(key_list))\n",
    "    \n",
    "    for i in range(len(key_list)):\n",
    "        t_sec_steps[i] = dictionary_of_HEA_schedule[i][2]\n",
    "        if dictionary_of_HEA_schedule[i][1] == 0:\n",
    "            P_elc_HEA_steps[i] = 0 \n",
    "        elif dictionary_of_HEA_schedule[i][1] == 1:\n",
    "            P_elc_HEA_steps[i] = 3\n",
    "        elif dictionary_of_HEA_schedule[i][1] == 2:\n",
    "            P_elc_HEA_steps[i] = 20 \n",
    "        elif dictionary_of_HEA_schedule[i][1] == 3:\n",
    "            P_elc_HEA_steps[i] = 100 \n",
    "        else:\n",
    "            raise ValueError(item)\n",
    "    \n",
    "    return t_sec_steps, P_elc_HEA_steps"
   ]
  },
  {
   "cell_type": "code",
   "execution_count": 6,
   "metadata": {},
   "outputs": [
    {
     "data": {
      "text/plain": [
       "(array([  9.00000000e+02,   3.15342000e+07,   9.00000000e+02]),\n",
       " array([ 100.,    3.,   20.]))"
      ]
     },
     "execution_count": 6,
     "metadata": {},
     "output_type": "execute_result"
    }
   ],
   "source": [
    "get_E_elc_HEA_sample_steps(schedule_of_HEA)"
   ]
  },
  {
   "cell_type": "markdown",
   "metadata": {},
   "source": [
    "## サンプル計算"
   ]
  },
  {
   "cell_type": "markdown",
   "metadata": {},
   "source": [
    "### 計算条件"
   ]
  },
  {
   "cell_type": "markdown",
   "metadata": {},
   "source": [
    "- 家電1：\n",
    "    - 内蔵充電池：なし\n",
    "    - スケジュールは　sch1　\n",
    "    - 稼働状態は　get_E_elc_HEA_sample_steps　\n",
    "- 家電2：\n",
    "    - 内蔵充電池：あり（充電効率　0.95、放電効率 0.96）\n",
    "    - スケジュールは　sch2　\n",
    "    - 稼働状態は　get_E_elc_HEA_sample_steps"
   ]
  },
  {
   "cell_type": "code",
   "execution_count": 7,
   "metadata": {
    "collapsed": true
   },
   "outputs": [],
   "source": [
    "#最終的にはスケジュールプログラムからsh1を直接読み込む\n",
    "stp1 = np.array([0,1,2])\n",
    "tm1 = np.array(['2001-01-01T00:00:00', '2001-01-01T00:30:00', '2001-12-29T23:45:00'], dtype='datetime64')\n",
    "stat1 = np.array([3,1,2])\n",
    "sec1 = np.array([(np.datetime64(tm1[1]) - np.datetime64(tm1[0])).item().total_seconds(), \\\n",
    "                (np.datetime64(tm1[2]) - np.datetime64(tm1[1])).item().total_seconds(), \\\n",
    "                (np.datetime64('2002-01-01T00:00:00') - np.datetime64(tm1[2])).item().total_seconds()])\n",
    "sch1 = dict(zip(stp1, zip(tm1, stat1, sec1)))"
   ]
  },
  {
   "cell_type": "code",
   "execution_count": 8,
   "metadata": {
    "collapsed": true
   },
   "outputs": [],
   "source": [
    "#最終的にはスケジュールプログラムからsh2を直接読み込む\n",
    "stp2 = np.array([0,1,2])\n",
    "tm2 = np.array(['2001-01-01T00:00:00', '2001-01-01T00:15:00', '2001-12-31T05:45:00'], dtype='datetime64')\n",
    "stat2 = np.array([3,1,2])\n",
    "sec2 = np.array([(np.datetime64(tm2[1]) - np.datetime64(tm2[0])).item().total_seconds(), \\\n",
    "                (np.datetime64(tm2[2]) - np.datetime64(tm2[1])).item().total_seconds(), \\\n",
    "                (np.datetime64('2002-01-01T00:00:00') - np.datetime64(tm2[2])).item().total_seconds()])\n",
    "sch2 = dict(zip(stp2, zip(tm2, stat2, sec2)))"
   ]
  },
  {
   "cell_type": "code",
   "execution_count": 9,
   "metadata": {
    "collapsed": true
   },
   "outputs": [],
   "source": [
    "def sample_calc():\n",
    "    a1, b1 =get_E_elc_HEA_sample_steps(sch1)\n",
    "    a2, b2 =get_E_elc_HEA_sample_steps(sch2)\n",
    "    \n",
    "    d = np.array([get_E_elc_HEA(1, 1, a1, b1), get_E_elc_HEA(0.95, 0.96, a2, b2)])\n",
    "    return get_E_elc_HEAs(d)"
   ]
  },
  {
   "cell_type": "code",
   "execution_count": 10,
   "metadata": {},
   "outputs": [
    {
     "data": {
      "text/plain": [
       "202792736.84210527"
      ]
     },
     "execution_count": 10,
     "metadata": {},
     "output_type": "execute_result"
    }
   ],
   "source": [
    "sample_calc()"
   ]
  }
 ],
 "metadata": {
  "kernelspec": {
   "display_name": "Python 3",
   "language": "python",
   "name": "python3"
  },
  "language_info": {
   "codemirror_mode": {
    "name": "ipython",
    "version": 3
   },
   "file_extension": ".py",
   "mimetype": "text/x-python",
   "name": "python",
   "nbconvert_exporter": "python",
   "pygments_lexer": "ipython3",
   "version": "3.6.3"
  }
 },
 "nbformat": 4,
 "nbformat_minor": 2
}
