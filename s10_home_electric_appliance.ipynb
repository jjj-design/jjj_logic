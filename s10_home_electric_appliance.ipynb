{
 "cells": [
  {
   "cell_type": "code",
   "execution_count": 1,
   "metadata": {},
   "outputs": [
    {
     "name": "stdout",
     "output_type": "stream",
     "text": [
      "Importing Jupyter notebook from s10_home_electric_appliance_refrigerator_2.ipynb\n"
     ]
    }
   ],
   "source": [
    "import numpy as np\n",
    "import pandas as pd\n",
    "import nbimporter\n",
    "import matplotlib.pyplot as plt\n",
    "\n",
    "from s10_home_electric_appliance_refrigerator_2 import calc_E_elc as get_e_elec_refrigerator"
   ]
  },
  {
   "cell_type": "markdown",
   "metadata": {},
   "source": [
    "# 家電"
   ]
  },
  {
   "cell_type": "markdown",
   "metadata": {},
   "source": [
    "## 定義"
   ]
  },
  {
   "cell_type": "markdown",
   "metadata": {},
   "source": [
    "省エネ基準の解説書では以下のように定義されている。\n",
    "\n",
    ">一般消費者の生活の用に供され、電気を機能上重要な作動のために使用する機械器具及びこれらの電源として使用される電池類で、商用交流電源を使用するもののほか、電池を使用するものを含む。ただし、住宅設備としてあらかじめ工事により住宅に設置されることを目的として設計、製造されたものは除く。\n",
    "\n",
    "https://www.kenken.go.jp/becc/documents/house/1_181016_v06_PVer0205.pdf\n",
    "\n",
    "p.1-7　2.55節\n",
    "\n",
    "つまり、工事の発生しない「電気機械器具」および「電池」を対象とする？"
   ]
  },
  {
   "cell_type": "markdown",
   "metadata": {},
   "source": [
    "## 年間消費電力量の計算"
   ]
  },
  {
   "cell_type": "markdown",
   "metadata": {},
   "source": [
    "### 家電群の年間消費電力量"
   ]
  },
  {
   "cell_type": "markdown",
   "metadata": {},
   "source": [
    "ここでは、住宅に持ち込まれた評価対象となる全ての家電を家電群と呼称する。  \n",
    "家電群の年間消費電力量$E_{elc,HEAs,y}$ [Wh/year] は、住宅に持ち込まれた$i$個の家電の年間消費電力$E_{elc,HEA,i,y}$ [Wh/year]の積算値である。\n",
    "\n",
    "$$\n",
    "E_{elc,HEAs,y} = \\sum E_{elc,HEA,i,y}\n",
    "$$"
   ]
  },
  {
   "cell_type": "code",
   "execution_count": 2,
   "metadata": {},
   "outputs": [],
   "source": [
    "def get_E_elc_HEAs(E_elc_HEAs):\n",
    "    return np.sum(E_elc_HEAs)"
   ]
  },
  {
   "cell_type": "markdown",
   "metadata": {},
   "source": [
    "### 家電毎の年間消費電力"
   ]
  },
  {
   "cell_type": "markdown",
   "metadata": {},
   "source": [
    "家電$i$の年間消費電力量$E_{elc,HEAs,i,y}$は、計算ステップ$step$時の家電$i$の消費電力量$E_{elc,HEA,i,step}$ [Wh] の積算値である。  \n",
    "家電の立ち上がりや経過による変動に対応するため、計算ステップの総和は通年とするがその間隔は家電毎に任意とする。  \n",
    "他の住宅設備との電力収支を見る場合には、計算ステップ間隔は揃えた方が望ましい。  \n",
    "\n",
    "$$\n",
    "E_{elc,HEA,i,y} = \\frac{1}{\\eta_{batt-chrg,HEA,i} \\times \\eta_{batt-dischrg,HEA,i}} \\times \\sum \\frac{t_{sec,step} \\times P_{elc,HEA,i,step}}{3600}　 \n",
    "$$\n",
    "\n",
    "$\\eta_{batt-chrg,HEA,i}$ :家電$i$に内蔵された充電池(<u>batt</u>ery)の充電(<u>ch</u>a<u>rg</u>e)効率（充電池を内蔵しない場合は1とする） [-]  \n",
    "$\\eta_{batt-dischrg,HEA,i}$ :家電$i$に内蔵された充電池の放電(<u>disch</u>a<u>rg</u>e)効率（充電池を内蔵しない場合は1とする） [-]  \n",
    "$t_{sec,step}$ :家電$i$の計算ステップ$step$の秒数 [s]  \n",
    "$P_{elc,HEA,i,step}$ :家電$i$の計算ステップ$step$時の消費電力(<u>el</u>e<u>c</u>tric <u>P</u>ower) [W]  \n",
    "\n",
    "\n",
    "計算ステップ$step$時の家電$i$の消費電力$P_{elc,HEA,i,step}$ は、在室者や生活スケジュールから設定される家電の稼働状態のスケジュールと家電毎の各稼働状態の消費電力から求まる。"
   ]
  },
  {
   "cell_type": "code",
   "execution_count": 3,
   "metadata": {},
   "outputs": [],
   "source": [
    "def get_E_elc_HEA(eta_batt_chrg, eta_batt_dischrg, t_sec_steps, P_elc_HEA_steps):\n",
    "    E_elc_HEA = 1 / (eta_batt_chrg * eta_batt_dischrg) * np.sum(t_sec_steps * P_elc_HEA_steps)\n",
    "    return E_elc_HEA"
   ]
  },
  {
   "cell_type": "markdown",
   "metadata": {},
   "source": [
    "### 家電iの稼働状態スケジュールの書式と作成する計算パラメーター用辞書データ"
   ]
  },
  {
   "cell_type": "markdown",
   "metadata": {},
   "source": [
    "在室者や生活スケジュールから設定される家電の稼働スケジュールは、以下の書式とする。  \n",
    "これは、スケジュールプログラムで作成するため、家電とは独立している。\n",
    "\n",
    "\n",
    "|計算ステップ(step)  |0  |1  |…　|n  |  \n",
    "|:-----------:| :-:| :-:| :-:| :-:|  \n",
    "|稼働開始時間(t_step_strt) | 1/1 0:00 | 1/1 0:15 | … | 12/31 23:45 | \n",
    "|稼働状態(Stat_num) | 3 | 1 | … | 2 |   \n",
    "\n",
    "上記の書式から以下の辞書を作成する\n",
    "* (key)計算ステップ番号\n",
    "* 稼働開始時間\n",
    "* 稼働状態値\n",
    "* 継続秒数"
   ]
  },
  {
   "cell_type": "code",
   "execution_count": 4,
   "metadata": {},
   "outputs": [
    {
     "name": "stdout",
     "output_type": "stream",
     "text": [
      "{0: (numpy.datetime64('2001-01-01T00:00:00'), 3, 900.0), 1: (numpy.datetime64('2001-01-01T00:15:00'), 1, 31534200.0), 2: (numpy.datetime64('2001-12-31T23:45:00'), 2, 900.0)}\n"
     ]
    }
   ],
   "source": [
    "stp = np.array([0,1,2])\n",
    "tm = np.array(['2001-01-01T00:00:00', '2001-01-01T00:15:00', '2001-12-31T23:45:00'], dtype='datetime64')\n",
    "stat = np.array([3,1,2])\n",
    "sec = np.array([(np.datetime64(tm[1]) - np.datetime64(tm[0])).item().total_seconds(), \\\n",
    "                (np.datetime64(tm[2]) - np.datetime64(tm[1])).item().total_seconds(), \\\n",
    "                (np.datetime64('2002-01-01T00:00:00') - np.datetime64(tm[2])).item().total_seconds()])\n",
    "schedule_of_HEA = dict(zip(stp, zip(tm, stat, sec)))\n",
    "\n",
    "print(schedule_of_HEA)"
   ]
  },
  {
   "cell_type": "markdown",
   "metadata": {},
   "source": [
    "### 家電iに必要な関数"
   ]
  },
  {
   "cell_type": "markdown",
   "metadata": {},
   "source": [
    "家電$i$に必要な関数は、スケジュールから渡される稼働状態値の消費電力を返す。  \n",
    "これは各家電毎に定義する。  \n",
    "\n",
    "例えば、  \n",
    "ドライヤーは時刻変動による消費電力の変化が無いため、計算ステップ時の稼働状態（ON/OFF）のみを引数として消費電力を返すことが出来る。  \n",
    "\n",
    "\n",
    "一方で  \n",
    "冷蔵庫など周囲空気の影響を受ける場合は「時刻」「気象条件」などの複数の引数が必要になってしまう。  \n",
    "\n",
    "このような場合は、辞書データを増やすのではなく\n",
    "家電関数を呼び出した際に、家電側の初期化関数で「気象条件など」読み込みを行う形にしたい。  \n",
    "\n",
    "ただし、  \n",
    "気象データ等のデータベースは初回のみ読み込みをしたい。さらに、家電の計算を終了する際に破棄するコードが余分に必要になる。  \n",
    "\n",
    "\n",
    "\n",
    "$$\n",
    "P_{elc,HEA,i,step} =\n",
    "\\begin{cases}\n",
    "P_{elc,state,0} & 稼働状態1\\\\\n",
    "P_{elc,state,1} & 稼働状態2\\\\\n",
    "… & …\\\\\n",
    "P_{elc,state,n} & 稼働状態n\\\\\n",
    "\\end{cases}\n",
    "$$\n",
    "\n",
    "$P_{elc,state,n}$ :稼働状態$n$の消費電力 [W] \n",
    "\n",
    "\n",
    "| 稼働条件 | 消費電力 | 説明 |   \n",
    "|:-------:|:-------:|:----:|    \n",
    "|0        |0        |停止 |  \n",
    "|1        |3      |休止 |\n",
    "|2        |20      |待機 |\n",
    "|3        |100      |低負荷時 |\n",
    "|…        |…      |… |\n",
    "|n        |300      |高負荷時 |\n"
   ]
  },
  {
   "cell_type": "code",
   "execution_count": 5,
   "metadata": {},
   "outputs": [],
   "source": [
    "def get_E_elc_HEA_sample_steps(dictionary_of_HEA_schedule):\n",
    "    \n",
    "    key_list = dictionary_of_HEA_schedule.keys()\n",
    "    t_sec_steps = np.zeros(len(key_list))\n",
    "    P_elc_HEA_steps = np.zeros(len(key_list))\n",
    "    \n",
    "    for i in range(len(key_list)):\n",
    "        t_sec_steps[i] = dictionary_of_HEA_schedule[i][2]\n",
    "        if dictionary_of_HEA_schedule[i][1] == 0:\n",
    "            P_elc_HEA_steps[i] = 0 \n",
    "        elif dictionary_of_HEA_schedule[i][1] == 1:\n",
    "            P_elc_HEA_steps[i] = 3\n",
    "        elif dictionary_of_HEA_schedule[i][1] == 2:\n",
    "            P_elc_HEA_steps[i] = 20 \n",
    "        elif dictionary_of_HEA_schedule[i][1] == 3:\n",
    "            P_elc_HEA_steps[i] = 100 \n",
    "        else:\n",
    "            raise ValueError(item)\n",
    "    \n",
    "    return t_sec_steps, P_elc_HEA_steps"
   ]
  },
  {
   "cell_type": "code",
   "execution_count": 6,
   "metadata": {},
   "outputs": [
    {
     "data": {
      "text/plain": [
       "(array([9.00000e+02, 3.15342e+07, 9.00000e+02]), array([100.,   3.,  20.]))"
      ]
     },
     "execution_count": 6,
     "metadata": {},
     "output_type": "execute_result"
    }
   ],
   "source": [
    "get_E_elc_HEA_sample_steps(schedule_of_HEA)"
   ]
  },
  {
   "cell_type": "markdown",
   "metadata": {},
   "source": [
    "## サンプル計算"
   ]
  },
  {
   "cell_type": "markdown",
   "metadata": {},
   "source": [
    "### 計算条件"
   ]
  },
  {
   "cell_type": "markdown",
   "metadata": {},
   "source": [
    "- 家電1：\n",
    "    - 内蔵充電池：なし\n",
    "    - スケジュールは　sch1　\n",
    "    - 稼働状態は　get_E_elc_HEA_sample_steps　\n",
    "- 家電2：\n",
    "    - 内蔵充電池：あり（充電効率　0.95、放電効率 0.96）\n",
    "    - スケジュールは　sch2　\n",
    "    - 稼働状態は　get_E_elc_HEA_sample_steps"
   ]
  },
  {
   "cell_type": "code",
   "execution_count": 7,
   "metadata": {},
   "outputs": [],
   "source": [
    "#最終的にはスケジュールプログラムからsh1を直接読み込む\n",
    "stp1 = np.array([0,1,2])\n",
    "tm1 = np.array(['2001-01-01T00:00:00', '2001-01-01T00:30:00', '2001-12-29T23:45:00'], dtype='datetime64')\n",
    "stat1 = np.array([3,1,2])\n",
    "sec1 = np.array([(np.datetime64(tm1[1]) - np.datetime64(tm1[0])).item().total_seconds(), \\\n",
    "                (np.datetime64(tm1[2]) - np.datetime64(tm1[1])).item().total_seconds(), \\\n",
    "                (np.datetime64('2002-01-01T00:00:00') - np.datetime64(tm1[2])).item().total_seconds()])\n",
    "sch1 = dict(zip(stp1, zip(tm1, stat1, sec1)))"
   ]
  },
  {
   "cell_type": "code",
   "execution_count": 8,
   "metadata": {},
   "outputs": [],
   "source": [
    "#最終的にはスケジュールプログラムからsh2を直接読み込む\n",
    "stp2 = np.array([0,1,2])\n",
    "tm2 = np.array(['2001-01-01T00:00:00', '2001-01-01T00:15:00', '2001-12-31T05:45:00'], dtype='datetime64')\n",
    "stat2 = np.array([3,1,2])\n",
    "sec2 = np.array([(np.datetime64(tm2[1]) - np.datetime64(tm2[0])).item().total_seconds(), \\\n",
    "                (np.datetime64(tm2[2]) - np.datetime64(tm2[1])).item().total_seconds(), \\\n",
    "                (np.datetime64('2002-01-01T00:00:00') - np.datetime64(tm2[2])).item().total_seconds()])\n",
    "sch2 = dict(zip(stp2, zip(tm2, stat2, sec2)))"
   ]
  },
  {
   "cell_type": "code",
   "execution_count": 9,
   "metadata": {},
   "outputs": [],
   "source": [
    "def sample_calc():\n",
    "    a1, b1 =get_E_elc_HEA_sample_steps(sch1)\n",
    "    a2, b2 =get_E_elc_HEA_sample_steps(sch2)\n",
    "    \n",
    "    d = np.array([get_E_elc_HEA(1, 1, a1, b1), get_E_elc_HEA(0.95, 0.96, a2, b2)])\n",
    "    return get_E_elc_HEAs(d)"
   ]
  },
  {
   "cell_type": "code",
   "execution_count": 10,
   "metadata": {},
   "outputs": [
    {
     "data": {
      "text/plain": [
       "202792736.84210527"
      ]
     },
     "execution_count": 10,
     "metadata": {},
     "output_type": "execute_result"
    }
   ],
   "source": [
    "sample_calc()"
   ]
  },
  {
   "cell_type": "markdown",
   "metadata": {},
   "source": [
    "# 家電を上からたたくサンプル（三浦作成）"
   ]
  },
  {
   "cell_type": "markdown",
   "metadata": {},
   "source": [
    "## 外気温度の読み込み"
   ]
  },
  {
   "cell_type": "markdown",
   "metadata": {},
   "source": [
    "本来であれば家電の章とは別のところで行うべきであるが、とりあえずここで実施する。"
   ]
  },
  {
   "cell_type": "code",
   "execution_count": 11,
   "metadata": {},
   "outputs": [],
   "source": [
    "def import_theta_ex_d() -> np.ndarray:\n",
    "    \"\"\"\n",
    "    日平均外気温度を外部CSVファイルからND配列に読み込む\n",
    "    Returns:\n",
    "        theta_ext_d : 日平均外気温度[365], ℃ \n",
    "    \"\"\"\n",
    "    \n",
    "    df = pd.read_csv('external_air_temperature_sample.csv', encoding='SHIFT_JIS')\n",
    "    ds = df['日平均外気温度[℃]']\n",
    "    theta_ext_d = ds.values\n",
    "    return theta_ext_d"
   ]
  },
  {
   "cell_type": "code",
   "execution_count": 12,
   "metadata": {},
   "outputs": [
    {
     "data": {
      "text/plain": [
       "array([-13. , -11.8,  -7.8,  -9.1, -10.4, -10.4, -14.6,  -5.9,  -9.9,\n",
       "        -8.4, -10.1, -11.7,  -5.3, -10.1, -12.2, -13. ,  -5.7,  -0.5,\n",
       "        -6. , -12. ,  -9.8,  -6. ,  -7.8, -11.5, -13.7, -10. ,  -5.8,\n",
       "        -5.4,  -9. , -11.6, -13.1, -13.8, -15. , -14.2, -10.8, -10.3,\n",
       "       -11.8,  -7.3,  -5.2,  -6.8,  -3.8,  -5.1,  -6.1, -11.2, -12.2,\n",
       "       -11.6, -11.2,  -9.2, -13.5, -15.1, -15.2, -12.1,  -9.3,  -5.3,\n",
       "         1.1,   0.4,  -1.8,  -4.2,  -6.6,  -9.1,  -7.9,  -4.5,  -9.2,\n",
       "       -10.4,  -5.9,  -7.9,  -8.4,  -8.8,  -4.9,   0.9,   1.8,  -1.6,\n",
       "        -2.6,  -3.2,  -3.6,  -1. ,  -0.1,   0.9,  -0.5,  -2.5,  -2.4,\n",
       "         0.2,  -1.2,  -1.6,  -1.7,  -0.6,   0.6,  -0.6,  -1.6,  -2.1,\n",
       "         0.2,   3. ,   3.1,   3.5,   3. ,   0.6,  -1.4,  -0.2,   2.4,\n",
       "         5.1,   6.8,   9.1,  10.2,   9. ,   1.7,   2. ,   8. ,  12. ,\n",
       "        10.6,   7.6,   0.5,   2.9,   2.8,   0.8,   3.9,   6.9,   8.2,\n",
       "        14.2,  18.5,   9.6,   6.5,   8.4,   6.6,   5.4,   3.9,   6.3,\n",
       "         8.2,   7.1,   5.6,   2. ,   2.5,   3.4,   6.5,   7.6,   9.3,\n",
       "         8. ,  10.8,   9.4,  11.8,  13.1,  13.3,  18.4,  19.5,  14.8,\n",
       "        13.9,  17.5,  19.4,  15.7,  16.7,   9. ,  13.6,   9.8,  10. ,\n",
       "        13.9,  12.9,  12.1,  11.2,  13.5,  18.3,  20. ,   9.9,   8.1,\n",
       "        16.7,  16.4,  15.5,  14.9,  18.2,  16.1,  16.1,  13.6,  12.3,\n",
       "        10.4,  11.7,  14.2,  14. ,  15.6,  16. ,  13.8,  14. ,  17.1,\n",
       "        16.8,  14.5,  18.6,  18.4,  19.1,  21.3,  19.3,  19.1,  11.9,\n",
       "        14.3,  17.4,  17.9,  21.9,  20.7,  15.3,  12.6,  13.1,  15.4,\n",
       "        15.6,  14.4,  18. ,  19.3,  18.9,  21.2,  22.3,  25.3,  25.5,\n",
       "        26. ,  26.6,  20.6,  15.5,  17. ,  21.3,  21.2,  23.4,  20.3,\n",
       "        22. ,  24.5,  26. ,  26.7,  24.5,  21.9,  17.7,  21.2,  22.8,\n",
       "        21.4,  19.7,  17.1,  16.3,  15.7,  16.1,  19. ,  22.6,  24.3,\n",
       "        20.9,  18.4,  17.5,  18.6,  19.7,  19.4,  21.6,  19.6,  19.5,\n",
       "        14.4,  13.5,  13.6,  14.7,  14.4,  16. ,  17. ,  16.3,  15.9,\n",
       "        18. ,  16.7,  16.9,  16.5,  17.3,  16. ,  13.6,  12.6,  14.1,\n",
       "        17.3,  17.2,  16.4,  14.1,  15.8,  13.9,  13.4,  12.7,  12.7,\n",
       "        12.5,  10.3,  10.8,  13.5,  14.6,  14.9,  10.2,   7.3,   7.7,\n",
       "         8.6,   9.5,  11.3,  10.2,  12. ,  11.1,   9.8,   9.7,   8.6,\n",
       "         9.6,   6.2,   4.5,   3.2,   3.6,   6.7,   8. ,   7.3,   9.3,\n",
       "         9.1,   4.8,   4.5,   6.3,   6.2,  10. ,   8.1,   0.7,   1.5,\n",
       "         4.5,   0.7,   0.1,   3.4,   2.3,   2.4,   4.3,   7.5,   8.1,\n",
       "         5.7,   4.5,   3.7,   3.2,   4.4,   8.6,   2.5,   2.1,   1.4,\n",
       "         0.3,  -2.6,  -1.1,  -1.4,  -1.4,  -3.7,  -3.3,  -0.7,  -2.3,\n",
       "         1. ,  -2.8,   0.6,  -3.5,  -5.5,  -5.4,  -5.2,   2.4,   4.8,\n",
       "         0.4,  -1.1,   3.5,  -3.1,  -2.9,  -2. ,  -5. ,  -6. ,  -6.5,\n",
       "        -5. ,  -5.9,  -9.6,  -5.2,  -7.5,  -1.9,  -4.9,  -4.7,  -9.8,\n",
       "        -7.8,  -8.9, -11. ,  -8.8,  -8. ])"
      ]
     },
     "execution_count": 12,
     "metadata": {},
     "output_type": "execute_result"
    }
   ],
   "source": [
    "theta_ex_d = import_theta_ex_d()\n",
    "theta_ex_d"
   ]
  },
  {
   "cell_type": "markdown",
   "metadata": {},
   "source": [
    "## 冷蔵庫周囲温度の計算"
   ]
  },
  {
   "cell_type": "markdown",
   "metadata": {},
   "source": [
    "これが本当に冷蔵庫の周囲温度なのであれば冷蔵庫モジュールに記述すべきである。しかし、建研で実施した実測結果からの近似式であることを考えると、どうやら居室の温度にほぼ等しいと考えられる。そうであれば、冷蔵庫周囲温度ではなく、居室の温度を使用しても差し支えないであろう。仮に冷蔵庫周囲温度だとしても、その説明変数はQ値等ではなく、居室の温度や離隔距離などを説明変数とすべき。ここでは、とりあえず、居室の温度ととらえ、冷蔵庫の上のモジュールで叩くことにする。"
   ]
  },
  {
   "cell_type": "markdown",
   "metadata": {},
   "source": [
    "$$\n",
    "\\theta_{ amb, est, d } =\n",
    "\\begin{cases}\n",
    "(0.0480 \\times Q + 0.3666) \\times \\theta_{ ext, d } + (-1.2435 \\times Q + 18.82) & (居室間歇暖房時) \\\\\n",
    "(0.0604 \\times Q + 0.3668) \\times \\theta_{ ext, d } + (-1.6265 \\times Q + 19.99) & (全館連続暖房時) \\\\\n",
    "\\end{cases}\n",
    "$$\n",
    "\n",
    "$\\theta_{amb,est,d}$ :日付$d$の冷蔵庫周辺空気の推定温度, ℃    \n",
    "$\\theta_{ext,d}$ :日付$d$の日平均外気温度, ℃    \n",
    "$Q$ :住宅の熱損失係数, W/m<sup>2</sup> K    "
   ]
  },
  {
   "cell_type": "code",
   "execution_count": 13,
   "metadata": {},
   "outputs": [],
   "source": [
    "def get_theta_amb_est_d(theta_ext_d: np.ndarray, Q: float, central_heating_exists: bool) -> np.ndarray:\n",
    "    \"\"\"\n",
    "    冷蔵庫周辺空気の推定空気温度を取得する\n",
    "    Args:\n",
    "        theata_ext_d :日別の平均外気温度[365], ℃ \n",
    "        Q: 住宅の熱損失係数 W/m2K \n",
    "        central_heating_exists : 住宅の暖房方式（True:全館連続暖房, False:居室間歇暖房）\n",
    "    Returns:\n",
    "        日別の冷蔵庫周辺空気の推定温度[365], ℃\n",
    "    \"\"\"\n",
    "    \n",
    "    if central_heating_exists: # 全館連続暖房\n",
    "        return (0.0604 * Q + 0.3668) * theta_ext_d + (-1.6265 * Q + 19.99)\n",
    "    else: # 居室間歇暖房\n",
    "        return (0.0480 * Q + 0.3666) * theta_ext_d + (-1.2435 * Q + 18.82)"
   ]
  },
  {
   "cell_type": "code",
   "execution_count": 14,
   "metadata": {},
   "outputs": [
    {
     "data": {
      "text/plain": [
       "array([ 8.71001 ,  9.345866, 11.465386, 10.776542, 10.087698, 10.087698,\n",
       "        7.862202, 12.472158, 10.352638, 11.147458, 10.246662,  9.398854,\n",
       "       12.790086, 10.246662,  9.133914,  8.71001 , 12.578134, 15.33351 ,\n",
       "       12.41917 ,  9.23989 , 10.405626, 12.41917 , 11.465386,  9.50483 ,\n",
       "        8.339094, 10.29965 , 12.525146, 12.737098, 10.82953 ,  9.451842,\n",
       "        8.657022,  8.286106,  7.65025 ,  8.074154,  9.875746, 10.140686,\n",
       "        9.345866, 11.730326, 12.843074, 11.995266, 13.584906, 12.896062,\n",
       "       12.366182,  9.663794,  9.133914,  9.451842,  9.663794, 10.723554,\n",
       "        8.44507 ,  7.597262,  7.544274,  9.186902, 10.670566, 12.790086,\n",
       "       16.181318, 15.810402, 14.644666, 13.372954, 12.101242, 10.776542,\n",
       "       11.412398, 13.21399 , 10.723554, 10.087698, 12.472158, 11.412398,\n",
       "       11.147458, 10.935506, 13.002038, 16.075342, 16.552234, 14.750642,\n",
       "       14.220762, 13.902834, 13.690882, 15.06857 , 15.545462, 16.075342,\n",
       "       15.33351 , 14.27375 , 14.326738, 15.704426, 14.962594, 14.750642,\n",
       "       14.697654, 15.280522, 15.916378, 15.280522, 14.750642, 14.485702,\n",
       "       15.704426, 17.18809 , 17.241078, 17.45303 , 17.18809 , 15.916378,\n",
       "       14.856618, 15.492474, 16.870162, 18.300838, 19.201634, 20.420358,\n",
       "       21.003226, 20.36737 , 16.499246, 16.65821 , 19.83749 , 21.95701 ,\n",
       "       21.215178, 19.625538, 15.86339 , 17.135102, 17.082114, 16.022354,\n",
       "       17.664982, 19.254622, 19.943466, 23.122746, 25.40123 , 20.685298,\n",
       "       19.04267 , 20.049442, 19.095658, 18.459802, 17.664982, 18.936694,\n",
       "       19.943466, 19.360598, 18.565778, 16.65821 , 16.92315 , 17.400042,\n",
       "       19.04267 , 19.625538, 20.526334, 19.83749 , 21.321154, 20.579322,\n",
       "       21.851034, 22.539878, 22.645854, 25.348242, 25.93111 , 23.440674,\n",
       "       22.963782, 24.87135 , 25.878122, 23.917566, 24.447446, 20.36737 ,\n",
       "       22.804818, 20.791274, 20.89725 , 22.963782, 22.433902, 22.009998,\n",
       "       21.533106, 22.75183 , 25.295254, 26.19605 , 20.844262, 19.890478,\n",
       "       24.447446, 24.288482, 23.81159 , 23.493662, 25.242266, 24.129518,\n",
       "       24.129518, 22.804818, 22.115974, 21.109202, 21.798046, 23.122746,\n",
       "       23.01677 , 23.864578, 24.07653 , 22.910794, 23.01677 , 24.659398,\n",
       "       24.500434, 23.28171 , 25.454218, 25.348242, 25.719158, 26.884894,\n",
       "       25.825134, 25.719158, 21.904022, 23.175734, 24.818362, 25.083302,\n",
       "       27.202822, 26.566966, 23.705614, 22.274938, 22.539878, 23.758602,\n",
       "       23.864578, 23.228722, 25.13629 , 25.825134, 25.613182, 26.831906,\n",
       "       27.414774, 29.004414, 29.11039 , 29.37533 , 29.693258, 26.513978,\n",
       "       23.81159 , 24.60641 , 26.884894, 26.831906, 27.997642, 26.355014,\n",
       "       27.25581 , 28.58051 , 29.37533 , 29.746246, 28.58051 , 27.202822,\n",
       "       24.977326, 26.831906, 27.679714, 26.937882, 26.037086, 24.659398,\n",
       "       24.235494, 23.917566, 24.129518, 25.66617 , 27.573738, 28.474534,\n",
       "       26.672942, 25.348242, 24.87135 , 25.454218, 26.037086, 25.878122,\n",
       "       27.043858, 25.984098, 25.93111 , 23.228722, 22.75183 , 22.804818,\n",
       "       23.387686, 23.228722, 24.07653 , 24.60641 , 24.235494, 24.023542,\n",
       "       25.13629 , 24.447446, 24.553422, 24.34147 , 24.765374, 24.07653 ,\n",
       "       22.804818, 22.274938, 23.069758, 24.765374, 24.712386, 24.288482,\n",
       "       23.069758, 23.970554, 22.963782, 22.698842, 22.327926, 22.327926,\n",
       "       22.22195 , 21.056214, 21.321154, 22.75183 , 23.334698, 23.493662,\n",
       "       21.003226, 19.466574, 19.678526, 20.155418, 20.63231 , 21.586094,\n",
       "       21.003226, 21.95701 , 21.480118, 20.791274, 20.738286, 20.155418,\n",
       "       20.685298, 18.883706, 17.98291 , 17.294066, 17.506018, 19.148646,\n",
       "       19.83749 , 19.466574, 20.526334, 20.420358, 18.141874, 17.98291 ,\n",
       "       18.936694, 18.883706, 20.89725 , 19.890478, 15.969366, 16.39327 ,\n",
       "       17.98291 , 15.969366, 15.651438, 17.400042, 16.817174, 16.870162,\n",
       "       17.876934, 19.57255 , 19.890478, 18.618766, 17.98291 , 17.559006,\n",
       "       17.294066, 17.929922, 20.155418, 16.92315 , 16.711198, 16.340282,\n",
       "       15.757414, 14.220762, 15.015582, 14.856618, 14.856618, 13.637894,\n",
       "       13.849846, 15.227534, 14.379726, 16.12833 , 14.114786, 15.916378,\n",
       "       13.74387 , 12.68411 , 12.737098, 12.843074, 16.870162, 18.141874,\n",
       "       15.810402, 15.015582, 17.45303 , 13.955822, 14.061798, 14.53869 ,\n",
       "       12.94905 , 12.41917 , 12.15423 , 12.94905 , 12.472158, 10.511602,\n",
       "       12.843074, 11.62435 , 14.591678, 13.002038, 13.108014, 10.405626,\n",
       "       11.465386, 10.882518,  9.76977 , 10.935506, 11.35941 ])"
      ]
     },
     "execution_count": 14,
     "metadata": {},
     "output_type": "execute_result"
    }
   ],
   "source": [
    "get_theta_amb_est_d(theta_ex_d, 2.7, True)"
   ]
  },
  {
   "cell_type": "code",
   "execution_count": 15,
   "metadata": {},
   "outputs": [
    {
     "data": {
      "image/png": "[encoded data removed]",
      "text/plain": [
       "<Figure size 432x288 with 1 Axes>"
      ]
     },
     "metadata": {},
     "output_type": "display_data"
    }
   ],
   "source": [
    "res = get_e_elec_refrigerator(2.0, False, 6.0, 60)\n",
    "\n",
    "E_elc_y = res[0]\n",
    "E_elc_d_t = res[1]\n",
    "\n",
    "x = np.arange(8760)\n",
    "y = E_elc_d_t\n",
    "\n",
    "plt.plot(x, y, label='refrg')\n",
    "plt.title('power consumption of refrigerator')\n",
    "plt.xlabel('elapsed time [h]')\n",
    "plt.ylabel('energy consumption [Wh]')\n",
    "plt.legend()\n",
    "\n",
    "plt.show()"
   ]
  },
  {
   "cell_type": "code",
   "execution_count": null,
   "metadata": {},
   "outputs": [],
   "source": []
  }
 ],
 "metadata": {
  "kernelspec": {
   "display_name": "Python 3",
   "language": "python",
   "name": "python3"
  },
  "language_info": {
   "codemirror_mode": {
    "name": "ipython",
    "version": 3
   },
   "file_extension": ".py",
   "mimetype": "text/x-python",
   "name": "python",
   "nbconvert_exporter": "python",
   "pygments_lexer": "ipython3",
   "version": "3.6.4"
  }
 },
 "nbformat": 4,
 "nbformat_minor": 2
}
