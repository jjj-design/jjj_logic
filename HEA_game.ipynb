{
 "cells": [
  {
   "cell_type": "code",
   "execution_count": 1,
   "metadata": {
    "collapsed": true
   },
   "outputs": [],
   "source": [
    "import numpy as np\n",
    "import pandas as pd\n",
    "import matplotlib.pyplot as plt"
   ]
  },
  {
   "cell_type": "markdown",
   "metadata": {},
   "source": [
    "# 家電  "
   ]
  },
  {
   "cell_type": "markdown",
   "metadata": {},
   "source": [
    "## PCゲーム機"
   ]
  },
  {
   "cell_type": "markdown",
   "metadata": {},
   "source": [
    "### 時刻別消費電力量\n",
    "$$\n",
    "E_{ Elc, game, d, t } =  (P_{ Elc, game, standby } \\times t_{ game, standby , d, t } + P_{ Elc, game, play } \\times t_{ game, play, d, t }) \\times 10^{ -3 }\n",
    "$$\n",
    "\n",
    "$ E_{ Elc, game, d, t } $：日付dの時刻tにおける消費電力量,kWh  \n",
    "$ P_{ Elc, game, standby } $：待機時の消費電力,W  \n",
    "$ t_{ game, standby, d, t } $：日付dの時刻tにおける待機時間,h  \n",
    "$ P_{ Elc, game, play } $：稼働時の消費電力,W  \n",
    "$ t_{ game, play, d, t } $：日付dの時刻tにおける稼働時間,h  \n",
    "$ 10^{ -3 } $：単位換算,Wh -> kWh"
   ]
  },
  {
   "cell_type": "code",
   "execution_count": 2,
   "metadata": {
    "collapsed": true
   },
   "outputs": [],
   "source": [
    "def get_E_Elc_game_d_t(P_Elc_game_standby_measured, P_Elc_game_play_measured, t_game_standby_d_t, t_game_play_d_t):\n",
    "    \"\"\"時刻別消費電力量を計算する\n",
    "    \n",
    "    Parameters\n",
    "    ----------\n",
    "    P_Elc_game_standby_measured : float\n",
    "        待機時の消費電力の実測値, W\n",
    "        \n",
    "    P_Elc_game_play_measured : float\n",
    "        稼働時の消費電力の実測値, W\n",
    "        \n",
    "    t_game_standby_d_t : ndarray(N-dimensional array)\n",
    "        1年間の全時間の待機時間を格納したND配列, h\n",
    "        d日t時の待機時間が年開始時から8760個連続して格納されている\n",
    "    \n",
    "    t_game_play_d_t : ndarray(N-dimensional array)\n",
    "        1年間の全時間の稼働時間を格納したND配列, h\n",
    "        d日t時の稼働時間が年開始時から8760個連続して格納されている\n",
    "\n",
    "    Returns\n",
    "    ----------\n",
    "    E_Elc_game_d_t : ndarray(N-dimensional array)\n",
    "        1年間の全時間の消費電力量を格納したND配列, Wh\n",
    "        d日t時の消費電力量が年開始時から8760個連続して格納されている\n",
    "    \"\"\"\n",
    "    \n",
    "    P_Elc_game_standby = get_P_Elc_game_standby(P_Elc_game_standby_measured)\n",
    "    P_Elc_game_play = get_P_Elc_game_play(P_Elc_game_play_measured)\n",
    "\n",
    "    E_Elc_game_d_t \\\n",
    "        = P_Elc_game_standby * t_game_standby_d_t \\\n",
    "        + P_Elc_game_play * t_game_play_d_t\n",
    "        \n",
    "    E_Elc_game_d_t = E_Elc_game_d_t * 10**(-3)\n",
    "    \n",
    "    return E_Elc_game_d_t"
   ]
  },
  {
   "cell_type": "markdown",
   "metadata": {},
   "source": [
    "### 動作別の消費電力"
   ]
  },
  {
   "cell_type": "markdown",
   "metadata": {},
   "source": [
    "#### 待機時の消費電力  \n",
    "$$\n",
    "P_{ Elc, game, standby } =　P_{ Elc, game, standby, measured }\n",
    "$$\n",
    "\n",
    "$ P_{ Elc, game, standby, measured } $：待機時の平均消費電力（実測値:0.3）,W"
   ]
  },
  {
   "cell_type": "code",
   "execution_count": 3,
   "metadata": {
    "collapsed": true
   },
   "outputs": [],
   "source": [
    "def get_P_Elc_game_standby(P_Elc_game_standby_measured):\n",
    "    \"\"\"待機時の消費電力を計算する\n",
    "    \n",
    "    Parameters\n",
    "    ----------\n",
    "    P_Elc_game_standby_measured : float\n",
    "        待機時の平均消費電力（実測値）, W\n",
    "\n",
    "    Returns\n",
    "    ----------\n",
    "    P_Elc_game_standby : float\n",
    "        稼働時消費電力, W\n",
    "    \"\"\"\n",
    "        \n",
    "    P_Elc_game_standby = P_Elc_game_standby_measured\n",
    "        \n",
    "    return P_Elc_game_standby"
   ]
  },
  {
   "cell_type": "markdown",
   "metadata": {},
   "source": [
    "#### 稼働時の消費電力  \n",
    "$$\n",
    "P_{ Elc, game, play } =　P_{ Elc, game, play, measured }\n",
    "$$\n",
    "\n",
    "$ P_{ Elc, game, play, measured } $：稼働時の平均消費電力（実測値:95.7）,W"
   ]
  },
  {
   "cell_type": "code",
   "execution_count": 4,
   "metadata": {
    "collapsed": true
   },
   "outputs": [],
   "source": [
    "def get_P_Elc_game_play(P_Elc_game_play_measured):\n",
    "    \"\"\"稼働時の消費電力を計算する\n",
    "    \n",
    "    Parameters\n",
    "    ----------\n",
    "    P_Elc_game_play_measured : float\n",
    "        稼働時の平均消費電力（実測値）, W\n",
    "\n",
    "    Returns\n",
    "    ----------\n",
    "    P_Elc_game_play : float\n",
    "        稼働時消費電力, W\n",
    "    \"\"\"\n",
    "        \n",
    "    P_Elc_game_play = P_Elc_game_play_measured\n",
    "        \n",
    "    return P_Elc_game_play"
   ]
  },
  {
   "cell_type": "markdown",
   "metadata": {},
   "source": [
    "## サンプル計算"
   ]
  },
  {
   "cell_type": "markdown",
   "metadata": {},
   "source": [
    "### 家電スケジュールの読み込み\n",
    "ここでは、サンプルデータをcsvファイルから読み込む"
   ]
  },
  {
   "cell_type": "code",
   "execution_count": 5,
   "metadata": {
    "collapsed": true
   },
   "outputs": [],
   "source": [
    "def import_schedule_1_d_t() -> np.ndarray:\n",
    "    \"\"\"家電スケジュールを外部CSVファイルからND配列に読み込む\n",
    "    \n",
    "    Returns\n",
    "    ----------\n",
    "    E_Elc_tv_led_d_t : ndarray(N-dimensional array)\n",
    "        1年間の全時間の家電スケジュールを格納したND配列\n",
    "        d日t時の家電スケジュールが年開始時から8760個連続して格納されている\n",
    "    \"\"\"\n",
    "    \n",
    "    df = pd.read_csv('HEA_schedule_sample.csv', encoding='SHIFT_JIS')\n",
    "    ds = df['PCゲーム機_4人世帯_待機']\n",
    "    schedule_1_d_t = ds.values\n",
    "    return schedule_1_d_t"
   ]
  },
  {
   "cell_type": "code",
   "execution_count": 6,
   "metadata": {
    "collapsed": true
   },
   "outputs": [],
   "source": [
    "def import_schedule_2_d_t() -> np.ndarray:\n",
    "    \"\"\"家電スケジュールを外部CSVファイルからND配列に読み込む\n",
    "    \n",
    "    Returns\n",
    "    ----------\n",
    "    E_Elc_tv_led_d_t : ndarray(N-dimensional array)\n",
    "        1年間の全時間の家電スケジュールを格納したND配列\n",
    "        d日t時の家電スケジュールが年開始時から8760個連続して格納されている\n",
    "    \"\"\"\n",
    "    \n",
    "    df = pd.read_csv('HEA_schedule_sample.csv', encoding='SHIFT_JIS')\n",
    "    ds = df['PCゲーム機_4人世帯_稼働']\n",
    "    schedule_2_d_t = ds.values\n",
    "    return schedule_2_d_t"
   ]
  },
  {
   "cell_type": "markdown",
   "metadata": {},
   "source": [
    "#### 待機時の消費電力"
   ]
  },
  {
   "cell_type": "code",
   "execution_count": 7,
   "metadata": {},
   "outputs": [
    {
     "data": {
      "text/plain": [
       "0.3"
      ]
     },
     "execution_count": 7,
     "metadata": {},
     "output_type": "execute_result"
    }
   ],
   "source": [
    "get_P_Elc_game_standby(0.3)"
   ]
  },
  {
   "cell_type": "markdown",
   "metadata": {},
   "source": [
    "#### 待機時の消費電力"
   ]
  },
  {
   "cell_type": "code",
   "execution_count": 8,
   "metadata": {},
   "outputs": [
    {
     "data": {
      "text/plain": [
       "95.7"
      ]
     },
     "execution_count": 8,
     "metadata": {},
     "output_type": "execute_result"
    }
   ],
   "source": [
    "get_P_Elc_game_play(95.7)"
   ]
  },
  {
   "cell_type": "markdown",
   "metadata": {},
   "source": [
    "### 時刻別消費電力量"
   ]
  },
  {
   "cell_type": "code",
   "execution_count": 9,
   "metadata": {},
   "outputs": [
    {
     "data": {
      "image/png": "[encoded data removed]",
      "text/plain": [
       "<matplotlib.figure.Figure at 0x2a88171ce80>"
      ]
     },
     "metadata": {},
     "output_type": "display_data"
    }
   ],
   "source": [
    "t_game_standby_d_t = import_schedule_1_d_t()\n",
    "t_game_play_d_t = import_schedule_2_d_t()\n",
    "\n",
    "x = np.arange(8760)\n",
    "y = get_E_Elc_game_d_t(0.3, 95.7, t_game_standby_d_t, t_game_play_d_t)\n",
    "\n",
    "plt.figure(figsize=(9,2))\n",
    "plt.subplot(1,1,1)\n",
    "plt.plot(x, y, label=\"kWh\")\n",
    "\n",
    "plt.grid(True)\n",
    "\n",
    "plt.title(\"hours/kWh\")\n",
    "plt.xlabel(\"hours\")\n",
    "plt.ylabel(\"kWh\")\n",
    "\n",
    "plt.xlim(0,8760)\n",
    "plt.ylim(0,)\n",
    "\n",
    "plt.legend()\n",
    "plt.show()"
   ]
  },
  {
   "cell_type": "markdown",
   "metadata": {},
   "source": [
    "### 省エネ基準との比較用時刻別消費電力量の書き出し"
   ]
  },
  {
   "cell_type": "code",
   "execution_count": 10,
   "metadata": {
    "collapsed": true
   },
   "outputs": [],
   "source": [
    "n = 1\n",
    "\n",
    "df = pd.read_csv('HEA_schedule_sample.csv', encoding='SHIFT_JIS')\n",
    "ds1 = df['PCゲーム機_' + str(n) + '人世帯_待機']\n",
    "ds2 = df['PCゲーム機_' + str(n) + '人世帯_稼働']\n",
    "    \n",
    "\n",
    "dat = get_E_Elc_game_d_t(0.3, 95.7, ds1, ds2)\n",
    "\n",
    "np.savetxt('game' + str(n) + '.csv',dat,delimiter=',',fmt = \" %s \")"
   ]
  },
  {
   "cell_type": "code",
   "execution_count": 11,
   "metadata": {
    "collapsed": true
   },
   "outputs": [],
   "source": [
    "n = 2\n",
    "\n",
    "df = pd.read_csv('HEA_schedule_sample.csv', encoding='SHIFT_JIS')\n",
    "ds1 = df['PCゲーム機_' + str(n) + '人世帯_待機']\n",
    "ds2 = df['PCゲーム機_' + str(n) + '人世帯_稼働']\n",
    "    \n",
    "\n",
    "dat = get_E_Elc_game_d_t(0.3, 95.7, ds1, ds2)\n",
    "\n",
    "np.savetxt('game' + str(n) + '.csv',dat,delimiter=',',fmt = \" %s \")"
   ]
  },
  {
   "cell_type": "code",
   "execution_count": 12,
   "metadata": {
    "collapsed": true
   },
   "outputs": [],
   "source": [
    "n = 3\n",
    "\n",
    "df = pd.read_csv('HEA_schedule_sample.csv', encoding='SHIFT_JIS')\n",
    "ds1 = df['PCゲーム機_' + str(n) + '人世帯_待機']\n",
    "ds2 = df['PCゲーム機_' + str(n) + '人世帯_稼働']\n",
    "    \n",
    "\n",
    "dat = get_E_Elc_game_d_t(0.3, 95.7, ds1, ds2)\n",
    "\n",
    "np.savetxt('game' + str(n) + '.csv',dat,delimiter=',',fmt = \" %s \")"
   ]
  },
  {
   "cell_type": "code",
   "execution_count": 13,
   "metadata": {
    "collapsed": true
   },
   "outputs": [],
   "source": [
    "n = 4\n",
    "\n",
    "df = pd.read_csv('HEA_schedule_sample.csv', encoding='SHIFT_JIS')\n",
    "ds1 = df['PCゲーム機_' + str(n) + '人世帯_待機']\n",
    "ds2 = df['PCゲーム機_' + str(n) + '人世帯_稼働']\n",
    "    \n",
    "\n",
    "dat = get_E_Elc_game_d_t(0.3, 95.7, ds1, ds2)\n",
    "\n",
    "np.savetxt('game' + str(n) + '.csv',dat,delimiter=',',fmt = \" %s \")"
   ]
  }
 ],
 "metadata": {
  "kernelspec": {
   "display_name": "Python 3",
   "language": "python",
   "name": "python3"
  },
  "language_info": {
   "codemirror_mode": {
    "name": "ipython",
    "version": 3
   },
   "file_extension": ".py",
   "mimetype": "text/x-python",
   "name": "python",
   "nbconvert_exporter": "python",
   "pygments_lexer": "ipython3",
   "version": "3.6.3"
  }
 },
 "nbformat": 4,
 "nbformat_minor": 2
}
