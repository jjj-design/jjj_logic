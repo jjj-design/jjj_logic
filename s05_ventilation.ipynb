{
 "cells": [
  {
   "cell_type": "code",
   "execution_count": 1,
   "metadata": {},
   "outputs": [
    {
     "name": "stdout",
     "output_type": "stream",
     "text": [
      "Importing Jupyter notebook from s11_life_schedule.ipynb\n"
     ]
    }
   ],
   "source": [
    "import nbimporter\n",
    "\n",
    "import s11_life_schedule as LS\n",
    "\n",
    "import math\n",
    "from enum import Enum"
   ]
  },
  {
   "cell_type": "markdown",
   "metadata": {},
   "source": [
    "# Chapter V Ventilation System / 換気設備の計算方法"
   ]
  },
  {
   "cell_type": "markdown",
   "metadata": {},
   "source": [
    "## 1. Introduction"
   ]
  },
  {
   "cell_type": "markdown",
   "metadata": {},
   "source": [
    "This calculation depends on the specification of \"Chapter V Ventilation System\" in BRI."
   ]
  },
  {
   "cell_type": "markdown",
   "metadata": {},
   "source": [
    "## 2. Enum Type"
   ]
  },
  {
   "cell_type": "code",
   "execution_count": 2,
   "metadata": {},
   "outputs": [],
   "source": [
    "class VentilationType(Enum):\n",
    "    Duct1_HEX = \"Duct1_HEX\" # ダクト式第一種換気設備（熱交換型換気設備）\n",
    "    Duct1     = \"Duct1\"     # ダクト式第一種換気設備\n",
    "    Duct2     = \"Duct2\"     # ダクト式第二種換気設備\n",
    "    Duct3     = \"Duct3\"     # ダクト式第三種換気設備\n",
    "    Wall1_HEX = \"Wall1_HEX\" # 壁付け式第一種換気設備（熱交換型換気設備）\n",
    "    Wall1     = \"Wall1\"     # 壁付け式第一種換気設備\n",
    "    Wall2     = \"Wall2\"     # 壁付け式第二種換気設備\n",
    "    Wall3     = \"Wall3\"     # 壁付け式第三種換気設備"
   ]
  },
  {
   "cell_type": "code",
   "execution_count": 3,
   "metadata": {},
   "outputs": [],
   "source": [
    "class EnergySavingMethod(Enum):\n",
    "    Over75mm_DC = \"Over75mm_DC\" # 内径75mm以上のダクトのみ使用、直流\n",
    "    Over75mm_AC = \"Over75mm_AC\" # 内径75mm以上のダクトのみ使用、交流、又は直流と交流の併用\n",
    "    Others      = \"Others\"      # 上記以外"
   ]
  },
  {
   "cell_type": "markdown",
   "metadata": {},
   "source": [
    "## 3. Functions"
   ]
  },
  {
   "cell_type": "markdown",
   "metadata": {},
   "source": [
    "### 3.1. Electric Power of Mechanical Ventilation System / 機械換気設備の消費電力量"
   ]
  },
  {
   "cell_type": "markdown",
   "metadata": {},
   "source": [
    "$$\n",
    "\\displaystyle E_{E,V} = E_{E,VG} + E_{E,VL}\n",
    "$$"
   ]
  },
  {
   "cell_type": "markdown",
   "metadata": {},
   "source": [
    "Where  \n",
    "$ E_{E,V} $ is the horly electric power of mechanical ventilation system / 1時間当たりの機械換気設備の消費電力量, kWh/h;  \n",
    "$ E_{E,VG} $ is the hourly electric power of general mecanical ventilation system / 1時間当たりの全般換気設備の消費電力量, kWh/h;    \n",
    "$ E_{E,VL} $ is the hourly electric power of local mechanical ventilation system / 1時間当たりの局所換気設備の消費電力量, kWh/h."
   ]
  },
  {
   "cell_type": "code",
   "execution_count": 4,
   "metadata": {},
   "outputs": [],
   "source": [
    "def get_E_E_V(E_E_VG, E_E_VL):\n",
    "    return E_E_VG + E_E_VL"
   ]
  },
  {
   "cell_type": "markdown",
   "metadata": {},
   "source": [
    "#### Example"
   ]
  },
  {
   "cell_type": "markdown",
   "metadata": {},
   "source": [
    "$ E_{E,VG} $ = 0.3 kWh/h  \n",
    "$ E_{E,VL} $ = 0.2 kWh/h"
   ]
  },
  {
   "cell_type": "code",
   "execution_count": 5,
   "metadata": {},
   "outputs": [
    {
     "data": {
      "text/plain": [
       "0.5"
      ]
     },
     "execution_count": 5,
     "metadata": {},
     "output_type": "execute_result"
    }
   ],
   "source": [
    "get_E_E_V(0.3, 0.2)"
   ]
  },
  {
   "cell_type": "markdown",
   "metadata": {},
   "source": [
    "### 3.2 Electric Power of General Mechanical Ventilation System / 全般換気設備の消費電力量"
   ]
  },
  {
   "cell_type": "markdown",
   "metadata": {},
   "source": [
    "$$\n",
    "E_{E,VG} = f_{SFP} \\times V_R \\times 10^{-3}\n",
    "$$"
   ]
  },
  {
   "cell_type": "markdown",
   "metadata": {},
   "source": [
    "Where  \n",
    "$ E_{E,VG} $ is the hourly electric power of general mecanical ventilation system / 1時間当たりの全般換気設備の消費電力量, kWh/h;  \n",
    "$ f_{SFP} $ is the SFP ( specific Fan Power ) of general mechanical ventilation system / 全般換気設備の比消費電力, W/(m<sup>3</sup>/h);  \n",
    "$ V_R $ is the referenced ventilation amount of general mechanical ventilation system / 全般換気設備の参照機械換気量, m<sup>3</sup>/h."
   ]
  },
  {
   "cell_type": "code",
   "execution_count": 6,
   "metadata": {},
   "outputs": [],
   "source": [
    "def get_E_E_VG(f_SFP, V_R):\n",
    "    return f_SFP * V_R * 10**(-3)"
   ]
  },
  {
   "cell_type": "markdown",
   "metadata": {},
   "source": [
    "#### Example"
   ]
  },
  {
   "cell_type": "markdown",
   "metadata": {},
   "source": [
    "$ f_{SFP} $ = 0.3 W/(m<sup>3</sup>/h)  \n",
    "$ V_R $ = 3.5 m<sup>3</sup>/h"
   ]
  },
  {
   "cell_type": "code",
   "execution_count": 7,
   "metadata": {},
   "outputs": [
    {
     "data": {
      "text/plain": [
       "0.0010500000000000002"
      ]
     },
     "execution_count": 7,
     "metadata": {},
     "output_type": "execute_result"
    }
   ],
   "source": [
    "get_E_E_VG(0.3, 3.5)"
   ]
  },
  {
   "cell_type": "markdown",
   "metadata": {},
   "source": [
    "### 3.3 Referenced Amount of Mechanical Ventilation System / 全般換気設備の参照機械換気量"
   ]
  },
  {
   "cell_type": "markdown",
   "metadata": {},
   "source": [
    "$$\n",
    "V_R = A_A \\times H_R \\times N \\times a \\div e\n",
    "$$"
   ]
  },
  {
   "cell_type": "markdown",
   "metadata": {},
   "source": [
    "Where  \n",
    "$ V_R $ is the referenced ventilation amount of general mechanical ventilation system / 全般換気設備の参照機械換気量, m<sup>3</sup>/h:  \n",
    "$ A_A $ is the floor area / 床面積の合計, m<sup>2</sup>;  \n",
    "$ H_R $ is the referenced ceiling height / 参照天井高さ, m (=2.4m);  \n",
    "$ N $ is the ventilation rate / 換気回数, 1/h;  \n",
    "$ a $ is the allowance ratio of the ventilation amount of the general mechanical ventilation system / 全般換気設備の換気量の余裕率 (=1.1);  \n",
    "$ e $ is the effective ventilation ratio / 有効換気量率."
   ]
  },
  {
   "cell_type": "code",
   "execution_count": 8,
   "metadata": {},
   "outputs": [],
   "source": [
    "def get_V_R(A_A, N, e):\n",
    "    H_R = 2.4 # 参照天井高さ(m)\n",
    "    a = 1.1 # 全般換気設備の換気量の余裕率\n",
    "    return A_A * H_R * N * a / e"
   ]
  },
  {
   "cell_type": "markdown",
   "metadata": {},
   "source": [
    "#### Example"
   ]
  },
  {
   "cell_type": "markdown",
   "metadata": {},
   "source": [
    "$A_A$ = 10.0, m<sup>2</sup>  \n",
    "$N$ = 5.0, 1/h  \n",
    "$e$ = 1.0"
   ]
  },
  {
   "cell_type": "code",
   "execution_count": 9,
   "metadata": {},
   "outputs": [
    {
     "data": {
      "text/plain": [
       "132.0"
      ]
     },
     "execution_count": 9,
     "metadata": {},
     "output_type": "execute_result"
    }
   ],
   "source": [
    "get_V_R(10.0, 5.0, 1.0)"
   ]
  },
  {
   "cell_type": "markdown",
   "metadata": {},
   "source": [
    "### 3.4 Specific Fan Power / 比消費電力"
   ]
  },
  {
   "cell_type": "markdown",
   "metadata": {},
   "source": [
    "The specific fan power is calculated based on the following (a) and (b).  "
   ]
  },
  {
   "cell_type": "markdown",
   "metadata": {},
   "source": [
    "#### (a) Calculation based on Specification / 仕様により計算する方法"
   ]
  },
  {
   "cell_type": "markdown",
   "metadata": {},
   "source": [
    "#### (a-1) Ventilation System with Duct / ダクト式換気設備の場合"
   ]
  },
  {
   "cell_type": "markdown",
   "metadata": {},
   "source": [
    "$$ f_{SFP} = f_{SFP,basic} \\times r_{ES} $$"
   ]
  },
  {
   "cell_type": "markdown",
   "metadata": {},
   "source": [
    "$ f_{SFP,basic} $ is the basic SFP, and defined on the table below according to the type of the general mechanical ventilation system.\n"
   ]
  },
  {
   "cell_type": "markdown",
   "metadata": {},
   "source": [
    "| Type of General Ventilation System | Basic SFP |\n",
    "| ------------------ | -------------------- |\n",
    "| Balanced ventilation system with duct and heat exchanger <br> ダクト式第一種換気設備(熱交換型換気設備) | 0.70 |\n",
    "| Balanced ventilation system with duct <br> ダクト式第一種換気設備 | 0.50 |\n",
    "| Supply only or exhaust only ventilation system with duct <br> ダクト式第二種換気設備又はダクト式第三種換気設備 | 0.40 |\n"
   ]
  },
  {
   "cell_type": "code",
   "execution_count": 10,
   "metadata": {},
   "outputs": [],
   "source": [
    "def get_basicalSFP_with_Duct_Type(t):\n",
    "    # t : VentilationType enum型\n",
    "    return {\n",
    "        VentilationType.Duct1_HEX : 0.70,\n",
    "        VentilationType.Duct1     : 0.50, \n",
    "        VentilationType.Duct2     : 0.40, \n",
    "        VentilationType.Duct3     : 0.40,\n",
    "    }[t]"
   ]
  },
  {
   "cell_type": "markdown",
   "metadata": {},
   "source": [
    "$ r_{ES} $ is the ratio of the effect on the energy saving technique(s) and defined on the table below according to the type of the general mechanical ventilation, the inside diameter of the duct and the type of the moter.\n"
   ]
  },
  {
   "cell_type": "markdown",
   "metadata": {},
   "source": [
    "<table>\n",
    "<tr>\n",
    "    <th>Type of Ventilation System</th>\n",
    "    <th>Inside Diameter of Duct</th>\n",
    "    <th>Type of Moter</th>\n",
    "    <th>Ratio</th>\n",
    "</tr>\n",
    "<tr>\n",
    "    <td rowspan=3>Balanced ventilation system with duct <br> ダクト式第一種換気設備</td>\n",
    "    <td rowspan=2>Use the duct with the inside diameter of more than 75mm <br> 内径75mm以上のダクトのみ使用</td>\n",
    "    <td>DC <br> 直流</td>\n",
    "    <td>0.455</td>\n",
    "</tr>\n",
    "<tr>\n",
    "    <td>AC or Combined Use of AC and DC <br> 交流、又は直流と交流の併用</td>\n",
    "    <td>0.700</td>\n",
    "</tr>\n",
    "<tr>\n",
    "    <td>Others <br> 上記以外</td>\n",
    "    <td>DC or AC <br> 直流あるいは交流</td>\n",
    "    <td>1.000</td>\n",
    "</tr>\n",
    "<tr>\n",
    "    <td rowspan=3>Supply only or exhaust only ventilation system with duct <br> ダクト式第二種換気設備又はダクト式第三種換気設備</td>\n",
    "    <td rowspan=2>Use the duct with the inside diameter of more than 75mm <br> 内径75mm以上のダクトのみ使用</td>\n",
    "    <td>DC <br> 直流</td>\n",
    "    <td>0.360</td>\n",
    "</tr>\n",
    "<tr>\n",
    "    <td>AC or Combined Use of AC and DC <br> 交流、又は直流と交流の併用</td>\n",
    "    <td>0.600</td>\n",
    "</tr>\n",
    "<tr>\n",
    "    <td>Others <br> 上記以外</td>\n",
    "    <td>DC or AC <br> 直流あるいは交流</td>\n",
    "    <td>1.000</td>\n",
    "</tr>\n",
    "</table>"
   ]
  },
  {
   "cell_type": "code",
   "execution_count": 11,
   "metadata": {},
   "outputs": [],
   "source": [
    "def get_EnergySavingTechniquesEffectRatio(t, s):\n",
    "    # t : VentilationType enum型\n",
    "    # s : EnergySavingMethod enum型\n",
    "    if t == VentilationType.Duct1 or t == VentilationType.Duct1_HEX:\n",
    "        EnergySavingDuct1  = { EnergySavingMethod.Over75mm_DC : 0.455,\n",
    "                               EnergySavingMethod.Over75mm_AC : 0.700,\n",
    "                               EnergySavingMethod.Others      : 1.000 }\n",
    "        return EnergySavingDuct1[s]\n",
    "    elif t == VentilationType.Duct2 or t == VentilationType.Duct3:\n",
    "        EnergySavingDuct23 = { EnergySavingMethod.Over75mm_DC : 0.360,\n",
    "                               EnergySavingMethod.Over75mm_AC : 0.600,\n",
    "                               EnergySavingMethod.Others      : 1.000 }\n",
    "        return EnergySavingDuct23[s]\n",
    "    else:\n",
    "        raise Exception"
   ]
  },
  {
   "cell_type": "markdown",
   "metadata": {},
   "source": [
    "#### (a-2) Wall-mounted Ventilation Unit / 壁付け式換気設備の場合"
   ]
  },
  {
   "cell_type": "markdown",
   "metadata": {},
   "source": [
    "$ f_{SFP} $ is defined in the table below.\n",
    "\n",
    "| Type of Ventilation | SFP |\n",
    "| ------------------ | ---------- |\n",
    "| Balanced ventilation system with duct and heat exchanger <br> ダクト式第一種換気設備(熱交換型換気設備) | 0.70 |\n",
    "| Balanced ventilation system with duct <br> ダクト式第一種換気設備 | 0.40 |\n",
    "| Supply onlyventilation system with duct <br> ダクト式第二種換気設備 | 0.30 |\n",
    "| Exhaust only ventilation system with duct <br> ダクト式第三種換気設備 | 0.30 |"
   ]
  },
  {
   "cell_type": "code",
   "execution_count": 12,
   "metadata": {},
   "outputs": [],
   "source": [
    "def get_SFP_with_Wall_Mounted_Type(t):\n",
    "    # t : VentilationType enum型\n",
    "    return {\n",
    "        VentilationType.Wall1_HEX : 0.70, \n",
    "        VentilationType.Wall1     : 0.40, \n",
    "        VentilationType.Wall2     : 0.30, \n",
    "        VentilationType.Wall3     : 0.30 \n",
    "    }[t]    "
   ]
  },
  {
   "cell_type": "markdown",
   "metadata": {},
   "source": [
    "#### (b) Calculation based on Power and Designed Ventilation Amount / 消費電力と設計風量により求める方法"
   ]
  },
  {
   "cell_type": "markdown",
   "metadata": {},
   "source": [
    "$$\n",
    "f_{SFP} = P \\div V_d\n",
    "$$"
   ]
  },
  {
   "cell_type": "markdown",
   "metadata": {},
   "source": [
    "Where  \n",
    "$ f_{SFP} $ is the SFP ( specific Fan Power ) of general mechanical ventilation system / 全般換気設備の比消費電力, W/(m<sup>3</sup>/h);  \n",
    "$ P $ is the power of the mechanical general ventilation system, W;  \n",
    "$ V_d $ is the designed ventilation amount of the mechanical general ventilation system, m<sup>3</sup>/h.  "
   ]
  },
  {
   "cell_type": "markdown",
   "metadata": {},
   "source": [
    "In this program, the calculated SFP is as the input. User shall calculate SFP by the another calculation sheet or program."
   ]
  },
  {
   "cell_type": "code",
   "execution_count": 13,
   "metadata": {},
   "outputs": [],
   "source": [
    "def get_SFP(does_input_SFP, SFP, t, s):\n",
    "    if does_input_SFP:\n",
    "        return SFP\n",
    "    else:\n",
    "        if t == VentilationType.Duct1 or t == VentilationType.Duct1_HEX or t == VentilationType.Duct2 or t == VentilationType.Duct3:\n",
    "            return get_basicalSFP_with_Duct_Type(t) * get_EnergySavingTechniquesEffectRatio(t, s)\n",
    "        elif t == VentilationType.Wall1 or t == VentilationType.Wall1_HEX or t == VentilationType.Wall2 or t == VentilationType.Wall3:\n",
    "            return get_SFP_with_Wall_Mounted_Type(t)\n",
    "        else:\n",
    "            raise Exception"
   ]
  },
  {
   "cell_type": "markdown",
   "metadata": {},
   "source": [
    "#### Example"
   ]
  },
  {
   "cell_type": "markdown",
   "metadata": {},
   "source": [
    "SFP = 0.2"
   ]
  },
  {
   "cell_type": "code",
   "execution_count": 14,
   "metadata": {},
   "outputs": [
    {
     "data": {
      "text/plain": [
       "0.2"
      ]
     },
     "execution_count": 14,
     "metadata": {},
     "output_type": "execute_result"
    }
   ],
   "source": [
    "get_SFP(True, 0.2, None, None)"
   ]
  },
  {
   "cell_type": "markdown",
   "metadata": {},
   "source": [
    "Type = The supply only ventilation system with duct  \n",
    "Inside Diameter of Duct = Use the duct with the inside diameter of more than 75mm  \n",
    "Type of Motor = DC"
   ]
  },
  {
   "cell_type": "code",
   "execution_count": 15,
   "metadata": {},
   "outputs": [
    {
     "data": {
      "text/plain": [
       "0.144"
      ]
     },
     "execution_count": 15,
     "metadata": {},
     "output_type": "execute_result"
    }
   ],
   "source": [
    "get_SFP(False, None, VentilationType.Duct2, EnergySavingMethod.Over75mm_DC)"
   ]
  },
  {
   "cell_type": "markdown",
   "metadata": {},
   "source": [
    "### 3.5 Electric Power of Local Mechanical Ventilation System / 局所換気設備の消費電力量"
   ]
  },
  {
   "cell_type": "markdown",
   "metadata": {},
   "source": [
    "$$\n",
    "E_{E,VL} = \\left\\{\n",
    "\\begin{array}{ll}\n",
    "E_{E,VL,p} \\mid _{p=1} \\times \\frac{2 - n_p}{2 - 1} + E_{E,VL,p} \\mid _{p=2} \\times \\frac{n_p - 1}{2 - 1} & (1 \\leq n_p < 2 )\\\\\n",
    "E_{E,VL,p} \\mid _{p=2} \\times \\frac{3 - n_p}{3 - 2} + E_{E,VL,p} \\mid _{p=3} \\times \\frac{n_p - 2}{3 - 2} & (2 \\leq n_p < 3)\\\\\n",
    "E_{E,VL,p} \\mid _{p=3} \\times \\frac{4 - n_p}{4 - 3} + E_{E,VL,p} \\mid _{p=3} \\times \\frac{n_p - 3}{4 - 3} & (3 \\leq n_p \\leq 4)\n",
    "\\end{array}\n",
    "\\right.\n",
    "$$"
   ]
  },
  {
   "cell_type": "markdown",
   "metadata": {},
   "source": [
    "Where  \n",
    "$ E_{E,VL} $ is the hourly electric power of the local ventilation system / 1時間当たりの局所換気設備の消費電力量, kWh/h;  \n",
    "$ E_{E,VL,p} $ is the houlr electric power of the local ventilation system consumed by the p person(s) / 1時間当たりの居住人数がp人における局所換気設備の消費電力量, kWh/h;  \n",
    "$ n_p $ is the vertical number of the ocupant(s) / 仮想居住人数."
   ]
  },
  {
   "cell_type": "code",
   "execution_count": 16,
   "metadata": {},
   "outputs": [],
   "source": [
    "def get_E_E_VL(get_E_E_VL_p, n_p, day, hour):\n",
    "    if n_p < 1:\n",
    "        raise Exception('Number of person should not be less than 1 person.')\n",
    "    elif n_p == 1:\n",
    "        return get_E_E_VL_p('p1', day, hour)\n",
    "    elif 1 < n_p < 2:\n",
    "        return get_E_E_VL_p('p1', day, hour) * (2 - n_p) / (2 - 1) + get_E_E_VL_p('p2', day, hour)  * (n_p - 1) / (2 - 1)\n",
    "    elif n_p == 2:\n",
    "        return get_E_E_VL_p('p2', day, hour)\n",
    "    elif  2 < n_p < 3:\n",
    "        return get_E_E_VL_p('p2', day, hour) * (3 - n_p) / (3 - 2) + get_E_E_VL_p('p3', day, hour)  * (n_p - 2) / (3 - 2)\n",
    "    elif n_p == 3:\n",
    "        return get_E_E_VL_p('p3', day, hour)\n",
    "    elif  3 < n_p < 4:\n",
    "        return get_E_E_VL_p('p3', day, hour) * (4 - n_p) / (4 - 3) + get_E_E_VL_p('p4', day, hour)  * (n_p - 3) / (4 - 3)\n",
    "    elif n_p == 4:\n",
    "        return get_E_E_VL_p('p4', day, hour)\n",
    "    else:\n",
    "        raise Exception('Number of person should not be over 4 persons.')"
   ]
  },
  {
   "cell_type": "markdown",
   "metadata": {},
   "source": [
    "#### Example"
   ]
  },
  {
   "cell_type": "markdown",
   "metadata": {},
   "source": [
    "get_E_E_VL_p is dummy function\n",
    "$n_p$ = 1.4 (persons)  "
   ]
  },
  {
   "cell_type": "code",
   "execution_count": 17,
   "metadata": {},
   "outputs": [
    {
     "data": {
      "text/plain": [
       "1.4"
      ]
     },
     "execution_count": 17,
     "metadata": {},
     "output_type": "execute_result"
    }
   ],
   "source": [
    "get_E_E_VL( lambda p, d, h : { 'p1': 1.0, 'p2': 2.0, 'p3': 3.0, 'p4': 4.0 }[p], 1.4, '1/2', 23)"
   ]
  },
  {
   "cell_type": "markdown",
   "metadata": {},
   "source": [
    "Out of range of the number of person ERROR"
   ]
  },
  {
   "cell_type": "code",
   "execution_count": 18,
   "metadata": {},
   "outputs": [
    {
     "data": {
      "text/plain": [
       "'ERROR'"
      ]
     },
     "execution_count": 18,
     "metadata": {},
     "output_type": "execute_result"
    }
   ],
   "source": [
    "def f():\n",
    "    try:\n",
    "        get_E_E_VL( lambda p, d, h : { 'p1': 1.0, 'p2': 2.0, 'p3': 3.0, 'p4': 4.0 }[p], 0.9, '1/2', 23)\n",
    "    except:\n",
    "        return \"ERROR\"\n",
    "f()"
   ]
  },
  {
   "cell_type": "markdown",
   "metadata": {},
   "source": [
    "### 3.6 Houly electric power of the local ventilation system consumed by the p person(s) / 1時間当たりの居住人数がp人における局所換気設備の消費電力量"
   ]
  },
  {
   "cell_type": "markdown",
   "metadata": {},
   "source": [
    "The houly electric power of the local ventilation system consumed by the p person(s) $ E_{E,VL,p} $ is defined on the table below acording to the number of the ocupant(s), weekday/holiday and in/not home.  "
   ]
  },
  {
   "cell_type": "markdown",
   "metadata": {},
   "source": [
    "<div style=\"text-align: center;\">\n",
    "    **table.  the hourly electric power of the local ventilation system(Wh/h)**\n",
    "</div>  \n",
    "\n",
    "| time <br> (hr) | 1 person<br>weekday　　 | 1 person<br>holiday, not home | 1 person<br>holiday, in home | 2 persons<br>weekday　　 | 2 person<br>holiday, not home | 2 person<br>holiday, in home | 3 person<br>weekday　　 | 3 person<br>holiday, not home | 3 person<br>holiday, in home | 4 person<br>weekday　　 | 4 person<br>holiday, not home | 4 person<br>holiday, in home |\n",
    "| --- | --- | --- | --- | --- | --- | --- | --- | --- | --- | --- | --- | --- |\n",
    "| 0:00 | 0.13 | 0.13 | 0.13 | 0.25 | 0.25 | 0.25 | 0.38 | 0.38 | 0.38 | 0.50 | 0.50 | 0.50 |\n",
    "| 1:00 | 0.13 | 0.13 | 0.13 | 0.25 | 0.25 | 0.25 | 0.38 | 0.38 | 0.38 | 0.50 | 0.50 | 0.50 |\n",
    "| 2:00 | 0.13 | 0.13 | 0.13 | 0.25 | 0.25 | 0.25 | 0.38 | 0.38 | 0.38 | 0.50 | 0.50 | 0.50 |\n",
    "| 3:00 | 0.13 | 0.13 | 0.13 | 0.25 | 0.25 | 0.25 | 0.38 | 0.38 | 0.38 | 0.50 | 0.50 | 0.50 |\n",
    "| 4:00 | 0.13 | 0.13 | 0.13 | 0.25 | 0.25 | 0.25 | 0.38 | 0.38 | 0.38 | 0.50 | 0.50 | 0.50 |\n",
    "| 5:00 | 0.13 | 0.13 | 0.13 | 0.25 | 0.25 | 0.25 | 0.38 | 0.38 | 0.38 | 0.50 | 0.50 | 0.50 |\n",
    "| 6:00 | 3.38 | 0.33 | 0.13 | 6.75 | 0.67 | 0.25 | 10.13 | 1.00 | 0.38 | 13.51 | 1.33 | 0.50 |\n",
    "| 7:00 | 0.54 | 0.33 | 0.54 | 1.08 | 0.67 | 1.08 | 1.63 | 1.00 | 1.63 | 2.17 | 1.33 | 2.17 |\n",
    "| 8:00 | 0.54 | 7.05 | 3.79 | 1.08 | 14.09 | 7.59 | 1.63 | 21.14 | 11.38 | 2.17 | 28.18 | 15.18 |\n",
    "| 9:00 | 0.13 | 0.13 | 0.33 | 0.25 | 0.25 | 0.67 | 0.38 | 0.38 | 1.00 | 0.50 | 0.50 | 1.33 |\n",
    "| 10:00 | 0.33 | 0.13 | 0.54 | 0.67 | 0.25 | 1.08 | 1.00 | 0.38 | 1.63 | 1.33 | 0.50 | 2.17 |\n",
    "| 11:00 | 0.13 | 0.13 | 0.33 | 0.25 | 0.25 | 0.67 | 0.38 | 0.38 | 1.00 | 0.50 | 0.50 | 1.33 |\n",
    "| 12:00 | 3.38 | 0.13 | 3.38 | 6.75 | 0.25 | 6.75 | 10.13 | 0.38 | 10.13 | 13.51 | 0.50 | 13.51 |\n",
    "| 13:00 | 0.33 | 0.13 | 0.33 | 0.67 | 0.25 | 0.67 | 1.00 | 0.38 | 1.00 | 1.33 | 0.50 | 1.33 |\n",
    "| 14:00 | 0.13 | 0.13 | 0.13 | 0.25 | 0.25 | 0.25 | 0.38 | 0.38 | 0.38 | 0.50 | 0.50 | 0.50 |\n",
    "| 15:00 | 0.13 | 0.13 | 0.13 | 0.25 | 0.25 | 0.25 | 0.38 | 0.38 | 0.38 | 0.50 | 0.50 | 0.50 |\n",
    "| 16:00 | 0.33 | 0.13 | 0.54 | 0.67 | 0.25 | 1.08 | 1.00 | 0.38 | 1.63 | 1.33 | 0.50 | 2.17 |\n",
    "| 17:00 | 0.33 | 0.13 | 6.42 | 0.67 | 0.25 | 12.84 | 1.00 | 0.38 | 19.26 | 1.33 | 0.50 | 25.68 |\n",
    "| 18:00 | 6.42 | 0.13 | 6.42 | 12.84 | 0.25 | 12.84 | 19.26 | 0.38 | 19.26 | 25.68 | 0.50 | 25.68 |\n",
    "| 19:00 | 6.42 | 0.13 | 0.13 | 12.84 | 0.25 | 0.25 | 19.26 | 0.38 | 0.38 | 25.68 | 0.50 | 0.50 |\n",
    "| 20:00 | 0.33 | 0.54 | 0.33 | 0.67 | 1.08 | 0.67 | 1.00 | 1.63 | 1.00 | 1.33 | 2.17 | 1.33 | \n",
    "| 21:00 | 0.33 | 0.33 | 6.28 | 0.67 | 0.67 | 12.56 | 1.00 | 1.00 | 18.84 | 1.33 | 1.33 | 25.12 |\n",
    "| 22:00 | 6.28 | 3.52 | 6.49 | 12.56 | 7.03 | 12.98 | 18.84 | 10.55 | 19.47 | 25.12 | 14.06 | 25.95 |\n",
    "| 23:00 | 6.70 | 6.28 | 3.31 | 13.39 | 12.56 | 6.61 | 20.09 | 18.84 | 9.92 | 26.79 | 25.12 | 13.23 |"
   ]
  },
  {
   "cell_type": "markdown",
   "metadata": {},
   "source": [
    "The daily schedule of Ventilation is defined on the table below at chpter 11 section 3."
   ]
  },
  {
   "cell_type": "code",
   "execution_count": 19,
   "metadata": {},
   "outputs": [],
   "source": [
    "def get_E_E_VL_p(person, day, hour):\n",
    "    data = {\n",
    "        'p1' : {\n",
    "            LS.SKD_V.W  : [ 0.13, 0.13, 0.13, 0.13, 0.13, 0.13, 3.38, 0.54, 0.54, 0.13, 0.33, 0.13, 3.38, 0.33, 0.13, 0.13, 0.33, 0.33, 6.42, 6.42, 0.33, 0.33, 6.28, 6.7 ],\n",
    "            LS.SKD_V.HA : [ 0.13, 0.13, 0.13, 0.13, 0.13, 0.13, 0.33, 0.33, 7.05, 0.13, 0.13, 0.13, 0.13, 0.13, 0.13, 0.13, 0.13, 0.13, 0.13, 0.13, 0.54, 0.33, 3.52, 6.28],\n",
    "            LS.SKD_V.HH : [ 0.13, 0.13, 0.13, 0.13, 0.13, 0.13, 0.13, 0.54, 3.79, 0.33, 0.54, 0.33, 3.38, 0.33, 0.13, 0.13, 0.54, 6.42, 6.42, 0.13, 0.33, 6.28, 6.49, 3.31]\n",
    "        },\n",
    "        'p2' : {\n",
    "            LS.SKD_V.W  : [ 0.25, 0.25, 0.25, 0.25, 0.25, 0.25, 6.75, 1.08, 1.08, 0.25, 0.67, 0.25, 6.75, 0.67, 0.25, 0.25, 0.67, 0.67,12.84,12.84, 0.67, 0.67,12.56,13.39], \n",
    "            LS.SKD_V.HA : [ 0.25, 0.25, 0.25, 0.25, 0.25, 0.25, 0.67, 0.67,14.09, 0.25, 0.25, 0.25, 0.25, 0.25, 0.25, 0.25, 0.25, 0.25, 0.25, 0.25, 1.08, 0.67, 7.03,12.56], \n",
    "            LS.SKD_V.HH : [ 0.25, 0.25, 0.25, 0.25, 0.25, 0.25, 0.25, 1.08, 7.59, 0.67, 1.08, 0.67, 6.75, 0.67, 0.25, 0.25, 1.08,12.84,12.84, 0.25, 0.67,12.56,12.98, 6.61] \n",
    "        },\n",
    "        'p3' : {\n",
    "            LS.SKD_V.W  : [ 0.38, 0.38, 0.38, 0.38, 0.38, 0.38,10.13, 1.63, 1.63, 0.38, 1.00, 0.38,10.13, 1.00, 0.38, 0.38, 1.00, 1.00,19.26,19.26, 1.00, 1.00,18.84,20.09],\n",
    "            LS.SKD_V.HA : [ 0.38, 0.38, 0.38, 0.38, 0.38, 0.38, 1.00, 1.00,21.14, 0.38, 0.38, 0.38, 0.38, 0.38, 0.38, 0.38, 0.38, 0.38, 0.38, 0.38, 1.63, 1.00,10.55,18.84],\n",
    "            LS.SKD_V.HH : [ 0.38, 0.38, 0.38, 0.38, 0.38, 0.38, 0.38, 1.63,11.38, 1.00, 1.63, 1.00,10.13, 1.00, 0.38, 0.38, 1.63,19.26,19.26, 0.38, 1.00,18.84,19.47, 9.92]\n",
    "        },\n",
    "        'p4' : { \n",
    "            LS.SKD_V.W  : [ 0.50, 0.50, 0.50, 0.50, 0.50, 0.50,13.51, 2.17, 2.17, 0.50, 1.33, 0.50,13.51, 1.33, 0.50, 0.50, 1.33, 1.33,25.68,25.68, 1.33, 1.33,25.12,26.79], \n",
    "            LS.SKD_V.HA : [ 0.50, 0.50, 0.50, 0.50, 0.50, 0.50, 1.33, 1.33,28.18, 0.50, 0.50, 0.50, 0.50, 0.50, 0.50, 0.50, 0.50, 0.50, 0.50, 0.50, 2.17, 1.33,14.06,25.12], \n",
    "            LS.SKD_V.HH : [ 0.50, 0.50, 0.50, 0.50, 0.50, 0.50, 0.50, 2.17,15.18, 1.33, 2.17, 1.33,13.51, 1.33, 0.50, 0.50, 2.17,25.68,25.68, 0.50, 1.33,25.12,25.95,13.23]\n",
    "        }\n",
    "    }\n",
    "    \n",
    "    return data[person][LS.get_Schedule('Ventilation',day)][hour] / 1000"
   ]
  },
  {
   "cell_type": "markdown",
   "metadata": {},
   "source": [
    "#### Examples"
   ]
  },
  {
   "cell_type": "markdown",
   "metadata": {},
   "source": [
    "1/2 22:00, 1 person"
   ]
  },
  {
   "cell_type": "code",
   "execution_count": 20,
   "metadata": {},
   "outputs": [
    {
     "data": {
      "text/plain": [
       "0.00628"
      ]
     },
     "execution_count": 20,
     "metadata": {},
     "output_type": "execute_result"
    }
   ],
   "source": [
    "get_E_E_VL_p(person = 'p1', day = '1/2', hour = 22 )"
   ]
  },
  {
   "cell_type": "markdown",
   "metadata": {},
   "source": [
    "1/2 22:00, 2 persons"
   ]
  },
  {
   "cell_type": "code",
   "execution_count": 21,
   "metadata": {},
   "outputs": [
    {
     "data": {
      "text/plain": [
       "0.01256"
      ]
     },
     "execution_count": 21,
     "metadata": {},
     "output_type": "execute_result"
    }
   ],
   "source": [
    "get_E_E_VL_p(person = 'p2', day = '1/2', hour = 22 )"
   ]
  },
  {
   "cell_type": "markdown",
   "metadata": {},
   "source": [
    "## 4. Integrated Function"
   ]
  },
  {
   "cell_type": "markdown",
   "metadata": {},
   "source": [
    "### 4.1 Input Data"
   ]
  },
  {
   "cell_type": "markdown",
   "metadata": {},
   "source": [
    "````\n",
    "SpecData = {\n",
    "    'General' : {\n",
    "        'AllFloorArea': ''              # Total Floor Area (m2) = (Decimal Value represented as string)\n",
    "    }\n",
    "    'Ventilation': {  \n",
    "        'VentilationType': '',          # 'DuctType1', 'DuctType2', 'DuctType3', 'WallType1', 'WallType2', 'WallType3'\n",
    "        'DuctTypeSpec' : {\n",
    "            'EnergySavingType'   : '',  # Adoption of Energy Saving Method = 'None', 'Specification', 'SFP'\n",
    "            'EnergySavingMethod' : '',  # 'LargeDuct', 'LargeDuctAndDCMoter'\n",
    "            'SFP'                : ''   # Specific Fan Power = (Decimal Value represented as string)\n",
    "        },\n",
    "        'WallMountedTypeSpec' : {\n",
    "            'EnergySavingType' : '',    # Adoption of Energy Saving Method = 'None', 'SFP'\n",
    "            'SFP'              : ''     # Specific Fan Power = (Decimal Value represented as string)\n",
    "        },\n",
    "        'VentilationRate'          : '', # '0.5', '0.7', '0.0'\n",
    "        'EffectiveVentilationRate' : '', # Effective Ventilation Rate for Type 1\n",
    "                                         # 0~1 (Decimal Value represented as string)\n",
    "    },\n",
    "    'HeatExchanger' : {\n",
    "        'Apply'                   : '', # = 'Apply', 'NotApply'\n",
    "        'TemperatureExchangeRate' : '', # = 0 ~ 100 (Decimal Value represented as string)\n",
    "        'BalanceCorrectCoeff'     : '',\n",
    "                # Correct Coefficient for Temperature Exchange Rate for Balance of Supply and Exhaust Air Amount\n",
    "                # = 0 ~ 1 (Decimal Value represented as string)\n",
    "        'AirLeakCorrectCoeff'     : ''\n",
    "                # Correct Coefficient for Temperature Exchange Rate for Air Leak when Exhaust Air is larger than Supply Air\n",
    "                # = 0 ~ 1 (Decimal Value represented as string)\n",
    "    }\n",
    "}\n",
    "````"
   ]
  },
  {
   "cell_type": "markdown",
   "metadata": {},
   "source": [
    "### 4.2 Function"
   ]
  },
  {
   "cell_type": "code",
   "execution_count": 22,
   "metadata": {},
   "outputs": [],
   "source": [
    "def getHoerlyElectricPower(spec, day, hour ):\n",
    "    \n",
    "    def Spec(d):\n",
    "        \n",
    "        def Spec_Type(d):\n",
    "            if d['Ventilation']['VentilationType'] == 'DuctType1':\n",
    "                if d['HeatExchanger']['Apply']  == 'Apply':\n",
    "                    return VentilationType.Duct1_HEX\n",
    "                elif d['HeatExchanger']['Apply']  == 'NotApply':\n",
    "                    return VentilationType.Duct1\n",
    "                else:\n",
    "                    raise Exception('Wrong Parameter about [Apply] in [Heat Exchanger].')\n",
    "            elif d['Ventilation']['VentilationType'] == 'DuctType2':\n",
    "                return VentilationType.Duct2\n",
    "            elif d['Ventilation']['VentilationType'] == 'DuctType3':\n",
    "                return VentilationType.Duct3\n",
    "            elif d['Ventilation']['VentilationType'] == 'WallType1':\n",
    "                if d['HeatExchanger']['Apply']  == 'Apply':\n",
    "                    return VentilationType.Wall1_HEX\n",
    "                elif d['HeatExchanger']['Apply']  == 'NotApply':\n",
    "                    return VentilationType.Wall1\n",
    "                else:\n",
    "                    raise Exception('Wrong Parameter about [Apply] in [Heat Exchanger].')\n",
    "            elif d['Ventilation']['VentilationType'] == 'WallType2':\n",
    "                return VentilationType.Wall2\n",
    "            elif d['Ventilation']['VentilationType'] == 'WallType3':\n",
    "                return VentilationType.Wall3\n",
    "            else:\n",
    "                raise Exception('Wrong Parameter about [VentilationType].')     \n",
    "            \n",
    "        if Spec_Type(d) == VentilationType.Duct1_HEX or Spec_Type(d) == VentilationType.Duct1 or Spec_Type(d) == VentilationType.Duct2 or Spec_Type(d) == VentilationType.Duct3:\n",
    "            if d['Ventilation']['DuctTypeSpec']['EnergySavingType']  == 'None':\n",
    "                return (False, None, Spec_Type(d), EnergySavingMethod.Others)\n",
    "            elif d['Ventilation']['DuctTypeSpec']['EnergySavingType']  == 'Specification':\n",
    "                if d['Ventilation']['DuctTypeSpec']['EnergySavingMethod'] == 'LargeDuct':\n",
    "                    return (False, None, Spec_Type(d), EnergySavingMethod.Over75mm_AC)\n",
    "                elif d['Ventilation']['DuctTypeSpec']['EnergySavingMethod'] == 'LargeDuctAndDCMoter':\n",
    "                    return (False, None, Spec_Type(d), EnergySavingMethod.Over75mm_DC)\n",
    "                else:\n",
    "                    raise Exception('Wrong Parameter about [EnergySavingMethod] in [DuctTypeSpec] in [Ventilation]')\n",
    "            elif d['Ventilation']['DuctTypeSpec']['EnergySavingType']  == 'SFP':\n",
    "                return (True, float(d['Ventilation']['DuctTypeSpec']['SFP']), None, None)\n",
    "            else:\n",
    "                raise Exception('Wrong Parameter about [EnergySavingType] in [DuctTypeSpec] in [Ventilation]')\n",
    "        elif Spec_Type(d) == VentilationType.Wall1_HEX or Spec_Type(d) == VentilationType.Wall1 or Spec_Type(d) == VentilationType.Wall2 or Spec_Type(d) == VentilationType.Wall3:\n",
    "            if d['Ventilation']['WallMountedTypeSpec']['EnergySavingType']  == 'None':\n",
    "                return (False, None, Spec_Type(d), None)\n",
    "            elif d['Ventilation']['WallMountedTypeSpec']['EnergySavingType']  == 'SFP':\n",
    "                return (True, float(d['Ventilation']['WallMountedTypeSpec']['SFP']), None, None)\n",
    "            else:\n",
    "                raise Exception('Wrong Parameter about [EnergySavingType] in [WallMountedTypeSpec] in [Ventilation]')\n",
    "    \n",
    "    def getPerson(A_A):\n",
    "        if A_A <= 30: # 床面積が30m2未満の場合は居住人数は1人とみなす\n",
    "            return 1\n",
    "        elif A_A >= 120: # 床面積が120m2以上の場合は居住人数は4人とみなす\n",
    "            return 4\n",
    "        else:\n",
    "            return A_A / 30.0\n",
    "    \n",
    "    # Total Floor Area\n",
    "    _total_floor_area = float(spec['General']['AllFloorArea'])\n",
    "\n",
    "    # Set vertual person based on sum of the floor area.\n",
    "    _person = getPerson(_total_floor_area)  \n",
    "    \n",
    "    # Convert the data from 'DataVentilation' as dictionary into 4 variants as 'does inputS FP', 'SFP', 'ventilation type' and 'energy saving method'.\n",
    "    (_DoesInputSFP, _SFP, _t, _s) = Spec(spec)\n",
    "\n",
    "    # Calculate SFP, W/(m3/h)\n",
    "    _SFP = get_SFP(_DoesInputSFP, _SFP, _t, _s)\n",
    "    \n",
    "    # Calculate referenced ventilation amount, m3/h\n",
    "    _V_R = get_V_R(_total_floor_area, float(spec['Ventilation']['VentilationRate']), float(spec['Ventilation']['EffectiveVentilationRate']) )\n",
    "    \n",
    "    # Calculate power of general ventilation system, kWh/h\n",
    "    _E_E_VG = get_E_E_VG(_SFP, _V_R)\n",
    "    \n",
    "    # Calculate power of local ventilation system, kWh/h\n",
    "    _E_E_VL = get_E_E_VL(get_E_E_VL_p, _person, day, hour)\n",
    "    \n",
    "    # Calculate power of all ventilation system, kWh/h\n",
    "    _E_E_V = get_E_E_V(_E_E_VG, _E_E_VL) \n",
    "    \n",
    "    return _E_E_V"
   ]
  },
  {
   "cell_type": "markdown",
   "metadata": {},
   "source": [
    "#### Example"
   ]
  },
  {
   "cell_type": "code",
   "execution_count": 23,
   "metadata": {},
   "outputs": [],
   "source": [
    "spec = {\n",
    "    'General': {\n",
    "        'AllFloorArea' : '120.08' # m2\n",
    "    },\n",
    "    'Ventilation': {  \n",
    "        'VentilationType': 'DuctType1',          # 'DuctType1', 'DuctType2', 'DuctType3', 'WallType1', 'WallType2', 'WallType3'\n",
    "        'DuctTypeSpec' : {\n",
    "            'EnergySavingType'   : 'None',  # 'None', 'Specification', 'SFP'\n",
    "            'EnergySavingMethod' : '',  # 'LargeDuct', 'LargeDuctAndDCMoter'\n",
    "            'SFP'                : ''   # Decimal Value represented as string\n",
    "        },\n",
    "        'WallMountedTypeSpec' : {\n",
    "            'EnergySavingType' : '',    # 'None', 'SFP'\n",
    "            'SFP'              : ''     # Decimal Value represented as string\n",
    "        },\n",
    "        'VentilationRate'          : '0.5',    # '0.5', '0.7', '0.0'\n",
    "        'EffectiveVentilationRate' : '1.0'     # Decimal Value represented as string\n",
    "    },\n",
    "    'HeatExchanger' : {\n",
    "        'Apply'                   : 'Apply', # 'Apply', 'NotApply'\n",
    "        'TemperatureExchangeRate' : '65', # Decimal Value represented as string\n",
    "        'BalanceCorrectCoeff'     : '0.90', # Decimal Value represented as string\n",
    "        'AirLeakCorrectCoeff'     : '1.00'  # Decimal Value represented as string\n",
    "    }\n",
    "}"
   ]
  },
  {
   "cell_type": "code",
   "execution_count": 24,
   "metadata": {},
   "outputs": [
    {
     "data": {
      "text/plain": [
       "0.12418392000000002"
      ]
     },
     "execution_count": 24,
     "metadata": {},
     "output_type": "execute_result"
    }
   ],
   "source": [
    "getHoerlyElectricPower(spec, day = '1/1', hour = 23 )"
   ]
  }
 ],
 "metadata": {
  "kernelspec": {
   "display_name": "Python 3",
   "language": "python",
   "name": "python3"
  },
  "language_info": {
   "codemirror_mode": {
    "name": "ipython",
    "version": 3
   },
   "file_extension": ".py",
   "mimetype": "text/x-python",
   "name": "python",
   "nbconvert_exporter": "python",
   "pygments_lexer": "ipython3",
   "version": "3.6.5"
  }
 },
 "nbformat": 4,
 "nbformat_minor": 2
}
