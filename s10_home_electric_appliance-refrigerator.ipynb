{
 "cells": [
  {
   "cell_type": "code",
   "execution_count": 2,
   "metadata": {
    "collapsed": true
   },
   "outputs": [],
   "source": [
    "import numpy as np"
   ]
  },
  {
   "cell_type": "markdown",
   "metadata": {},
   "source": [
    "# 家電  "
   ]
  },
  {
   "cell_type": "markdown",
   "metadata": {},
   "source": [
    "## 冷蔵庫"
   ]
  },
  {
   "cell_type": "markdown",
   "metadata": {},
   "source": [
    "### 1時間当たりの冷蔵庫の消費電力量  \n",
    "$d$日$t$時の冷蔵庫の消費電力量$E_{elc,d,t}$は冷蔵運転と除霜運転の消費電力量の合計値とし、以下の式で求まる。  \n",
    "$$\n",
    "E_{elc,d,t} = E_{elc,rfrg,d,t} + E_{elc,dfrs,d,t}\n",
    "$$\n",
    "$E_{elc,d,t}$ :$d$日$t$時の冷蔵庫の消費電力量(<u>ele</u>ctric <u>e</u>nergy) [Wh/h]  \n",
    "$E_{elc,rfrg,d,t}$ :$d$日$t$時の冷蔵庫の冷蔵(<u>r</u>e<u>fr</u>i<u>g</u>erate)運転の消費電力量 [Wh/h]   \n",
    "$E_{elc,dfrs,d,t}$ :$d$日$t$時の冷蔵庫の除霜(<u>d</u>e<u>fr</u>o<u>s</u>t)運転の消費電力量 [Wh/h]   "
   ]
  },
  {
   "cell_type": "code",
   "execution_count": 29,
   "metadata": {
    "collapsed": true
   },
   "outputs": [],
   "source": [
    "def get_E_elc_d_t(E_elc_rfrg_d_t, E_elc_dfrs_d_t):\n",
    "    return E_elc_rfrg_d_t + E_elc_dfrs_d_t"
   ]
  },
  {
   "cell_type": "markdown",
   "metadata": {},
   "source": [
    "#### 計算例  \n",
    "$d$日$t$時の冷蔵庫の冷蔵運転の消費電力量が 0.2 Wh/h、 $d$日$t$時の冷蔵庫の除霜運転の消費電力量が 0.3 Wh/h の場合の$d$日$t$時の冷蔵庫の消費電力量は以下の値になる。"
   ]
  },
  {
   "cell_type": "code",
   "execution_count": 30,
   "metadata": {},
   "outputs": [
    {
     "data": {
      "text/plain": [
       "0.5"
      ]
     },
     "execution_count": 30,
     "metadata": {},
     "output_type": "execute_result"
    }
   ],
   "source": [
    "get_E_elc_d_t(0.2,0.3)"
   ]
  },
  {
   "cell_type": "markdown",
   "metadata": {},
   "source": [
    "### 1時間当たりの冷蔵運転の消費電力量  \n",
    "$d$日$t$時の冷蔵庫の冷蔵運転の消費電力量$E_{elc,rfrg,d,t}$は冷蔵運転の消費電力に冷蔵運転時間を掛けた値とし、式2で求まる。  \n",
    "$$\n",
    "E_{elc,rfrg,d,t} = P_{elc,rfrg} \\times hr_{rfrg,d,t}\n",
    "$$\n",
    "<div style=\"text-align: right;\">\n",
    "式2\n",
    "</div>\n",
    "ここで、   \n",
    "$P_{elc,rfrg}$ :冷蔵庫の冷蔵運転の消費電力 [W]  \n",
    "$hr_{rfrg,d,t}$ :$d$日$t$時の時(<u>h</u>ou<u>r</u>)単位における冷蔵運転の時間 [h] \n",
    "R率とする \n"
   ]
  },
  {
   "cell_type": "code",
   "execution_count": 31,
   "metadata": {
    "collapsed": true
   },
   "outputs": [],
   "source": [
    "def get_E_elc_rfrg_d_t(P_elc_rfrg, hr_rfrg_d_t):\n",
    "    return P_elc_rfrg * hr_rfrg_d_t"
   ]
  },
  {
   "cell_type": "markdown",
   "metadata": {},
   "source": [
    "#### 計算例  \n",
    "冷蔵庫の冷蔵運転の消費電力が 0.5 W、 $d$日$t$時の冷蔵庫の冷蔵運転の時間が 0.4 h の場合の$d$日$t$時の冷蔵庫の冷蔵運転の消費電力は以下の値になる。"
   ]
  },
  {
   "cell_type": "code",
   "execution_count": 32,
   "metadata": {},
   "outputs": [
    {
     "data": {
      "text/plain": [
       "0.2"
      ]
     },
     "execution_count": 32,
     "metadata": {},
     "output_type": "execute_result"
    }
   ],
   "source": [
    "get_E_elc_rfrg_d_t(0.5,0.4)"
   ]
  },
  {
   "cell_type": "markdown",
   "metadata": {},
   "source": [
    "### 1時間当たりの除霜運転の消費電力量  \n",
    "$d$日$t$時の冷蔵庫の除霜運転の消費電力量$E_{elc,dfrs,d,t}$は除霜運転の消費電力に冷蔵運転以外の時間を掛けた値とし、式3より求まる。  \n",
    "$$\n",
    "E_{elc,dfrs,d,t} = P_{elc,dfrs} \\times (1 - hr_{rfrg,d,t})\n",
    "$$\n",
    "<div style=\"text-align: right;\">\n",
    "式3\n",
    "</div>\n",
    "ここで、   \n",
    "$P_{elc,dfrs}$ :冷蔵庫の除霜運転の消費電力 [W]  "
   ]
  },
  {
   "cell_type": "code",
   "execution_count": 33,
   "metadata": {
    "collapsed": true
   },
   "outputs": [],
   "source": [
    "def get_E_elc_dfrs_d_t(P_elc_dfrs, hr_rfrg_d_t):\n",
    "    return P_elc_dfrs * (1 - hr_rfrg_d_t)"
   ]
  },
  {
   "cell_type": "markdown",
   "metadata": {},
   "source": [
    "#### 計算例  \n",
    "冷蔵庫の除霜運転の消費電力が 0.7 W、 $d$日$t$時の冷蔵庫の冷蔵運転の時間が 0.8 h の場合の$d$日$t$時の冷蔵庫の除霜運転の消費電力は以下の値になる。"
   ]
  },
  {
   "cell_type": "code",
   "execution_count": 34,
   "metadata": {},
   "outputs": [
    {
     "data": {
      "text/plain": [
       "0.13999999999999996"
      ]
     },
     "execution_count": 34,
     "metadata": {},
     "output_type": "execute_result"
    }
   ],
   "source": [
    "get_E_elc_dfrs_d_t(0.7,0.8)"
   ]
  },
  {
   "cell_type": "markdown",
   "metadata": {},
   "source": [
    "### 冷蔵運転の消費電力  \n",
    "冷蔵庫の冷蔵運転時の消費電力$P_{elc,rfrg}$は$d$日の冷蔵庫の推定消費電力量から除霜運転の消費電力量を引いた値を冷蔵運転時間で除した値とし、式4より求まる。  \n",
    "冷蔵運転時間は除霜運転時間以外のすべての時間とする。  \n",
    "1日当たりの除霜運転は2時間とする。\n",
    "\n",
    "$$\n",
    "P_{elc,rfrg} = \\frac{E_{elc,est,d} - P_{elc,dfrs} \\times hr_{dfrs}}{24 - hr_{dfrs}}\n",
    "$$\n",
    "<div style=\"text-align: right;\">\n",
    "式4\n",
    "</div>\n",
    "ここで、   \n",
    "$E_{elc,est,d}$ :$d$日の冷蔵庫の推定(<u>est</u>imated)消費電力量 [Wh/d]  \n",
    "$hr_{dfrs}$ :1日当たりの除霜運転の時間 (= 2) [h/d]  \n"
   ]
  },
  {
   "cell_type": "code",
   "execution_count": 35,
   "metadata": {
    "collapsed": true
   },
   "outputs": [],
   "source": [
    "def get_P_elc_rfrg(E_elc_est_d, P_elc_dfrs):\n",
    "    HOURS_OF_DEFROST = 2\n",
    "    return (E_elc_est_d - P_elc_dfrs * 2) / (24 - HOURS_OF_DEFROST)"
   ]
  },
  {
   "cell_type": "markdown",
   "metadata": {},
   "source": [
    "#### 計算例  \n",
    "$d$日の冷蔵庫の推定消費電力量が 1200 Wh/d、 除霜運転の消費電力が 135 W の場合の冷蔵庫の冷蔵運転の消費電力は以下の値になる。"
   ]
  },
  {
   "cell_type": "code",
   "execution_count": 36,
   "metadata": {},
   "outputs": [
    {
     "data": {
      "text/plain": [
       "42.27272727272727"
      ]
     },
     "execution_count": 36,
     "metadata": {},
     "output_type": "execute_result"
    }
   ],
   "source": [
    "get_P_elc_rfrg(1200,135)"
   ]
  },
  {
   "cell_type": "markdown",
   "metadata": {},
   "source": [
    "### 除霜運転の消費電力  \n",
    "冷蔵庫の除霜運転時の消費電力$P_{elc,dfrs}$は除霜用電熱器の消費電力に補正係数を掛けた値とし、式xより求まる。  \n",
    "補正係数は0.9とする。  \n",
    "$$\n",
    "P_{elc,dfrs} = P_{htr,rtd} \\times C_{crct,htr}\n",
    "$$\n",
    "<div style=\"text-align: right;\">\n",
    "式x\n",
    "</div>\n",
    "ここで、   \n",
    "$P_{htr,rtd}$ :除霜用電熱器(<u>h</u>ea<u>t</u>e<u>r</u>)の定格(<u>r</u>a<u>t</u>e<u>d</u>)消費電力 [W]  \n",
    "$C_{crct,htr}$ :除霜用電熱器の定格消費電力に対する補正係数(<u>c</u>o<u>rr</u>e<u>ct</u>ion <u>c</u>oefficient) (=0.9) [-]  "
   ]
  },
  {
   "cell_type": "code",
   "execution_count": 37,
   "metadata": {
    "collapsed": true
   },
   "outputs": [],
   "source": [
    "def get_P_elc_dfrs(P_htr_rtd):\n",
    "    CORRECTION_COEFFICIENT_OF_HEATER = 0.9\n",
    "    return P_htr_rtd * CORRECTION_COEFFICIENT_OF_HEATER"
   ]
  },
  {
   "cell_type": "markdown",
   "metadata": {},
   "source": [
    "#### 計算例  \n",
    "冷蔵庫の除霜用電熱器の定格消費電力が 150 W の場合の除湿運転の消費電力は以下の値になる。"
   ]
  },
  {
   "cell_type": "code",
   "execution_count": 38,
   "metadata": {},
   "outputs": [
    {
     "data": {
      "text/plain": [
       "135.0"
      ]
     },
     "execution_count": 38,
     "metadata": {},
     "output_type": "execute_result"
    }
   ],
   "source": [
    "get_P_elc_dfrs(150)"
   ]
  },
  {
   "cell_type": "markdown",
   "metadata": {},
   "source": [
    "### 1日当たりの冷蔵庫の消費電力  \n",
    "根本的に、間違っている。JIS基準での1日別消費電力に直すべき。\n",
    "\n",
    "$d$日の1日当たりの冷蔵庫の推定消費電力量$E_{elc,est,d}$は冷蔵庫の年間消費電力量と冷蔵庫周辺空気の日平均温度を説明変数とした推定値とし、式xで求まる。  \n",
    "$$\n",
    "E_{elc,est,d} = [(3.283 \\times 10^{-3} -2.0 \\times 10^{-6} \\times E_{elc,anl})\n",
    "\\times (\\theta_{amb,d}^{2} - 30 \\times \\theta_{amb,d}) + 1.85 \\times 10^{-3} \\times E_{elc,anl} + 1.329 ] \\times 10^{3}\n",
    "$$\n",
    "<div style=\"text-align: right;\">\n",
    "式x\n",
    "</div>\n",
    "ここで、   \n",
    "$E_{elc,anl}$ :冷蔵庫の年間(<u>ann</u>ua<u>l</u>)消費電力量 [kWh/y]  \n",
    "$\\theta_{amb,d}$ :$d$日の冷蔵庫周辺空気(<u>amb</u>ient air)の日平均温度 [℃]  \n"
   ]
  },
  {
   "cell_type": "code",
   "execution_count": 39,
   "metadata": {
    "collapsed": true
   },
   "outputs": [],
   "source": [
    "def get_E_elc_est_d(E_elc_anl,theta_amb_est_d):\n",
    "    E_elc_est_d_kWh = (3.283 * 10**(-3) - 2.0 * 10**(-6) * E_elc_anl) * (theta_amb_est_d**2 - 30 * theta_amb_est_d) \\\n",
    "                      + 1.85 * 10**(-3) * E_elc_anl \\\n",
    "                      + 1.329\n",
    "    return E_elc_est_d_kWh * 10**3"
   ]
  },
  {
   "cell_type": "markdown",
   "metadata": {},
   "source": [
    "#### 計算例  \n",
    "冷蔵庫の年間消費電力が 500 kWh/y、 $d$日の冷蔵庫の周辺空気の日平均温度が 22 ℃ の場合の1日当たりの冷蔵庫の推定消費電力量は以下の値になる。"
   ]
  },
  {
   "cell_type": "code",
   "execution_count": 40,
   "metadata": {},
   "outputs": [
    {
     "data": {
      "text/plain": [
       "1852.192"
      ]
     },
     "execution_count": 40,
     "metadata": {},
     "output_type": "execute_result"
    }
   ],
   "source": [
    "get_E_elc_est_d(500, 22)"
   ]
  },
  {
   "cell_type": "markdown",
   "metadata": {},
   "source": [
    "### 冷蔵庫の年間消費電力  \n",
    "冷蔵庫の年間消費電力は製品の通年エネルギー消費効率(APF = <u>A</u>nnual <u>P</u>erformance <u>F</u>actor)の算出時に準拠した規格「JIS C 9801 家庭用電気冷蔵庫及び電気冷凍庫の特性及び試験方法」によって算出方法が異なり、式xで求まる。  \n",
    "$$\n",
    "E_{elc,anl} =\n",
    "\\begin{cases}\n",
    "APF & ,JIS \\quad C \\quad 9801:1999 \\\\\n",
    "\\frac{APF}{3.48} & ,JIS \\quad C \\quad 9801:2006 \\\\\n",
    "\\frac{APF}{3.48} \\times 0.2891 & ,JIS \\quad C \\quad 9801:2015 \\\\\n",
    "\\end{cases}\n",
    "$$\n",
    "<div style=\"text-align: right;\">\n",
    "式x\n",
    "</div>\n",
    "ここで、   \n",
    "$APF$ :冷蔵庫の通年エネルギー消費効率 [-]  "
   ]
  },
  {
   "cell_type": "code",
   "execution_count": 41,
   "metadata": {
    "collapsed": true
   },
   "outputs": [],
   "source": [
    "def get_E_elc_anl(APF,JIS_year):\n",
    "    if JIS_year == 1999:\n",
    "        return APF\n",
    "    elif JIS_year == 2006:\n",
    "        return APF / 3.48\n",
    "    elif JIS_year == 2015:\n",
    "        return APF / 3.48 * 0.2891\n",
    "    else:\n",
    "        raise ValueError(JIS_year)"
   ]
  },
  {
   "cell_type": "markdown",
   "metadata": {},
   "source": [
    "#### 計算例  \n",
    "冷蔵庫の通年エネルギー消費効率が 6.1 、APF算出時に準拠したJIS規格の制定・改訂年が 2006 年の場合の冷蔵庫の年間消費電力は以下の値になる。\n",
    "\n",
    "オーダーを羽原さんに確認する。"
   ]
  },
  {
   "cell_type": "code",
   "execution_count": 42,
   "metadata": {},
   "outputs": [
    {
     "data": {
      "text/plain": [
       "1.7528735632183907"
      ]
     },
     "execution_count": 42,
     "metadata": {},
     "output_type": "execute_result"
    }
   ],
   "source": [
    "get_E_elc_anl(6.1, 2006)"
   ]
  },
  {
   "cell_type": "markdown",
   "metadata": {},
   "source": [
    "### 冷蔵庫の周辺空気の日平均温度\n",
    "$d$日の冷蔵庫の周辺空気の日平均温度は日平均外気温度と住宅の熱損失係数を説明変数とした推定値とし、式xで求まる。\n",
    "$$\n",
    "\\theta_{amb,d} =\n",
    "\\begin{cases}\n",
    "(0.048 \\times Q + 0.3666) \\times \\theta_{ext,d} + (-1.2435 \\times Q + 18.82) & ,居室間歇暖房時 \\\\\n",
    "(0.0604 \\times Q + 0.3668) \\times \\theta_{ext,d} + (-1.6265 \\times Q + 19.99) & ,全館連続暖房時 \\\\\n",
    "\\end{cases}\n",
    "$$\n",
    "<div style=\"text-align: right;\">\n",
    "式x\n",
    "</div>\n",
    "ここで、   \n",
    "$\\theta_{ext,d}$ :$d$日の日平均外気(<u>ext</u>ernal air)温度 [℃]  \n",
    "$Q$ :住宅の熱損失係数 [W/(m<sup>2</sup>・K)]  "
   ]
  },
  {
   "cell_type": "code",
   "execution_count": 43,
   "metadata": {
    "collapsed": true
   },
   "outputs": [],
   "source": [
    "def get_theta_amb_d(Q,theta_ext_d,central_heating_exists):\n",
    "    if central_heating_exists == False:\n",
    "        return (0.048 * Q + 0.3666) * theta_ext_d + (-1.2435 * Q + 18.82)\n",
    "    else:\n",
    "        return (0.0604 * Q + 0.3668) * theta_ext_d + (-1.6265 * Q + 19.99)"
   ]
  },
  {
   "cell_type": "markdown",
   "metadata": {},
   "source": [
    "#### 計算例  \n",
    "住宅の熱損失係数が 4 W/(m<sup>2</sup>・K) 、日平均外気温度が 16.5 ℃、全館連続暖房がある(=True)の場合の冷蔵庫の周辺空気の日平均温度は以下の値になる。"
   ]
  },
  {
   "cell_type": "code",
   "execution_count": 44,
   "metadata": {},
   "outputs": [
    {
     "data": {
      "text/plain": [
       "23.522599999999997"
      ]
     },
     "execution_count": 44,
     "metadata": {},
     "output_type": "execute_result"
    }
   ],
   "source": [
    "get_theta_amb_d(4,16.5,True)"
   ]
  },
  {
   "cell_type": "markdown",
   "metadata": {},
   "source": [
    "## サンプル計算"
   ]
  },
  {
   "cell_type": "markdown",
   "metadata": {},
   "source": [
    "### $t$時の計算  \n",
    "計算条件\n",
    "+ 冷蔵時間　0.8 h\n",
    "+ 除霜用電熱器の定格消費電力 100 W\n",
    "+ 住宅の熱損失係数 4 W/(m<sup>2</sup>・K)\n",
    "+ 日平均外気温度 16 ℃\n",
    "+ 全館連続暖房 True\n",
    "+ 冷蔵庫のAPF 6\n",
    "+ 冷蔵庫のAPFを算出したJISの制定・改訂年 2006"
   ]
  },
  {
   "cell_type": "code",
   "execution_count": 45,
   "metadata": {
    "collapsed": true
   },
   "outputs": [],
   "source": [
    "def sample_hour(hour_refregrate_d_t,\\\n",
    "                rated_power_of_heater,\\\n",
    "                Q, \\\n",
    "                theta_external_air,\\\n",
    "                central_heating_exists,\\\n",
    "                APF,\\\n",
    "                JIS_year):\n",
    "    \n",
    "    E_elc_anl = get_E_elc_anl(APF, JIS_year)\n",
    "    \n",
    "    theta_amb_d = get_theta_amb_d(Q, theta_external_air, central_heating_exists)\n",
    "    \n",
    "    E_elc_est_d = get_E_elc_est_d(E_elc_anl, theta_amb_d)\n",
    "\n",
    "    P_elc_dfrs = get_P_elc_dfrs(rated_power_of_heater)\n",
    "    \n",
    "    P_elc_rfrg = get_P_elc_rfrg(E_elc_est_d, P_elc_dfrs)\n",
    "    \n",
    "    \n",
    "    E_elc_rfrg_d_t = get_E_elc_rfrg_d_t(P_elc_rfrg,hour_refregrate_d_t)\n",
    "    E_elc_dfrs_d_t = get_E_elc_dfrs_d_t(P_elc_dfrs,hour_refregrate_d_t)\n",
    "    \n",
    "    return get_E_elc_d_t(E_elc_rfrg_d_t,E_elc_dfrs_d_t)"
   ]
  },
  {
   "cell_type": "code",
   "execution_count": 46,
   "metadata": {},
   "outputs": [
    {
     "name": "stdout",
     "output_type": "stream",
     "text": [
      "d日t時の消費電力量：41.119939019117126 Wh/h\n"
     ]
    }
   ],
   "source": [
    "val = sample_hour(0.8,100,4,16,True,6,2006)\n",
    "print('d日t時の消費電力量：' + str(val) + ' Wh/h')"
   ]
  }
 ],
 "metadata": {
  "kernelspec": {
   "display_name": "Python 3",
   "language": "python",
   "name": "python3"
  },
  "language_info": {
   "codemirror_mode": {
    "name": "ipython",
    "version": 3
   },
   "file_extension": ".py",
   "mimetype": "text/x-python",
   "name": "python",
   "nbconvert_exporter": "python",
   "pygments_lexer": "ipython3",
   "version": "3.6.3"
  }
 },
 "nbformat": 4,
 "nbformat_minor": 2
}
