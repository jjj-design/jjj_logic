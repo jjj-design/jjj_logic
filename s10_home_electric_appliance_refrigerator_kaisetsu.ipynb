{
 "cells": [
  {
   "cell_type": "code",
   "execution_count": 1,
   "metadata": {
    "collapsed": true
   },
   "outputs": [],
   "source": [
    "import numpy as np\n",
    "import math\n",
    "\n",
    "import pandas as pd   # csvファイルを読み込み、ndarrayに変換するために必要なる。"
   ]
  },
  {
   "cell_type": "markdown",
   "metadata": {},
   "source": [
    "# 冷蔵庫　解説書準拠版"
   ]
  },
  {
   "cell_type": "markdown",
   "metadata": {},
   "source": [
    "## 1. 定義"
   ]
  },
  {
   "cell_type": "markdown",
   "metadata": {},
   "source": [
    "準寒冷地版ガイドラインクラス2の製品例2009年TOPの商品。\n",
    "電動機消費電力87W、電熱装置150W、年間消費電力330kWh/年（JIS C9801-2006)"
   ]
  },
  {
   "cell_type": "markdown",
   "metadata": {},
   "source": [
    "## 2. 動作モード"
   ]
  },
  {
   "cell_type": "markdown",
   "metadata": {},
   "source": [
    "冷蔵庫の動作モードを以下に示す。\n",
    "\n",
    "|動作モード|内容|説明|\n",
    "|:---:|:---:|:---:|\n",
    "|1|除霜|蒸発器表面に生じた着霜をヒーターで融解させる運転|\n",
    "|2|休止||\n",
    "|3|冷却|庫内に収納した内容物を冷却する|\n"
   ]
  },
  {
   "cell_type": "markdown",
   "metadata": {},
   "source": [
    "## 3. 各動作モードでの消費電力"
   ]
  },
  {
   "cell_type": "markdown",
   "metadata": {},
   "source": [
    "### 3.1. 日消費電力"
   ]
  },
  {
   "cell_type": "markdown",
   "metadata": {},
   "source": [
    "冷蔵庫の日積算消費電力の実測値は、日平均雰囲気温度とJIS　C9801-1999　で規定される年間消費電力量から以下の式で計算される。\n",
    "\n",
    "$$\n",
    "E_{ E, ref, daily, d } = [(3.283 \\times 10^{-3} -2.0 \\times 10^{-6} \\times E_{ E, ref, anuual\\_ rtd\\_1999, a})\n",
    "\\times (\\theta_{ amb, ave, d }^{2} - 30 \\times \\theta_{ amb, ave, d }) + 1.85 \\times 10^{-3} \\times E_{ E, ref, anuual\\_rtd\\_1999, a} + 1.329 ] \\times 10^{3}\n",
    "$$  \n",
    "\n",
    "$E_{ E, ref, daily, d }$ :日付$d$における冷蔵庫の日消費電力量 [kWh/d]  \n",
    "$E_{ E, ref, annual\\_trd\\_1999, a}$ :JIS C9801-1999 で規定される冷蔵庫の年間費電力量 [kWh/yr]  \n",
    "$\\theta_{ amb, ave, d }$ :日付$d$の冷蔵庫の日平均雰囲気温度 [℃]  "
   ]
  },
  {
   "cell_type": "code",
   "execution_count": 2,
   "metadata": {},
   "outputs": [],
   "source": [
    "def get_E_E_ref_daily_d( theta_o_ave_d, E_E_annual_rtd_2006_a):\n",
    "    \"\"\"冷蔵庫の日別消費電力量を取得する\n",
    "    \n",
    "    Parameters\n",
    "    ----------\n",
    "    theata_o_ave_d : ndarray(N-dimensional array)\n",
    "        日平均外気温度[℃]を格納したND配列\n",
    "        d日の日平均外気温度[℃]が年開始日から365個連続して格納されている\n",
    "\n",
    "    E_E_annual_rtd_2006_a : float\n",
    "        JIS C9801-2006 で規定される冷蔵庫の年間費電力量 [kWh/yr] \n",
    "        \n",
    "    \n",
    "    Returns\n",
    "    ----------\n",
    "    E_E_ref_daily__d : ndarray(N-dimensional array)\n",
    "        冷蔵庫の日積算消費電力の実測値[Wh]を格納したND配列\n",
    "        d日の冷蔵庫の日積算消費電力の実測値量[Wh]が年開始日から365個連続して格納されている\n",
    "        \n",
    "    \"\"\"\n",
    "    # 冷蔵庫の日平均雰囲気温度を取得する\n",
    "    theta_amb_ave_d = get_theta_amb_ave_d( theta_o_ave_d )\n",
    "    \n",
    "    # JIS C9801-2006 で規定される冷蔵庫の年間費電力量をJIS C9801-1999 で規定される冷蔵庫の年間費電力量に変換する\n",
    "    E_E_annual_rtd_1999_a = get_E_E_annual_rtd_1999_a( E_E_annual_rtd_2006_a )\n",
    "    \n",
    "    # 冷蔵の日別電力(kWh)を推定する\n",
    "    E_E_ref_daily_d_kWh = (3.283 * 10**(-3) - 2.0 * 10**(-6) * E_E_annual_rtd_1999_a) \\\n",
    "                        * (theta_amb_ave_d**2 - 30 * theta_amb_ave_d) \\\n",
    "                        + 1.85 * 10**(-3) * E_E_annual_rtd_1999_a \\\n",
    "                        + 1.329\n",
    "    \n",
    "    # 冷蔵の日別電力を(Wh)推定する\n",
    "    E_E_ref_daily_d = E_E_ref_daily_d_kWh * 10**(3)\n",
    "    \n",
    "    return E_E_ref_daily_d"
   ]
  },
  {
   "cell_type": "markdown",
   "metadata": {},
   "source": [
    "#### 3.1.1. 冷蔵庫の日平均雰囲気温度"
   ]
  },
  {
   "cell_type": "markdown",
   "metadata": {},
   "source": [
    "冷蔵庫の日平均雰囲気温度は、建築研究所実装実験棟101号室における日平均冷蔵庫雰囲気温度と日平均外気温度の実測値により求める。  \n",
    "ただし、日平均外気温度は、地域、季節によらず14.6℃とする。\n",
    "\n",
    "$$\n",
    "\\theta_{ amb, ave, d } = 0.4142 \\times \\theta_{ o, ave, d } + 15.47\n",
    "$$  \n",
    "\n",
    "\n",
    "$\\theta_{ amb, ave, d }$ :日付$d$の冷蔵庫の日平均雰囲気温度 [℃] \n",
    "$\\theta_{ o, ave, d }$ :日付$d$の日平外気温度（=14.6） [℃] \n"
   ]
  },
  {
   "cell_type": "code",
   "execution_count": 3,
   "metadata": {
    "collapsed": true
   },
   "outputs": [],
   "source": [
    "def get_theta_amb_ave_d(theta_o_ave_d):\n",
    "    \"\"\"冷蔵庫の日平均雰囲気温度を取得する\n",
    "    \n",
    "    Parameters\n",
    "    ----------\n",
    "    theata_o_ave_d : ndarray(N-dimensional array)\n",
    "        日別の平均外気温度[℃]を格納したND配列\n",
    "        d日の平均外気温度[℃]が年開始日から365個連続して格納されている\n",
    "    \n",
    "    Returns\n",
    "    ----------\n",
    "    theata_amb_ave_d : ndarray(N-dimensional array)\n",
    "        日別の冷蔵庫周辺空気の推定温度[℃]を格納したND配列\n",
    "        d日の冷蔵庫周辺空気の推定温度[℃]が年開始日から365個連続して格納されている\n",
    "    \"\"\"\n",
    "    \n",
    "    # ただし、解説書では日別の平均外気温度は通年14.6℃に固定されているので以下の式で値を上書きする\n",
    "    theta_o_ave_d = np.full(365, 14.6)\n",
    "    \n",
    "    # 冷蔵庫の日平均雰囲気温度を取得する\n",
    "    theta_amb_ave_d = 0.4142 * theta_o_ave_d + 15.47\n",
    "    \n",
    "    return theta_amb_ave_d"
   ]
  },
  {
   "cell_type": "markdown",
   "metadata": {},
   "source": [
    "#### 3.1.2. JIS C9801-2006に基づいた測定値の変換"
   ]
  },
  {
   "cell_type": "markdown",
   "metadata": {},
   "source": [
    "JIS C9801-2006に基づき測定された値をJIS C9801-1999に基づき測定された値に変換するには、以下の式を利用する。\n",
    "\n",
    "$$\n",
    "E_{ E, ref, annual\\_rtd\\_1999, a } = \\frac{ E_{ E, ref, annual\\_rtd\\_2006, a } }{ 3.48 }\n",
    "$$  \n",
    "\n",
    "$E_{ E, ref, annual\\_trd\\_1999, a}$ :JIS C9801-1999 で規定される冷蔵庫の年間費電力量 [kWh/yr]  \n",
    "$E_{ E, ref, annual\\_trd\\_2006, a}$ :JIS C9801-2006 で規定される冷蔵庫の年間費電力量(=330) [kWh/yr]  \n",
    "3.48 :JIS C9801-2006 で規定される冷蔵庫の年間費電力量をJIS C9801-1999 で規定される冷蔵庫の年間費電力量に換算するときの係数 [-]  \n"
   ]
  },
  {
   "cell_type": "code",
   "execution_count": 4,
   "metadata": {
    "collapsed": true
   },
   "outputs": [],
   "source": [
    "def get_E_E_annual_rtd_1999_a(E_E_annual_rtd_2006_a):\n",
    "    \"\"\"JIS C9801-2006 で規定される冷蔵庫の年間費電力量をJIS C9801-1999 で規定される冷蔵庫の年間費電力量に変換する\n",
    "    \n",
    "    Parameters\n",
    "    ----------\n",
    "    E_E_annual_rtd_2006_a : float\n",
    "        JIS C9801-2006 で規定される冷蔵庫の年間費電力量 [kWh/yr] \n",
    "        \n",
    "    Returns\n",
    "    ----------\n",
    "    E_E_annual_rtd_1999_a : float\n",
    "        JIS C9801-1999 で規定される冷蔵庫の年間費電力量 [kWh/yr] \n",
    "    \"\"\"\n",
    "\n",
    "    # ただし、解説書ではJIS C9801-2006 で規定される冷蔵庫の年間費電力量は322 kW/yr に固定されているので以下の式で値を上書きする\n",
    "    E_E_annual_rtd_2006_a = 330\n",
    "    \n",
    "    # JIS C9801-1999 で規定される冷蔵庫の年間費電力量に変換する\n",
    "    E_E_annual_rtd_1999_a =  E_E_annual_rtd_2006_a / 3.48\n",
    "    \n",
    "    return E_E_annual_rtd_1999_a"
   ]
  },
  {
   "cell_type": "markdown",
   "metadata": {},
   "source": [
    "### 3.2. 除霜運転時の15分間の消費電力量（動作モード1）"
   ]
  },
  {
   "cell_type": "markdown",
   "metadata": {},
   "source": [
    "冷蔵庫の除霜運転時の15分間の消費電力量は以下の式より求める。\n",
    "\n",
    "$$\n",
    "E_{ E, ref_{ defrost }, d, t } = \\frac{ P_{ E, ref_{ defrost }, d, t } \\times 15}{ 60 }\n",
    "$$  \n",
    "\n",
    "$P_{ E, ref_{ defrost }, d, t }$ :冷蔵庫の除霜運転時の消費電力 [W]  \n",
    "$E_{ E, ref_{ defrost }, d, t }$ :冷蔵庫の除霜運転時の15分間の消費電力量 [Wh]  \n"
   ]
  },
  {
   "cell_type": "code",
   "execution_count": 5,
   "metadata": {
    "collapsed": true
   },
   "outputs": [],
   "source": [
    "def get_E_E_ref_defrost_d_t( P_E_ref_defrost_rtd ):\n",
    "    \"\"\"冷蔵庫の除霜運転時の15分間の消費電力量を取得する\n",
    "    \n",
    "    Parameters\n",
    "    ----------\n",
    "    P_E_ref_defrost_rtd : float\n",
    "        冷蔵庫の電熱装置の定格消費電力 [W] \n",
    "        \n",
    "    Returns\n",
    "    ----------\n",
    "    E_E_ref_defrost_d_t : float\n",
    "        冷蔵庫の除霜運転時の15分間の消費電力量 [Wh] \n",
    "    \"\"\"\n",
    "    \n",
    "    # 冷蔵庫の除霜運転時の電熱装置の消費電力を求める\n",
    "    P_E_ref_defrost_d_t = get_P_E_ref_defrost_d_t( P_E_ref_defrost_rtd )\n",
    "    \n",
    "    # 冷蔵庫の除霜運転時の15分間の消費電力量を求める\n",
    "    E_E_ref_defrost_d_t =  ( P_E_ref_defrost_d_t * 15 ) / 60\n",
    "    \n",
    "    return E_E_ref_defrost_d_t"
   ]
  },
  {
   "cell_type": "markdown",
   "metadata": {},
   "source": [
    "#### 3.2.1. 冷蔵庫の除霜運転時の電熱装置の消費電力"
   ]
  },
  {
   "cell_type": "markdown",
   "metadata": {},
   "source": [
    "冷蔵庫の除霜運転時の消費電力は以下の式より求める。  \n",
    "ただし、冷蔵庫の電熱装置の定格消費電力は150Wとする。\n",
    "\n",
    "$$\n",
    "P_{ E, ref_{ defrost }, d, t } = 0.9 \\times P_{ E, ref_{ defrost }, rtd }\n",
    "$$  \n",
    "\n",
    "$P_{ E, ref_{ defrost }, rtd }$ :冷蔵庫の電熱装置の定格消費電力(=150) [W]  \n",
    "$P_{ E, ref_{ defrost }, d, t }$ :冷蔵庫の除霜運転時の消費電力 [W]  \n"
   ]
  },
  {
   "cell_type": "code",
   "execution_count": 6,
   "metadata": {
    "collapsed": true
   },
   "outputs": [],
   "source": [
    "def get_P_E_ref_defrost_d_t( P_E_ref_defrost_rtd ):\n",
    "    \"\"\"冷蔵庫の除霜運転時の15分間の消費電力量を取得する\n",
    "    \n",
    "    Parameters\n",
    "    ----------\n",
    "    P_E_ref_defrost_rtd : float\n",
    "        冷蔵庫の電熱装置の定格消費電力 [W] \n",
    "        \n",
    "    Returns\n",
    "    ----------\n",
    "    P_E_ref_defrost_d_t : float\n",
    "        冷蔵庫の除霜運転時の電熱装置の消費電力 [W] \n",
    "    \"\"\"\n",
    "    \n",
    "    # 冷蔵庫の除霜運転時の電熱装置の消費電力を求める\n",
    "    P_E_ref_defrost_d_t = 0.9 * P_E_ref_defrost_rtd\n",
    "    \n",
    "    # ただし、解説書では冷蔵庫の電熱装置の定格消費電力は150Wに固定されているので以下の式で値を上書きする\n",
    "    P_E_ref_defrost_d_t = 0.9 * 150\n",
    "    \n",
    "    return P_E_ref_defrost_d_t"
   ]
  },
  {
   "cell_type": "markdown",
   "metadata": {},
   "source": [
    "### 3.3. 除霜運転以外の日消費電力量"
   ]
  },
  {
   "cell_type": "markdown",
   "metadata": {},
   "source": [
    "冷蔵庫の除霜運転以外の日消費電力量は以下の式より求める。\n",
    "\n",
    "$$\n",
    "E_{ E, ex\\_defrost, daily, d } = E_{ E, ref, daily, d} - P_{ E, ref_{defrost}, d, t } \\times t_{ ref_{defrost} }\n",
    "$$  \n",
    "\n",
    "$E_{ E, ex\\_defrost, daily, d }$ :冷蔵庫の除霜運転以外の消費電力量 [Wh]  \n",
    "$t_{ ref_{ defrost } }$ :冷蔵庫の除霜運転時間(=2) [h]  "
   ]
  },
  {
   "cell_type": "code",
   "execution_count": 7,
   "metadata": {
    "collapsed": true
   },
   "outputs": [],
   "source": [
    "def get_E_E_ex_defrost_daily_d( theta_o_ave_d, E_E_annual_rtd_2006_a, P_E_ref_defrost_rtd, t_ref_defrost ):\n",
    "    \"\"\"冷蔵庫の除霜運転以外の日消費電力量を取得する\n",
    "    \n",
    "    Parameters\n",
    "    ----------\n",
    "    theata_o_ave_d : ndarray(N-dimensional array)\n",
    "        日別の平均外気温度[℃]を格納したND配列\n",
    "        d日の平均外気温度[℃]が年開始日から365個連続して格納されている\n",
    "\n",
    "    E_E_annual_rtd_2006_a : float\n",
    "        JIS C9801-2006 で規定される冷蔵庫の年間費電力量 [kWh/yr] \n",
    "\n",
    "    P_E_ref_defrost_rtd : float\n",
    "        冷蔵庫の電熱装置の定格消費電力 [W] \n",
    "        \n",
    "    t_ref_defrost : float\n",
    "        冷蔵庫の除霜運転時間 [h] \n",
    "    \n",
    "    Returns\n",
    "    ----------\n",
    "    E_E_ex_defrost_daily_d : ndarray(N-dimensional array)\n",
    "        日別の冷蔵庫の除霜運転以外の日消費電力量[Wh]を格納したND配列\n",
    "        d日の冷蔵庫の除霜運転以外の日消費電力量[Wh]が年開始日から365個連続して格納されている\n",
    "    \"\"\"\n",
    "    \n",
    "    # 冷蔵庫の日別消費電力量を取得する\n",
    "    E_E_ref_daily_d = get_E_E_ref_daily_d( theta_o_ave_d, E_E_annual_rtd_2006_a )\n",
    "    \n",
    "    # 冷蔵庫の除霜運転時の消費電力を取得する\n",
    "    P_E_ref_defrost_d_t = get_P_E_ref_defrost_d_t( P_E_ref_defrost_rtd )\n",
    "    \n",
    "    # ただし、解説書では冷蔵庫の除霜運転時間は2時間（23～翌1）に固定されているので以下の式で値を上書きする\n",
    "    t_ref_defrost = 2\n",
    "    \n",
    "    # 冷蔵庫の除霜運転時の電熱装置の消費電力を求める\n",
    "    E_E_ex_defrost_daily_d = E_E_ref_daily_d - P_E_ref_defrost_d_t * t_ref_defrost\n",
    "    \n",
    "    return E_E_ex_defrost_daily_d"
   ]
  },
  {
   "cell_type": "markdown",
   "metadata": {},
   "source": [
    "#### 3.3.1. 除霜運転を除いた運転時間"
   ]
  },
  {
   "cell_type": "markdown",
   "metadata": {},
   "source": [
    "冷蔵庫の除霜運転を除いた運転時間は以下の式より求める。  \n",
    "除霜運転時間は2時間で固定されているため、実質22時間の定数となる。\n",
    "\n",
    "$$\n",
    "t_{ ex\\_defrost, daily } = 24 -  t_{ ref_{defrost} }\n",
    "$$  \n",
    "\n",
    "\n",
    "$t_{ ex\\_defrost, daily }$ :冷蔵庫の除霜運転を除いた運転時間 [h]  "
   ]
  },
  {
   "cell_type": "code",
   "execution_count": 8,
   "metadata": {
    "collapsed": true
   },
   "outputs": [],
   "source": [
    "def get_t_ex_defrost_daily( t_ref_defrost ):\n",
    "    \"\"\"冷蔵庫の除霜運転を除いた運転時間を取得する\n",
    "    \n",
    "    Parameters\n",
    "    ----------\n",
    "    t_ref_defrost : float\n",
    "        冷蔵庫の除霜運転時間 [h] \n",
    "    \n",
    "    Returns\n",
    "    ----------\n",
    "    t_ex_defrost_daily : float\n",
    "        冷蔵庫の除霜運転時間 [h] \n",
    "    \"\"\"\n",
    "        \n",
    "    # ただし、解説書では冷蔵庫の除霜運転時間は2時間（23～翌1）に固定されているので以下の式で値を上書きする\n",
    "    t_ref_defrost = 2\n",
    "    \n",
    "    # 冷蔵庫の除霜運転を除いた運転時間を取得する\n",
    "    t_ex_defrost_daily = 24 - t_ref_defrost\n",
    "    \n",
    "    return t_ex_defrost_daily"
   ]
  },
  {
   "cell_type": "markdown",
   "metadata": {},
   "source": [
    "### 3.4. 休止時の15分間の消費電力量（動作モード2）"
   ]
  },
  {
   "cell_type": "markdown",
   "metadata": {},
   "source": [
    "冷蔵庫の休止時の消費電力は以下の式より求める。  \n",
    "\n",
    "$$\n",
    "E_{ E, ref_{ standby }, d, t } = \\frac{ P_{ E, ref_{ standby }, d, t } \\times 15 }{ 60 }\n",
    "$$  \n",
    "\n",
    "\n",
    "$E_{ E, ref_{ standby }, d, t }$ :冷蔵庫の休止時の15分間の消費電力量 [Wh]  \n",
    "$P_{ E, ref_{ standby }, d, t }$ :冷蔵庫の休止時の消費電力(=10) [W]  "
   ]
  },
  {
   "cell_type": "code",
   "execution_count": 9,
   "metadata": {},
   "outputs": [],
   "source": [
    "def get_E_E_ref_standby_d_t( P_E_ref_standby_d_t ):\n",
    "    \"\"\"冷蔵庫の休止時の15分間の消費電力を取得する\n",
    "    \n",
    "    Parameters\n",
    "    ----------\n",
    "    P_E_ref_standby_d_t : float\n",
    "        冷蔵庫の休止時消費電力 [W] \n",
    "    \n",
    "    Returns\n",
    "    ----------\n",
    "    E_E_ref_standby_d_t : float\n",
    "        冷蔵庫の休止時の15分間の消費電力量 [Wh] \n",
    "    \"\"\"\n",
    "        \n",
    "    # ただし、解説書では冷蔵庫の休止時消費電力は10Wに固定されているので以下の式で値を上書きする\n",
    "    P_E_ref_standby_d_t = 10\n",
    "    \n",
    "    # 冷蔵庫の冷蔵庫の休止時の15分間の消費電力量を取得する\n",
    "    E_E_ref_standby_d_t = ( P_E_ref_standby_d_t * 15) / 60\n",
    "    \n",
    "    return E_E_ref_standby_d_t"
   ]
  },
  {
   "cell_type": "markdown",
   "metadata": {},
   "source": [
    "### 3.5. 冷却運転時の15分間の消費電力量（動作モード3）"
   ]
  },
  {
   "cell_type": "markdown",
   "metadata": {},
   "source": [
    "冷蔵庫の休止時の消費電力は以下の式より求める。  \n",
    "\n",
    "$$\n",
    "t_{ ref_{ operation }, daily } = Int \\left[ \\frac{ t_{ ex\\_defrost, daily} }{ \\frac{ ( 15 + 15 \\times n ) }{ 60 } } \\right] \\times \\frac{ 15 \\times n }{ 60 }\n",
    "$$  \n",
    "\n",
    "$$\n",
    "t_{ ref_{ standby }, daily } = t_{ ex\\_defrost, daily } - t_{ ref_{ operation }, daily }\n",
    "$$  \n",
    "\n",
    "$$\n",
    "E_{ E, ref_{ operation }, d } = E_{ E, ex\\_derost, daily, d } - t_{ ref_{ standby }, daily } \\times P_{ E, ref_{ standby }, d, t }\n",
    "$$  \n",
    "\n",
    "$$\n",
    "P_{ E, ref_{ operation }, d, t } = \\frac{ E_{ E, ref_{ operation }, d } }{ t_{ ref_{ operation }, daily } }\n",
    "$$  \n",
    "\n",
    "$$\n",
    "E_{ E, ref_{ operation }, d, t } = \\frac{ P_{ E, ref_{ operation }, d, t } \\times 15 }{ 60 }\n",
    "$$  \n",
    "\n",
    "\n",
    "\n",
    "$t_{ ref_{ operation }, daily }$ :日冷却運転時間 [h]  \n",
    "n :運転1周期のうちの冷却運転の回数 [回]  \n",
    "$t_{ ref_{ standby }, daily }$ :日休止時間 [h]  \n",
    "$E_{ E, ref_{ operation }, d }$ :冷却運転時日電力量 [Wh]  \n",
    "$E_{ E, ex\\_defrost, daily, d }$ :除霜運転以外の日消費電力量 [Wh]  \n",
    "$P_{ E, ref_{ operation }, d, t }$ :冷却運転時消費電力 [W]  \n",
    "$E_{ E, ref_{ operation }, d, t }$ :冷却運転時の15分間の消費電力量 [Wh]\n",
    "\n",
    "\n"
   ]
  },
  {
   "cell_type": "code",
   "execution_count": 10,
   "metadata": {},
   "outputs": [],
   "source": [
    "def get_E_E_ref_operation_d_t( P_E_ref_rtd, P_E_ref_standby_d_t, n, t_ref_defrost, theta_o_ave_d, E_E_annual_rtd_2006_a, P_E_ref_defrost_rtd ):\n",
    "    \"\"\"冷蔵庫の冷却時の15分間の消費電力量を取得する\n",
    "    \n",
    "    Parameters\n",
    "    ----------\n",
    "    P_E_ref_rtd : float\n",
    "        冷蔵庫の電動機消費電力 [W] \n",
    "    \n",
    "    P_E_ref_standby_d_t : float\n",
    "        冷蔵庫の休止時の消費電力 [W] \n",
    "    \n",
    "    n : float\n",
    "        冷蔵庫の運転1周期のうちの冷却運転の回数 [回]\n",
    "    \n",
    "    t_ref_defrost : float\n",
    "        冷蔵庫の日除霜運転時間 [h]\n",
    "    \n",
    "    theta_o_ave_d : ndarray(N-dimensional array)\n",
    "        日別の平均外気温度[℃]を格納したND配列\n",
    "        d日の平均外気温度[℃]が年開始日から365個連続して格納されている\n",
    "\n",
    "    E_E_annual_rtd_2006_a : float\n",
    "        JIS C9801-2006 で規定される冷蔵庫の年間費電力量 [kWh/yr] \n",
    "\n",
    "    P_E_ref_defrost_rtd : float\n",
    "        冷蔵庫の電熱装置の定格消費電力 [W] \n",
    "    \n",
    "    Returns\n",
    "    ----------\n",
    "    E_E_ref_operation_d_t : float\n",
    "        冷蔵庫の冷却時の15分間の消費電力量 [Wh] \n",
    "    \"\"\"\n",
    "    \n",
    "    # ただし、解説書では冷蔵庫の定格電動機消費電力は87Wに固定されているので以下の式で値を上書きする\n",
    "    P_E_ref_rtd = 87\n",
    "    \n",
    "    # ただし、解説書では冷蔵庫の休止時消費電力は10Wに固定されているので以下の式で値を上書きする\n",
    "    P_E_ref_standby_d_t = 10\n",
    "    \n",
    "    # ただし、解説書では運転1周期のうちの冷却運転の回数は2回に固定されているので以下の式で値を上書きする\n",
    "    n = 2\n",
    "    \n",
    "    # ただし、解説書では冷蔵庫の除霜時間は2hに固定されているので以下の式で値を上書きする\n",
    "    t_ref_defrost = 2\n",
    "    \n",
    "    # ただし、解説書では 日別の平均外気温度は14.6℃に固定されているので以下の式で値を上書きする\n",
    "    theta_o_ave_d = np.full( 365, 14.6 )\n",
    "    \n",
    "    # ただし、解説書ではJIS C9801-2006 で規定される冷蔵庫の年間費電力量は330Wに固定されているので以下の式で値を上書きする\n",
    "    E_E_annual_rtd_2006_a = 330\n",
    "    \n",
    "    # ただし、解説書では冷蔵庫の電熱装置の定格消費電力は150Wに固定されているので以下の式で値を上書きする\n",
    "    P_E_ref_defrost_rtd = 150\n",
    "    \n",
    "    \n",
    "    # 冷蔵庫の除霜運転を除いた運転時間を取得する\n",
    "    t_ex_defrost_daily = get_t_ex_defrost_daily( t_ref_defrost )\n",
    "    \n",
    "    # 冷蔵庫の日冷却運転時間を取得する\n",
    "    # 除霜運転を除いた運短時間を1周期に係る時間で割り、1日当たりの周期回数をINT関数で求め、それに1周期における冷却運転の時間を掛ける\n",
    "    t_ref_operation_daily = int( t_ex_defrost_daily / ( ( 15 + 15 * n ) / 60 ) ) * ( 15 * n ) / 60\n",
    "    \n",
    "    # 冷蔵庫の日休止時間を取得する\n",
    "    t_ref_standby_daily = t_ex_defrost_daily - t_ref_operation_daily\n",
    "\n",
    "    # 冷蔵庫の除霜運転以外の日消費電力量を取得する\n",
    "    E_E_ex_defrost_daily_d = get_E_E_ex_defrost_daily_d( theta_o_ave_d, E_E_annual_rtd_2006_a, P_E_ref_defrost_rtd, t_ref_defrost )\n",
    "    \n",
    "    # 冷蔵庫の冷却運転の日消費電力量を取得する\n",
    "    E_E_ref_operation_d = E_E_ex_defrost_daily_d - P_E_ref_standby_d_t * t_ref_standby_daily\n",
    "    \n",
    "    # 冷蔵庫の冷却運転の消費電力を取得する\n",
    "    P_E_ref_operation_d_t = E_E_ref_operation_d / t_ref_operation_daily\n",
    "    \n",
    "    # 冷蔵庫の冷却運転の消費電力が電動機消費電力を超えていないか確認する。\n",
    "    # 現在は固定値なので異常値にはならないが、変動値とした場合には繰り返し計算が必要になるので、Webプログラム的には×では？\n",
    "    #if P_E_ref_operation_d_t > P_E_ref_rtd:\n",
    "    #    raise ValueError(P_E_ref_operation_d_t)\n",
    "        \n",
    "    \n",
    "    # 冷蔵庫の冷蔵庫の冷却運転時の15分間の消費電力量を取得する\n",
    "    E_E_ref_operation_d_t = ( P_E_ref_operation_d_t * 15 ) / 60\n",
    "    \n",
    "    return E_E_ref_operation_d_t"
   ]
  },
  {
   "cell_type": "markdown",
   "metadata": {},
   "source": [
    "## ex. 1. 初期化"
   ]
  },
  {
   "cell_type": "markdown",
   "metadata": {},
   "source": [
    "実装方法が固まってから検討する。現時点では無理。"
   ]
  },
  {
   "cell_type": "markdown",
   "metadata": {},
   "source": [
    "## ex. 2.   一括処理"
   ]
  },
  {
   "cell_type": "markdown",
   "metadata": {},
   "source": [
    "外部ファイルから参照する場合に実行する。"
   ]
  },
  {
   "cell_type": "code",
   "execution_count": 11,
   "metadata": {
    "collapsed": true
   },
   "outputs": [],
   "source": [
    "def get_parameters( ):\n",
    "    \"\"\"外部ファイルから参照する際に必要なパラメータを集める。\n",
    "    \n",
    "    Parameters\n",
    "    ----------\n",
    "    現時点（2019.11.06）では引数は内部で固定値に置換されるため、引数は無し。\n",
    "    \n",
    "    Returns\n",
    "    ----------\n",
    "    P_E_mode_1 : float\n",
    "        冷蔵庫の除湿時の15分間の消費電力量 [Wh] \n",
    "    \n",
    "    P_E_mode_2 : float\n",
    "        冷蔵庫の休止時の15分間の消費電力量 [Wh] \n",
    "    \n",
    "    P_E_mode_3 : ndarray(N-dimensional array)\n",
    "        日別の冷蔵庫の冷却時の15分間の消費電力量[Wh]を格納したND配列\n",
    "        d日の冷蔵庫の冷却時の15分間の消費電力量[Wh]が年開始日から365個連続して格納されている\n",
    "    \"\"\"\n",
    "    \n",
    "    # 除霜運転時の15分間の消費電力量（動作モード1） 現時点（2019.11.06）では引数は内部で固定値に置換されるため、何でもよい\n",
    "    E_E_ref_defrost_d_t = get_E_E_ref_defrost_d_t(0)\n",
    "\n",
    "    # 休止時の15分間の消費電力量（動作モード2）　現時点（2019.11.06）では引数は内部で固定値に置換されるため、何でもよい\n",
    "    E_E_ref_standby_d_t = get_E_E_ref_standby_d_t(0)\n",
    "\n",
    "    # 冷却時の15分間の消費電力量（動作モード3）　現時点（2019.11.06）では引数は内部で固定値に置換されるため、何でもよい\n",
    "    E_E_ref_operation_d_t = get_E_E_ref_operation_d_t( 1, 2, 3, 4, np.zeros(365), 6, 7 )\n",
    "\n",
    "    # 動作モード1の値を消費電力に変換する\n",
    "    P_E_mode_1 = E_E_ref_defrost_d_t * 60 / 15\n",
    "    \n",
    "    # 動作モード2の値を消費電力に変換する\n",
    "    P_E_mode_2 = E_E_ref_standby_d_t * 60 / 15\n",
    "    \n",
    "    # 動作モード3の値を消費電力に変換する\n",
    "    P_E_mode_3 = E_E_ref_operation_d_t * 60 / 15\n",
    "    \n",
    "    return P_E_mode_1, P_E_mode_2, P_E_mode_3"
   ]
  },
  {
   "cell_type": "markdown",
   "metadata": {},
   "source": [
    "## ex. 3.  外部ファイルからの参照関数"
   ]
  },
  {
   "cell_type": "markdown",
   "metadata": {},
   "source": [
    "外部から家電スケジュールを受け取り、それに対応する秒数と消費電力を返す"
   ]
  },
  {
   "cell_type": "code",
   "execution_count": 12,
   "metadata": {},
   "outputs": [],
   "source": [
    "def get_E_elc_HEA_steps(dictionary_of_HEA_schedule):\n",
    "    \"\"\"冷蔵庫の冷却時の15分間の消費電力量を取得する\n",
    "    \n",
    "    Parameters\n",
    "    ----------\n",
    "    dictionary_of_HEA_schedule : dictionary\n",
    "        (key)計算ステップ番号 : ?float\n",
    "        稼働開始時間 : datetime64\n",
    "        稼働状態値(状態値の範囲は各家電に依存する) : ?float\n",
    "        継続秒数 : ?float\n",
    "    \n",
    "    Returns\n",
    "    ----------\n",
    "    t_sec_steps : ndarray(N-dimensional array)\n",
    "        ステップ別の継続秒数[s]を格納したND配列\n",
    "        各ステップの継続秒数[s]が年開始日からステップ数分連続して格納されている\n",
    "    \n",
    "    P_elc_HEA_steps : ndarray(N-dimensional array)\n",
    "        ステップ別に指定された動作モードでの家電の消費電力[W]を格納したND配列\n",
    "        各ステップの動作モードでの家電の消費電力[w]が年開始日からステップ数分連続して格納されている\n",
    "    \"\"\"\n",
    "    \n",
    "    key_list = dictionary_of_HEA_schedule.keys()\n",
    "    t_sec_steps = np.zeros(len(key_list))\n",
    "    P_elc_HEA_steps = np.zeros(len(key_list))\n",
    "    \n",
    "    \n",
    "    # 動作条件別の日別消費電力の読み出し(解説書の固定値を採用しなくなった場合には、引数を再調整する事)\n",
    "    P_elc_mode_1, P_elc_mode_2, P_elc_mode_3 = get_parameters()\n",
    "    \n",
    "    for i in range(len(key_list)):\n",
    "        t_sec_steps[i] = dictionary_of_HEA_schedule[i][2]\n",
    "        \n",
    "        # 受け取った開始日時から年開始日からの日数を取得する\n",
    "        t = pd.to_datetime( dictionary_of_HEA_schedule[i][0] ) - pd.to_datetime( np.datetime64('2002-01-01T00:00:00') )\n",
    "        \n",
    "        if dictionary_of_HEA_schedule[i][1] == 1:\n",
    "            P_elc_HEA_steps[i] = P_elc_mode_1\n",
    "        elif dictionary_of_HEA_schedule[i][1] == 2:\n",
    "            P_elc_HEA_steps[i] = P_elc_mode_2\n",
    "        elif dictionary_of_HEA_schedule[i][1] == 3:\n",
    "            P_elc_HEA_steps[i] = P_elc_mode_3[t.days]\n",
    "        else:\n",
    "            raise ValueError(item)\n",
    "    \n",
    "    return t_sec_steps, P_elc_HEA_steps"
   ]
  },
  {
   "cell_type": "markdown",
   "metadata": {},
   "source": [
    "## 外部ファイルからの参照テスト"
   ]
  },
  {
   "cell_type": "code",
   "execution_count": 13,
   "metadata": {},
   "outputs": [
    {
     "name": "stdout",
     "output_type": "stream",
     "text": [
      "{0: (numpy.datetime64('2001-01-01T00:00:00'), 3, 900.0), 1: (numpy.datetime64('2001-01-01T00:15:00'), 1, 31534200.0), 2: (numpy.datetime64('2001-12-31T23:45:00'), 2, 900.0)}\n"
     ]
    }
   ],
   "source": [
    "stp = np.array([0,1,2])\n",
    "tm = np.array(['2001-01-01T00:00:00', '2001-01-01T00:15:00', '2001-12-31T23:45:00'], dtype='datetime64')\n",
    "stat = np.array([3,1,2])\n",
    "sec = np.array([(np.datetime64(tm[1]) - np.datetime64(tm[0])).item().total_seconds(), \\\n",
    "                (np.datetime64(tm[2]) - np.datetime64(tm[1])).item().total_seconds(), \\\n",
    "                (np.datetime64('2002-01-01T00:00:00') - np.datetime64(tm[2])).item().total_seconds()])\n",
    "schedule_of_HEA = dict(zip(stp, zip(tm, stat, sec)))\n",
    "\n",
    "print(schedule_of_HEA)"
   ]
  },
  {
   "cell_type": "code",
   "execution_count": 14,
   "metadata": {},
   "outputs": [
    {
     "data": {
      "text/plain": [
       "(array([  9.00000000e+02,   3.15342000e+07,   9.00000000e+02]),\n",
       " array([  41.02204777,  135.        ,   10.        ]))"
      ]
     },
     "execution_count": 14,
     "metadata": {},
     "output_type": "execute_result"
    }
   ],
   "source": [
    "get_E_elc_HEA_steps(schedule_of_HEA )"
   ]
  }
 ],
 "metadata": {
  "kernelspec": {
   "display_name": "Python 3",
   "language": "python",
   "name": "python3"
  },
  "language_info": {
   "codemirror_mode": {
    "name": "ipython",
    "version": 3
   },
   "file_extension": ".py",
   "mimetype": "text/x-python",
   "name": "python",
   "nbconvert_exporter": "python",
   "pygments_lexer": "ipython3",
   "version": "3.6.3"
  }
 },
 "nbformat": 4,
 "nbformat_minor": 2
}
