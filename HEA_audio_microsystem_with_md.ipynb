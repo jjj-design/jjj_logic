{
 "cells": [
  {
   "cell_type": "code",
   "execution_count": 1,
   "metadata": {
    "collapsed": true
   },
   "outputs": [],
   "source": [
    "import numpy as np\n",
    "import pandas as pd\n",
    "import matplotlib.pyplot as plt"
   ]
  },
  {
   "cell_type": "markdown",
   "metadata": {},
   "source": [
    "# 家電  "
   ]
  },
  {
   "cell_type": "markdown",
   "metadata": {},
   "source": [
    "## MDコンポ"
   ]
  },
  {
   "cell_type": "markdown",
   "metadata": {},
   "source": [
    "### 時刻別消費電力量\n",
    "$$\n",
    "E_{ Elc, audio_{ MicroSystem-with-MD }, d, t } =  \n",
    "( P_{ Elc, audio_{ MicroSystem-with-MD }, listening } \\times t_{ audio_{ MicroSystem-with-MD }, listening, d, t } +\n",
    "P_{ Elc, audio_{ MicroSystem-with-MD }, standby } \\times t_{ audio_{ MicroSystem-with-MD }, standby, d, t } ) \n",
    "\\times 10^{ -3 }\n",
    "$$\n",
    "\n",
    "$ E_{ Elc, audio_{ MicroSystem-with-MD }, d, t } $：日付dの時刻tにおける消費電力量,kWh  \n",
    "$ P_{ Elc, audio_{ MicroSystem-with-MD }, listening } $：聴取時の消費電力,W  \n",
    "$ t_{ audio_{ MicroSystem-with-MD }, listening, d, t } $：日付dの時刻tにおける聴取時間,h  \n",
    "$ P_{ Elc, audio_{ MicroSystem-with-MD }, standby } $：待機時の消費電力,W  \n",
    "$ t_{ audio_{ MicroSystem-with-MD }, standby, d, t } $：日付dの時刻tにおける待機時間,h  \n",
    "$ 10^{ -3 } $：単位換算,Wh -> kWh"
   ]
  },
  {
   "cell_type": "code",
   "execution_count": 2,
   "metadata": {
    "collapsed": true
   },
   "outputs": [],
   "source": [
    "def get_E_Elc_audio_microsystem_with_md_d_t( \\\n",
    "        P_Elc_audio_microsystem_with_md_rtd, \\\n",
    "        P_Elc_audio_microsystem_with_md_standby_rtd, \\\n",
    "        t_audio_microsystem_with_md_listening_d_t, \\\n",
    "        t_audio_microsystem_with_md_standby_d_t):\n",
    "    \"\"\"時刻別消費電力量を計算する\n",
    "    \n",
    "    Parameters\n",
    "    ----------\n",
    "    P_Elc_audio_microsystem_with_md_rtd : float\n",
    "        定格消費電力, W\n",
    "        \n",
    "    P_Elc_audio_microsystem_with_md_standby_rtd : float\n",
    "        待機時の定格消費電力, W\n",
    "        \n",
    "    t_audio_microsystem_with_md_listening_d_t : ndarray(N-dimensional array)\n",
    "        1年間の全時間の聴取時間を格納したND配列, h\n",
    "        d日t時の聴取時間が年開始時から8760個連続して格納されている\n",
    "    \n",
    "    t_audio_microsystem_with_md_standby_d_t : ndarray(N-dimensional array)\n",
    "        1年間の全時間の待機時間を格納したND配列, h\n",
    "        d日t時の待機時間が年開始時から8760個連続して格納されている\n",
    "\n",
    "    Returns\n",
    "    ----------\n",
    "    E_Elc_audio_microsystem_with_md_d_t : ndarray(N-dimensional array)\n",
    "        1年間の全時間の消費電力量を格納したND配列, Wh\n",
    "        d日t時の消費電力量が年開始時から8760個連続して格納されている\n",
    "    \"\"\"\n",
    "    \n",
    "    P_Elc_audio_microsystem_with_md_listening = get_P_Elc_audio_microsystem_with_md_listening(P_Elc_audio_microsystem_with_md_rtd)\n",
    "    P_Elc_audio_microsystem_with_md_standby = get_P_Elc_audio_microsystem_with_md_standby(P_Elc_audio_microsystem_with_md_standby_rtd)\n",
    "    \n",
    "    E_Elc_audio_microsystem_with_md_d_t \\\n",
    "        = P_Elc_audio_microsystem_with_md_listening * t_audio_microsystem_with_md_listening_d_t \\\n",
    "        + P_Elc_audio_microsystem_with_md_standby * t_audio_microsystem_with_md_standby_d_t\n",
    "        \n",
    "    E_Elc_audio_microsystem_with_md_d_t = E_Elc_audio_microsystem_with_md_d_t * 10**(-3)\n",
    "    \n",
    "    return E_Elc_audio_microsystem_with_md_d_t"
   ]
  },
  {
   "cell_type": "markdown",
   "metadata": {},
   "source": [
    "### 動作別の消費電力"
   ]
  },
  {
   "cell_type": "markdown",
   "metadata": {},
   "source": [
    "#### 聴取時の消費電力  \n",
    "$$\n",
    "P_{ Elc, audio_{ MicroSystem-with-MD }, listening } =　0.4 \\times P_{ Elc, audio_{ MicroSystem-with-MD }, rtd }\n",
    "$$\n",
    "\n",
    "$ P_{ Elc, audio_{ MicroSystem-with-MD }, rtd } $：定格消費電力,W"
   ]
  },
  {
   "cell_type": "code",
   "execution_count": 3,
   "metadata": {
    "collapsed": true
   },
   "outputs": [],
   "source": [
    "def get_P_Elc_audio_microsystem_with_md_listening(P_Elc_audio_microsystem_with_md_rtd):\n",
    "    \"\"\"聴取時の消費電力を計算する\n",
    "    \n",
    "    Parameters\n",
    "    ----------\n",
    "    P_Elc_audio_microsystem_with_md_rtd : float\n",
    "        定格消費電力, W\n",
    "\n",
    "    Returns\n",
    "    ----------\n",
    "    P_Elc_audio_microsystem_with_md_listening : float\n",
    "        聴取時消費電力, W\n",
    "    \"\"\"\n",
    "        \n",
    "    P_Elc_audio_microsystem_with_md_listening = \\\n",
    "        0.4 * P_Elc_audio_microsystem_with_md_rtd\n",
    "        \n",
    "    return P_Elc_audio_microsystem_with_md_listening"
   ]
  },
  {
   "cell_type": "markdown",
   "metadata": {},
   "source": [
    "#### 待機時の消費電力  \n",
    "$$\n",
    "P_{ Elc, audio_{ MicroSystem-with-MD }, standby } = P_{ Elc, audio_{ MicroSystem-with-MD }, standby, rtd }\n",
    "$$\n",
    "\n",
    "$ P_{ Elc, audio_{ MicroSystem-with-MD }, standby, rtd } $：待機時の定格消費電力,W"
   ]
  },
  {
   "cell_type": "code",
   "execution_count": 4,
   "metadata": {
    "collapsed": true
   },
   "outputs": [],
   "source": [
    "def get_P_Elc_audio_microsystem_with_md_standby(P_Elc_audio_microsystem_with_md_standby_rtd):\n",
    "    \"\"\"待機時の消費電力を計算する\n",
    "    \n",
    "    Parameters\n",
    "    ----------\n",
    "    P_Elc_audio_microsystem_with_md_standby_rtd : float\n",
    "        定格消費電力, W\n",
    "\n",
    "    Returns\n",
    "    ----------\n",
    "    P_Elc_audio_microsystem_with_md_standby : float\n",
    "        聴取時消費電力, W\n",
    "    \"\"\"\n",
    "        \n",
    "    P_Elc_audio_microsystem_with_md_standby = \\\n",
    "        P_Elc_audio_microsystem_with_md_standby_rtd\n",
    "        \n",
    "    return P_Elc_audio_microsystem_with_md_standby"
   ]
  },
  {
   "cell_type": "markdown",
   "metadata": {},
   "source": [
    "## サンプル計算"
   ]
  },
  {
   "cell_type": "markdown",
   "metadata": {},
   "source": [
    "### 家電スケジュールの読み込み\n",
    "ここでは、サンプルデータをcsvファイルから読み込む"
   ]
  },
  {
   "cell_type": "code",
   "execution_count": 5,
   "metadata": {
    "collapsed": true
   },
   "outputs": [],
   "source": [
    "def import_schedule_1_d_t() -> np.ndarray:\n",
    "    \"\"\"家電スケジュールを外部CSVファイルからND配列に読み込む\n",
    "    \n",
    "    Returns\n",
    "    ----------\n",
    "    E_Elc_tv_led_d_t : ndarray(N-dimensional array)\n",
    "        1年間の全時間の家電スケジュールを格納したND配列\n",
    "        d日t時の家電スケジュールが年開始時から8760個連続して格納されている\n",
    "    \"\"\"\n",
    "    \n",
    "    df = pd.read_csv('HEA_schedule_sample.csv', encoding='SHIFT_JIS')\n",
    "    ds = df['MDコンポ_4人世帯_聴取']\n",
    "    schedule_1_d_t = ds.values\n",
    "    return schedule_1_d_t"
   ]
  },
  {
   "cell_type": "code",
   "execution_count": 6,
   "metadata": {
    "collapsed": true
   },
   "outputs": [],
   "source": [
    "def import_schedule_2_d_t() -> np.ndarray:\n",
    "    \"\"\"家電スケジュールを外部CSVファイルからND配列に読み込む\n",
    "    \n",
    "    Returns\n",
    "    ----------\n",
    "    E_Elc_tv_led_d_t : ndarray(N-dimensional array)\n",
    "        1年間の全時間の家電スケジュールを格納したND配列\n",
    "        d日t時の家電スケジュールが年開始時から8760個連続して格納されている\n",
    "    \"\"\"\n",
    "    \n",
    "    df = pd.read_csv('HEA_schedule_sample.csv', encoding='SHIFT_JIS')\n",
    "    ds = df['MDコンポ_4人世帯_待機']\n",
    "    schedule_2_d_t = ds.values\n",
    "    return schedule_2_d_t"
   ]
  },
  {
   "cell_type": "markdown",
   "metadata": {},
   "source": [
    "#### 視聴時の消費電力"
   ]
  },
  {
   "cell_type": "code",
   "execution_count": 7,
   "metadata": {},
   "outputs": [
    {
     "data": {
      "text/plain": [
       "11.200000000000001"
      ]
     },
     "execution_count": 7,
     "metadata": {},
     "output_type": "execute_result"
    }
   ],
   "source": [
    "get_P_Elc_audio_microsystem_with_md_listening(28)"
   ]
  },
  {
   "cell_type": "markdown",
   "metadata": {},
   "source": [
    "#### 待機時の消費電力"
   ]
  },
  {
   "cell_type": "code",
   "execution_count": 8,
   "metadata": {},
   "outputs": [
    {
     "data": {
      "text/plain": [
       "0.2"
      ]
     },
     "execution_count": 8,
     "metadata": {},
     "output_type": "execute_result"
    }
   ],
   "source": [
    "get_P_Elc_audio_microsystem_with_md_standby(0.2)"
   ]
  },
  {
   "cell_type": "markdown",
   "metadata": {},
   "source": [
    "### 時刻別消費電力量"
   ]
  },
  {
   "cell_type": "code",
   "execution_count": 9,
   "metadata": {},
   "outputs": [
    {
     "data": {
      "image/png": "[encoded data removed]",
      "text/plain": [
       "<matplotlib.figure.Figure at 0x216c25b6dd8>"
      ]
     },
     "metadata": {},
     "output_type": "display_data"
    }
   ],
   "source": [
    "t_audio_microsystem_with_md_listening_d_t = import_schedule_1_d_t()\n",
    "t_audio_microsystem_with_md_standby_d_t = import_schedule_2_d_t()\n",
    "\n",
    "x = np.arange(8760)\n",
    "y = get_E_Elc_audio_microsystem_with_md_d_t(28, 0.2, t_audio_microsystem_with_md_listening_d_t, t_audio_microsystem_with_md_standby_d_t)\n",
    "\n",
    "plt.figure(figsize=(9,2))\n",
    "plt.subplot(1,1,1)\n",
    "plt.plot(x, y, label=\"kWh\")\n",
    "\n",
    "plt.grid(True)\n",
    "\n",
    "plt.title(\"hours/kWh\")\n",
    "plt.xlabel(\"hours\")\n",
    "plt.ylabel(\"kWh\")\n",
    "\n",
    "plt.xlim(0,8760)\n",
    "plt.ylim(0,)\n",
    "\n",
    "plt.legend()\n",
    "plt.show()"
   ]
  },
  {
   "cell_type": "markdown",
   "metadata": {},
   "source": [
    "### 省エネ基準との比較用時刻別消費電力量の書き出し"
   ]
  },
  {
   "cell_type": "code",
   "execution_count": 10,
   "metadata": {
    "collapsed": true
   },
   "outputs": [],
   "source": [
    "n = 1\n",
    "df = pd.read_csv('HEA_schedule_sample.csv', encoding='SHIFT_JIS')\n",
    "ds1 = df['MDコンポ_' + str(n) + '人世帯_聴取']\n",
    "ds2 = df['MDコンポ_' + str(n) + '人世帯_待機']\n",
    "\n",
    "dat = get_E_Elc_audio_microsystem_with_md_d_t(28, 0.2, ds1, ds2)\n",
    "\n",
    "np.savetxt('MD' + str(n) + '.csv',dat,delimiter=',',fmt = \" %s \")"
   ]
  },
  {
   "cell_type": "code",
   "execution_count": 11,
   "metadata": {
    "collapsed": true
   },
   "outputs": [],
   "source": [
    "n = 2\n",
    "df = pd.read_csv('HEA_schedule_sample.csv', encoding='SHIFT_JIS')\n",
    "ds1 = df['MDコンポ_' + str(n) + '人世帯_聴取']\n",
    "ds2 = df['MDコンポ_' + str(n) + '人世帯_待機']\n",
    "\n",
    "dat = get_E_Elc_audio_microsystem_with_md_d_t(28, 0.2, ds1, ds2)\n",
    "\n",
    "np.savetxt('MD' + str(n) + '.csv',dat,delimiter=',',fmt = \" %s \")"
   ]
  },
  {
   "cell_type": "code",
   "execution_count": 12,
   "metadata": {
    "collapsed": true
   },
   "outputs": [],
   "source": [
    "n = 3\n",
    "df = pd.read_csv('HEA_schedule_sample.csv', encoding='SHIFT_JIS')\n",
    "ds1 = df['MDコンポ_' + str(n) + '人世帯_聴取']\n",
    "ds2 = df['MDコンポ_' + str(n) + '人世帯_待機']\n",
    "\n",
    "dat = get_E_Elc_audio_microsystem_with_md_d_t(28, 0.2, ds1, ds2)\n",
    "\n",
    "np.savetxt('MD' + str(n) + '.csv',dat,delimiter=',',fmt = \" %s \")"
   ]
  },
  {
   "cell_type": "code",
   "execution_count": 13,
   "metadata": {
    "collapsed": true
   },
   "outputs": [],
   "source": [
    "n = 4\n",
    "df = pd.read_csv('HEA_schedule_sample.csv', encoding='SHIFT_JIS')\n",
    "ds1 = df['MDコンポ_' + str(n) + '人世帯_聴取']\n",
    "ds2 = df['MDコンポ_' + str(n) + '人世帯_待機']\n",
    "\n",
    "dat = get_E_Elc_audio_microsystem_with_md_d_t(28, 0.2, ds1, ds2)\n",
    "\n",
    "np.savetxt('MD' + str(n) + '.csv',dat,delimiter=',',fmt = \" %s \")"
   ]
  }
 ],
 "metadata": {
  "kernelspec": {
   "display_name": "Python 3",
   "language": "python",
   "name": "python3"
  },
  "language_info": {
   "codemirror_mode": {
    "name": "ipython",
    "version": 3
   },
   "file_extension": ".py",
   "mimetype": "text/x-python",
   "name": "python",
   "nbconvert_exporter": "python",
   "pygments_lexer": "ipython3",
   "version": "3.6.3"
  }
 },
 "nbformat": 4,
 "nbformat_minor": 2
}
