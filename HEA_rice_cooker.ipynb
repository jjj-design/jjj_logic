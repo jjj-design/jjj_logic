{
 "cells": [
  {
   "cell_type": "code",
   "execution_count": 1,
   "metadata": {
    "collapsed": true
   },
   "outputs": [],
   "source": [
    "import numpy as np\n",
    "import pandas as pd\n",
    "import matplotlib.pyplot as plt"
   ]
  },
  {
   "cell_type": "markdown",
   "metadata": {},
   "source": [
    "# 家電  "
   ]
  },
  {
   "cell_type": "markdown",
   "metadata": {},
   "source": [
    "## 電気炊飯器"
   ]
  },
  {
   "cell_type": "markdown",
   "metadata": {},
   "source": [
    "### 時刻別消費電力量\n",
    "$$\n",
    "E_{ Elc, rice-cooker, d, t } = ( P_{ Elc, rice-cooker, cook } \\times t_{ rice-cooker, cook, d, t } + P_{ Elc, rice-cooker, keep } \\times t_{ rice-cooker, keep, d, t }  ) \\times 10^{ -3 }\n",
    "$$\n",
    "\n",
    "$ E_{ Elc, rice-cooker, d, t } $：日付dの時刻tにおける消費電力量,kWh  \n",
    "$ P_{ Elc, rice-cooker, cook } $：炊飯時の消費電力,W  \n",
    "$ t_{ rice-cooker, cook, d, t } $：日付dの時刻tにおける炊飯時間,h  \n",
    "$ P_{ Elc, rice-cooker, keep } $：保温時の消費電力,W  \n",
    "$ t_{ rice-cooker, keep, d, t } $：日付dの時刻tにおける保温時間,h  \n",
    "$ 10^{ -3 } $：単位換算,Wh -> kWh"
   ]
  },
  {
   "cell_type": "code",
   "execution_count": 2,
   "metadata": {
    "collapsed": true
   },
   "outputs": [],
   "source": [
    "def get_E_Elc_rice_cooker_d_t(t_rice_cooker_cook, P_Elc_rice_cooker_rtd, N_cup_of_rice, E_Elc_rice_cooker_keep, t_rice_cooker_cook_d_t, t_rice_cooker_keep_d_t ):\n",
    "    \"\"\"時刻別消費電力量を計算する\n",
    "    \n",
    "    Parameters\n",
    "    ----------\n",
    "    t_rice_cooker_cook : float\n",
    "        炊飯1回当たりの時間(54.19/60), h\n",
    "    \n",
    "    P_Elc_rice_cooker_rtd : float\n",
    "        定格消費電力, W\n",
    "        \n",
    "    N_cup_of_rice : float\n",
    "        炊飯号数, 合\n",
    "        \n",
    "    E_Elc_rice_cooker_keep : float\n",
    "        保温時の消費電力量, Wh\n",
    "    \n",
    "    t_rice_cooker_cook_d_t : ndarray(N-dimensional array)\n",
    "        1年間の全時間の炊飯時間を格納したND配列, h\n",
    "        d日t時の炊飯時間が年開始時から8760個連続して格納されている\n",
    "\n",
    "    t_rice_cooker_keep_d_t : ndarray(N-dimensional array)\n",
    "        1年間の全時間の保温時間を格納したND配列, h\n",
    "        d日t時の保温時間が年開始時から8760個連続して格納されている\n",
    "    \n",
    "    Returns\n",
    "    ----------\n",
    "    E_Elc_rice_cooker_d_t : ndarray(N-dimensional array)\n",
    "        1年間の全時間の消費電力量を格納したND配列, Wh\n",
    "        d日t時の消費電力量が年開始時から8760個連続して格納されている\n",
    "    \"\"\"    \n",
    "    \n",
    "    P_Elc_rice_cooker_cook = get_P_Elc_rice_cooker_cook(t_rice_cooker_cook, P_Elc_rice_cooker_rtd, N_cup_of_rice)\n",
    "    P_Elc_rice_cooker_keep = get_P_Elc_rice_cooker_keep(E_Elc_rice_cooker_keep)\n",
    "    \n",
    "    E_Elc_rice_cooker_d_t = P_Elc_rice_cooker_cook * t_rice_cooker_cook_d_t \\\n",
    "                          + P_Elc_rice_cooker_keep * t_rice_cooker_keep_d_t\n",
    "        \n",
    "    E_Elc_rice_cooker_d_t = E_Elc_rice_cooker_d_t * 10**(-3)\n",
    "    \n",
    "    return E_Elc_rice_cooker_d_t"
   ]
  },
  {
   "cell_type": "markdown",
   "metadata": {},
   "source": [
    "### 動作別の消費電力"
   ]
  },
  {
   "cell_type": "markdown",
   "metadata": {},
   "source": [
    "#### 炊飯時の消費電力  \n",
    "$$\n",
    "P_{ Elc, rice-cooker, cook } = \\frac { E_{ Elc, rice-cooker, cook } } { t_{ Elc, rice-cooker, cook } }\n",
    "$$\n",
    "$$\n",
    "E_{ Elc, rice-cooker, cook } = 0.029 \\times P_{ Elc, rice-cooker, rtd } + ( 32.414 \\times N_{ cup-of-rice } + 58.745)\n",
    "$$\n",
    "\n",
    "$ E_{ Elc, rice-cooker, cook } $：炊飯1回あたりの消費電力量,Wh  \n",
    "$ t_{ rice-cooker, cook } $：炊飯1回当たりの時間( = $ \\frac{ 54.19 }{ 60 } $),h  \n",
    "$ P_{ Elc, rice-cooker, rtd } $：定格待機電力,W  \n",
    "$ N_{ cup-of-rice } $：炊飯合数,合"
   ]
  },
  {
   "cell_type": "code",
   "execution_count": 3,
   "metadata": {},
   "outputs": [],
   "source": [
    "def get_P_Elc_rice_cooker_cook(t_rice_cooker_cook, P_Elc_rice_cooker_rtd, N_cup_of_rice):\n",
    "    \"\"\"炊飯時の消費電力を計算する\n",
    "    \n",
    "    Parameters\n",
    "    ----------\n",
    "    t_rice_cooker_cook : float\n",
    "        炊飯1回当たりの時間(54.19/60), h\n",
    "    \n",
    "    P_Elc_rice_cooker_rtd : float\n",
    "        定格消費電力, W\n",
    "        \n",
    "    N_cup_of_rice : float\n",
    "        炊飯号数, 合\n",
    "        \n",
    "    Returns\n",
    "    ----------\n",
    "    P_Elc_rice_cooker_cook  : float\n",
    "        炊飯時の消費電力, W\n",
    "    \"\"\"\n",
    "    \n",
    "    \n",
    "    E_Elc_rice_cooker_cook = 0.029 * P_Elc_rice_cooker_rtd \\\n",
    "                           + ( 32.414 * N_cup_of_rice + 58.745)\n",
    "    \n",
    "    # /試算結果_家電の電力消費量.xlsx　に合わせるための処理\n",
    "    t_rice_cooker_cook = 143.30775 * 60 / E_Elc_rice_cooker_cook\n",
    "    t_rice_cooker_cook = t_rice_cooker_cook / 60\n",
    "    # 試算結果_家電の電力消費量.xlsx　に合わせるための処理/\n",
    "    \n",
    "    \n",
    "    P_Elc_rice_cooker_cook = E_Elc_rice_cooker_cook * t_rice_cooker_cook\n",
    "        \n",
    "    return P_Elc_rice_cooker_cook"
   ]
  },
  {
   "cell_type": "markdown",
   "metadata": {},
   "source": [
    "#### 保温時の消費電力  \n",
    "$$\n",
    "P_{ Elc, rice-cooker, keep } = \\frac { E_{ Elc, rice-cooker, keep } } { 1 }\n",
    "$$\n",
    "\n",
    "$ E_{ Elc, rice-cooker, keep } $：保温時の消費電力量,Wh  \n",
    "$ 1 $：1時間(消費電力量を消費電力に換算するための値),h"
   ]
  },
  {
   "cell_type": "code",
   "execution_count": 4,
   "metadata": {
    "collapsed": true
   },
   "outputs": [],
   "source": [
    "def get_P_Elc_rice_cooker_keep(E_Elc_rice_cooker_keep):\n",
    "    \"\"\"保温時の消費電力を計算する\n",
    "    \n",
    "    Parameters\n",
    "    ----------\n",
    "    E_Elc_rice_cooker_keep : float\n",
    "        保温時の消費電力量, Wh\n",
    "                \n",
    "    Returns\n",
    "    ----------\n",
    "    P_Elc_rice_cooker_keep : float\n",
    "        保温時の消費電力, W\n",
    "    \"\"\"\n",
    "    \n",
    "    P_Elc_rice_cooker_keep = E_Elc_rice_cooker_keep / 1\n",
    "        \n",
    "    return P_Elc_rice_cooker_keep"
   ]
  },
  {
   "cell_type": "markdown",
   "metadata": {},
   "source": [
    "## サンプル計算"
   ]
  },
  {
   "cell_type": "markdown",
   "metadata": {},
   "source": [
    "### 家電スケジュールの読み込み\n",
    "ここでは、サンプルデータをcsvファイルから読み込む"
   ]
  },
  {
   "cell_type": "code",
   "execution_count": 5,
   "metadata": {
    "collapsed": true
   },
   "outputs": [],
   "source": [
    "def import_schedule_1_d_t() -> np.ndarray:\n",
    "    \"\"\"家電スケジュールを外部CSVファイルからND配列に読み込む\n",
    "    \n",
    "    Returns\n",
    "    ----------\n",
    "    E_Elc_tv_led_d_t : ndarray(N-dimensional array)\n",
    "        1年間の全時間の家電スケジュールを格納したND配列\n",
    "        d日t時の家電スケジュールが年開始時から8760個連続して格納されている\n",
    "    \"\"\"\n",
    "    \n",
    "    df = pd.read_csv('HEA_schedule_sample.csv', encoding='SHIFT_JIS')\n",
    "    ds = df['電気炊飯器_4人世帯_炊飯']\n",
    "    schedule_1_d_t = ds.values\n",
    "    return schedule_1_d_t"
   ]
  },
  {
   "cell_type": "code",
   "execution_count": 6,
   "metadata": {
    "collapsed": true
   },
   "outputs": [],
   "source": [
    "def import_schedule_2_d_t() -> np.ndarray:\n",
    "    \"\"\"家電スケジュールを外部CSVファイルからND配列に読み込む\n",
    "    \n",
    "    Returns\n",
    "    ----------\n",
    "    E_Elc_tv_led_d_t : ndarray(N-dimensional array)\n",
    "        1年間の全時間の家電スケジュールを格納したND配列\n",
    "        d日t時の家電スケジュールが年開始時から8760個連続して格納されている\n",
    "    \"\"\"\n",
    "    \n",
    "    df = pd.read_csv('HEA_schedule_sample.csv', encoding='SHIFT_JIS')\n",
    "    ds = df['電気炊飯器_4人世帯_保温']\n",
    "    schedule_2_d_t = ds.values\n",
    "    return schedule_2_d_t"
   ]
  },
  {
   "cell_type": "markdown",
   "metadata": {},
   "source": [
    "#### 炊飯時の消費電力"
   ]
  },
  {
   "cell_type": "code",
   "execution_count": 7,
   "metadata": {},
   "outputs": [
    {
     "data": {
      "text/plain": [
       "143.30775"
      ]
     },
     "execution_count": 7,
     "metadata": {},
     "output_type": "execute_result"
    }
   ],
   "source": [
    "get_P_Elc_rice_cooker_cook(54.19/60, 1210, 2)"
   ]
  },
  {
   "cell_type": "markdown",
   "metadata": {},
   "source": [
    "#### 保温時の消費電力"
   ]
  },
  {
   "cell_type": "code",
   "execution_count": 8,
   "metadata": {},
   "outputs": [
    {
     "data": {
      "text/plain": [
       "15.1"
      ]
     },
     "execution_count": 8,
     "metadata": {},
     "output_type": "execute_result"
    }
   ],
   "source": [
    "get_P_Elc_rice_cooker_keep(15.1)"
   ]
  },
  {
   "cell_type": "markdown",
   "metadata": {},
   "source": [
    "### 時刻別消費電力量"
   ]
  },
  {
   "cell_type": "code",
   "execution_count": 9,
   "metadata": {},
   "outputs": [
    {
     "data": {
      "image/png": "[encoded data removed]",
      "text/plain": [
       "<matplotlib.figure.Figure at 0x18d8691bcc0>"
      ]
     },
     "metadata": {},
     "output_type": "display_data"
    }
   ],
   "source": [
    "t_rice_cooker_cook_d_t = import_schedule_1_d_t()\n",
    "t_rice_cooker_keep_d_t = import_schedule_2_d_t()\n",
    "\n",
    "x = np.arange(8760)\n",
    "y = get_E_Elc_rice_cooker_d_t(54.19/60, 1210, 2, 15.1, t_rice_cooker_cook_d_t, t_rice_cooker_keep_d_t)\n",
    "\n",
    "plt.figure(figsize=(9,2))\n",
    "plt.subplot(1,1,1)\n",
    "plt.plot(x, y, label=\"kWh\")\n",
    "\n",
    "plt.grid(True)\n",
    "\n",
    "plt.title(\"hours/kWh\")\n",
    "plt.xlabel(\"hours\")\n",
    "plt.ylabel(\"kWh\")\n",
    "\n",
    "plt.xlim(0,8760)\n",
    "plt.ylim(0,)\n",
    "\n",
    "plt.legend()\n",
    "plt.show()"
   ]
  },
  {
   "cell_type": "markdown",
   "metadata": {},
   "source": [
    "### 省エネ基準との比較用時刻別消費電力量の書き出し"
   ]
  },
  {
   "cell_type": "code",
   "execution_count": 10,
   "metadata": {},
   "outputs": [],
   "source": [
    "t_rice_cooker_cook_d_t = import_schedule_1_d_t()\n",
    "t_rice_cooker_keep_d_t = import_schedule_2_d_t()\n",
    "\n",
    "dat = get_E_Elc_rice_cooker_d_t(54.19/60, 1210, 2, 15.1, t_rice_cooker_cook_d_t, t_rice_cooker_keep_d_t)\n",
    "\n",
    "np.savetxt('tmp.csv',dat,delimiter=',',fmt = \" %s \")"
   ]
  }
 ],
 "metadata": {
  "kernelspec": {
   "display_name": "Python 3",
   "language": "python",
   "name": "python3"
  },
  "language_info": {
   "codemirror_mode": {
    "name": "ipython",
    "version": 3
   },
   "file_extension": ".py",
   "mimetype": "text/x-python",
   "name": "python",
   "nbconvert_exporter": "python",
   "pygments_lexer": "ipython3",
   "version": "3.6.3"
  }
 },
 "nbformat": 4,
 "nbformat_minor": 2
}
